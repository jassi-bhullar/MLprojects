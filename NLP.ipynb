{
 "cells": [
  {
   "cell_type": "code",
   "execution_count": 48,
   "metadata": {},
   "outputs": [],
   "source": [
    "jennifer = \"\"\"Jennifer Shrader Lawrence (born August 15, 1990) is an American actress. Her films have grossed over $6 billion worldwide, and she was the highest-paid actress in the world in 2015 and 2016. Lawrence appeared in Time's 100 most influential people in the world list in 2013 and in the Forbes Celebrity 100 list in 2014 and 2016.\n",
    "\n",
    "During her childhood, Lawrence performed in church plays and school musicals. At age 14, she was spotted by a talent scout while vacationing in New York City with her family. Lawrence then moved to Los Angeles and began her acting career by playing guest roles in television shows. Her first major role came as a main cast member on the sitcom The Bill Engvall Show (2007–2009). Lawrence made her film debut in a supporting role in the drama Garden Party (2008), and had her breakthrough playing a poverty-stricken teenager in the independent drama Winter's Bone (2010). She achieved wider recognition for her starring role as the mutant Mystique / Raven Darkhölme in the X-Men film series (2011–2019).\n",
    "\n",
    "Lawrence's career progressed with her starring role as Katniss Everdeen in the Hunger Games film series (2012–2015), which established her as the highest-grossing action heroine of all time. She went on to earn accolades for her collaborations with director David O. Russell. Her performance as a depressed young widow in the romance film Silver Linings Playbook (2012) earned her an Academy Award for Best Actress, making her the second-youngest winner of the award. Lawrence subsequently won a BAFTA Award for Best Actress in a Supporting Role for playing a troubled wife in the black comedy American Hustle (2013). She also received Golden Globe Awards for her roles in both of these films, and for her lead performance as Joy Mangano in the biopic Joy (2015). She has since starred in the science fiction romance Passengers (2016), the psychological horror film Mother! (2017), and the spy thriller Red Sparrow (2018).\n",
    "\n",
    "Lawrence formed the production company Excellent Cadaver in 2018. She is an outspoken feminist and has advocated for Planned Parenthood. In 2015, she founded the Jennifer Lawrence Foundation, which has advocated for the Boys & Girls Clubs of America and the Special Olympics.\n",
    "Contents\n",
    "\n",
    "    1 Early life\n",
    "    2 Career\n",
    "        2.1 2006–2010: Career beginnings and breakthrough\n",
    "        2.2 2011–2013: Film series and awards success\n",
    "        2.3 2014–present: Established actress\n",
    "            2.3.1 Upcoming projects\n",
    "    3 Personal life\n",
    "    4 Off-screen work\n",
    "    5 In the media\n",
    "    6 Filmography\n",
    "        6.1 Film\n",
    "        6.2 Television\n",
    "        6.3 Music video\n",
    "    7 Accolades\n",
    "    8 See also\n",
    "    9 References\n",
    "    10 External links\n",
    "\n",
    "Early life\n",
    "\n",
    "Jennifer Shrader Lawrence was born on August 15, 1990 in Indian Hills, Kentucky, to Gary, a construction worker, and Karen (née Koch), a summer camp manager.[1][2] She has two older brothers, Ben and Blaine,[2] and her mother brought her up to be \"tough\" like them. Karen did not allow her daughter to play with other girls in preschool as she deemed her \"too rough\" with them.[3] Lawrence was educated at the Kammerer Middle School in Louisville.[3] She did not enjoy her childhood due to hyperactivity and social anxiety and considered herself a misfit among her peers.[2][4] Lawrence has said that her anxieties vanished when she performed on stage and that acting gave her a sense of accomplishment.[4]\n",
    "\n",
    "Lawrence's school activities included cheerleading, softball, field hockey and basketball, which she played on a boys' team that was coached by her father.[3] While growing up, she was fond of horseback riding and frequently visited a local horse farm.[5] She has an injured tailbone as a result of being thrown from a horse.[6] When her father worked from home, she performed for him, often dressing up as a clown or ballerina.[7] She had her first acting assignment at age nine when she played the role of a prostitute in a church play that was based on the Book of Jonah. For the next few years, she continued to take parts in church plays and school musicals.[3]\n",
    "\n",
    "Lawrence was fourteen and on a family vacation in New York City when she was spotted on the street by a talent scout who arranged for her to audition for talent agents.[8][9] Karen was not keen on allowing her daughter to pursue an acting career, but she briefly moved her family to New York to let her read for roles.[3] After Lawrence's first cold reading, the agents said that hers was the best they had heard from someone that young; Lawrence's mother convinced her that they were lying.[9] Lawrence said her early experiences were difficult because she felt lonely and friendless.[3] She signed on with the CESD Talent Agency, who convinced her parents to let her audition for roles in Los Angeles. While her mother encouraged her to go into modelling, Lawrence insisted on pursuing acting.[10] At that time, she considered acting to be a natural fit for her abilities, and she turned down several offers for modeling assignments.[8] Lawrence dropped out of school at age 14 without receiving a GED or a diploma. She has said that she was \"self-educated\" and that her career was her priority.[11] Between her acting jobs in the city, she made regular visits to Louisville, where she served as an assistant nurse at her mother's camp.[12]\n",
    "Career\n",
    "2006–2010: Career beginnings and breakthrough\n",
    "\n",
    "Lawrence began her acting career with a minor role in the television film Company Town (2006). She followed it with guest roles in several television shows, including Monk (2006) and Medium (2007).[13] These parts led to her being cast as a series regular on the TBS sitcom The Bill Engvall Show, in which she played Lauren, the rebellious teenage daughter of a family living in suburban Louisville, Colorado.[13] The series premiered in 2007 and ran for three seasons.[14] Tom Shales of The Washington Post considered her a scene stealer in her part, and David Hinckley of the New York Daily News wrote that she was successful in \"deliver[ing] the perpetual exasperation of teenage girls\".[15][16] Lawrence won a Young Artist Award for Outstanding Young Performer in a TV Series for the role in 2009.[17]\n",
    "Lawrence looking away from the camera\n",
    "Lawrence at the 83rd Academy Awards in 2011, where she received her first Best Actress nomination for Winter's Bone\n",
    "\n",
    "Lawrence made her film debut in the 2008 drama film Garden Party, in which she played a troubled teenager named Tiff.[18] She then appeared in director Guillermo Arriaga's feature film debut The Burning Plain (2008), a drama narrated in a hyperlink format. She was cast as the teenage daughter of Kim Basinger's character who discovers her mother's extramarital affair—a role she shared with Charlize Theron; both actresses portrayed the role at different stages of the character's life. Mark Feeney for The Boston Globe thought of Lawrence's performance as \"a thankless task\", but Derek Elley from Variety praised her as the production's prime asset, writing that she \"plumbs fresher depths\" into the film.[19][20] Her performance earned her the Marcello Mastroianni Award for Best Emerging Actress at the Venice Film Festival.[21] Also that year, she appeared in the music video for the song \"The Mess I Made\" by Parachute.[22] The following year, she starred in Lori Petty's drama The Poker House as the oldest of three sisters living with a drug-abusing mother.[23][24] Stephen Farber of The Hollywood Reporter thought that Lawrence \"has a touching poise on camera that conveys the resilience of children\", and her role in The Poker House won an Outstanding Performance award from the Los Angeles Film Festival.[25][26]\n",
    "\n",
    "Lawrence's breakthrough role came in the small-scale drama Winter's Bone (2010), based on Daniel Woodrell's novel of the same name. In Debra Granik's independent feature, she portrayed Ree Dolly, a poverty-stricken teenager in the Ozark Mountains who cares for her mentally ill mother and younger siblings while searching for her missing father. Lawrence traveled to the Ozarks a week before filming began to live with the family on whom the story was based, and in preparation, she learned to fight, skin squirrels, and chop wood.[27][28] David Denby of The New Yorker said the film \"would be unimaginable with anyone less charismatic\",[29] and Peter Travers of Rolling Stone wrote that \"her performance is more than acting, it's a gathering storm. Lawrence's eyes are a roadmap to what's tearing Ree apart.\"[30] The production won the Grand Jury Prize at the Sundance Film Festival.[31] The actress was awarded the National Board of Review Award for Breakthrough Performance, and with her first nomination for the Academy Award for Best Actress, she became the second youngest person to be nominated in the category.[32]\n",
    "2011–2013: Film series and awards success\n",
    "\n",
    "In 2011, Lawrence took on a supporting role in Like Crazy, a romantic drama about long-distance relationships, starring Anton Yelchin and Felicity Jones.[33] Kenneth Turan of the Los Angeles Times considered the film to be an \"intensely wrought and immensely satisfying love story\" and credited all three performers for \"making their [characters'] yearning palpable\".[34] She then appeared in Jodie Foster's black comedy The Beaver alongside Foster and Mel Gibson. Filmed in 2009, the production was delayed due to controversy concerning Gibson, and earned less than half of its $21 million budget.[35][36]\n",
    "\n",
    "After her dramatic role in Winter's Bone, Lawrence looked for something less serious, and found it with her first high-profile release—Matthew Vaughn's superhero film X-Men: First Class (2011)—a prequel to the X-Men film series.[37] She portrayed the shapeshifting mutant Mystique, a role played by Rebecca Romijn in the earlier films.[38] Vaughn cast Lawrence, as he thought that she would be able to portray the weakness and strength involved in the character's transformation.[39] For the part, Lawrence lost weight and practiced yoga.[40] For Mystique's blue form, she had to undergo eight hours of makeup, as Romijn had done on the other films.[41] She was intimidated in the role as she admired Romijn.[42] Writing for USA Today, Claudia Puig considered the film to be a \"classy re-boot\" of the film series, and believed that her \"high-spirited performance\" empowered the film.[43] With worldwide earnings of $350 million, X-Men: First Class became Lawrence's highest-grossing film at that point.[44]\n",
    "Actress Jennifer Lawrence attending the 2012 Toronto International Film Festival\n",
    "Lawrence at the 2012 Toronto International Film Festival\n",
    "\n",
    "In 2012 she played Katniss Everdeen in The Hunger Games, an adaptation of the first book in author Suzanne Collins' Hunger Games trilogy. Set in a post-apocalyptic future, the series tells the story of the teenage heroine Everdeen as she joins rebel forces against a totalitarian government after winning a brutal televised annual event. Despite being an admirer of the books, Lawrence was initially hesitant to accept the part, because of the grand scale of the film. She agreed to the project after her mother convinced her to take the part.[45] She practiced yoga, archery, rock and tree climbing, and hand-to-hand combat techniques for the role.[3][46][47] While training for the part, she injured herself running into a wall.[48] The film received generally positive reviews, and Lawrence's portrayal of Everdeen was particularly praised.[49] Todd McCarthy of The Hollywood Reporter called her an \"ideal screen actress\", adding that she embodies the Everdeen of the novel, and believed that she anchored the film \"with impressive gravity and presence\".[50] Roger Ebert agreed that she was \"strong and convincing in the central role\".[51] With worldwide revenues of over $690 million,[44] The Hunger Games became a top-grossing film featuring a female lead,[52] making Lawrence the highest-grossing action heroine of all time.[53] The success of the film established her as a star.[54]\n",
    "\n",
    "Later in 2012, Lawrence played a young widow with borderline personality disorder named Tiffany Maxwell in David O. Russell's romance movie Silver Linings Playbook. The film was an adaptation of Matthew Quick's novel of the same name. It follows her character finding companionship with Pat Solitano Jr. (played by Bradley Cooper), a man with bipolar disorder.[55][56] The actress was drawn to her character's complex personality: \"She didn't really fit any basic kind of character profile. Somebody who is very forceful and bullheaded is normally very insecure, but she isn't\".[57] While Russell initially considered Lawrence to be too young for the part, she convinced him to hire her via a Skype audition.[45] The actress found herself challenged by Russell's spontaneity as a director, and described working on the project as the \"best experience of my life\".[45] Richard Corliss of Time wrote: \"Just 21 when the movie was shot, Lawrence is that rare young actress who plays, who is, grown-up. Sullen and sultry, she lends a mature intelligence to any role.\"[58] Peter Travers believed that Lawrence \"is some kind of miracle. She's rude, dirty, funny, foulmouthed, sloppy, sexy, vibrant, and vulnerable, sometimes all in the same scene, even in the same breath.\"[59] She won the Golden Globe and Academy Award for Best Actress for her performance, becoming—at age 22—the second youngest Best Actress winner.[60] Her final film of the year was alongside Max Thieriot and Elisabeth Shue in Mark Tonderai's critically panned thriller House at the End of the Street.[61]\n",
    "\n",
    "In January 2013, Lawrence hosted an episode of Saturday Night Live, with musical guest The Lumineers.[62] The Devil You Know, a small-scale production that Lawrence had filmed for in 2005, was her first release of 2013.[63] She then reprised the role of Everdeen in The Hunger Games: Catching Fire, the second installment in the Hunger Games film series.[64] While performing the film's underwater stunts, she suffered from an ear infection that resulted in a brief loss of hearing.[48] With box office earnings of $865 million, the film remains her highest-grossing release.[44] Stephanie Zacharek of The Village Voice believed that Lawrence's portrayal of Everdeen made her an ideal role model, and wrote that \"there's no sanctimony or pretense of false modesty in the way Lawrence plays her\".[65] She took on a supporting role in Russell's ensemble crime drama American Hustle (2013) as Rosalyn Rosenfeld, the neurotic wife of con man Irving Rosenfeld (portrayed by Christian Bale). Inspired by the Federal Bureau of Investigation's Abscam sting operation, the film is set against the backdrop of political corruption in 1970s New Jersey.[66][67] Lawrence did little research for the part, and based her performance on knowledge of the era from the films and television shows she had seen.[54] Geoffrey Macnab of The Independent praised her as \"funny and acerbic\", especially for an improvised scene in which she aggressively kisses her husband's mistress (played by Amy Adams) on the lips.[66] Lawrence's performance won her the Golden Globe and BAFTA Award for Best Supporting Actress, in addition to a third Academy Award nomination, her first in the supporting category.[68]\n",
    "2014–present: Established actress\n",
    "\n",
    "Lawrence played Serena Pemberton in Susanne Bier's depression-era drama Serena (2014), based on the novel of the same name by Ron Rash. In the film, she and her husband George (portrayed by Bradley Cooper) become involved in criminal activities after realizing that they cannot bear children.[69] The project was filmed in 2012, and was released in 2014 to poor reviews.[70][71] Lawrence then reprised the role of Mystique in X-Men: Days of Future Past, which served as a sequel to both X-Men: The Last Stand (2006) and X-Men: First Class (2011). The film received positive reviews and grossed $748.1 million worldwide, becoming the highest-grossing film in the X-Men series to that point.[72][73] Justin Chang of Variety praised her look in the film but thought that she had little to do but \"glower, snarl and let the f/x artists do their thing\".[74] Lawrence's next two releases were in the final parts of The Hunger Games film series, Mockingjay – Part 1 (2014) and Part 2 (2015).[75] For the musical score of the former film, she sang the song \"The Hanging Tree\",[76] which charted on multiple international singles charts.[77] In a review of the final film in the series, Manohla Dargis of The New York Times drew similarities between her rise to stardom and Everdeen's journey as a rebel leader, writing: \"Lawrence now inhabits the role as effortlessly as breathing, partly because, like all great stars, she seems to be playing a version of her 'real' self\".[78] Both films earned more than $650 million worldwide.[44]\n",
    "An upper-body shot of Jennifer Lawrence\n",
    "Lawrence promoting Red Sparrow in 2018\n",
    "\n",
    "Lawrence worked with Russell for the third time in the biopic Joy (2015), in which she plays the eponymous character, a troubled single mother who becomes a successful businessperson after inventing the Miracle Mop.[79] During production in Boston, the press reported on a disagreement between Russell and Lawrence that resulted in a \"screaming match\". She said that her friendship with Russell made it easier for them to disagree, because people fight when they really love each other.[80] The film was not as well received as their previous collaborations, but her performance was praised.[81] Richard Roeper called it \"a wonderfully layered performance that carries the film through its rough spots and sometime dubious detours\" that was her best since Winter's Bone.[82] She won a third Golden Globe Award, and was nominated for another Academy Award for Best Actress, becoming the youngest person to accrue four Oscar nominations.[83] Lawrence began 2016 by providing the narration for A Beautiful Planet, a documentary film that explores Earth from the International Space Station.[84] She played Mystique for the third time in X-Men: Apocalypse (2016). The film received mixed reviews, with a consensus that it was overfilled with action that detracted from the story's themes and cast's performances.[85] Helen O'Hara from Empire considered the film to be a letdown from the previous installments of the series, and criticized the actress for making her character too grim.[86] Despite this, she was rewarded Favorite Movie Actress at the 43rd People's Choice Awards.[87]\n",
    "\n",
    "Lawrence was paid $20 million for playing Aurora Lane in the science fiction film Passengers (2016), and she received top-billing over co-star Chris Pratt.[88][89] It features Pratt and her as two people who wake up 90 years too soon from an induced hibernation on a spaceship bound for a new planet. Lawrence says that she felt nervous performing her first sex scene and kissing a married man (Pratt) on screen; she drank alcohol to prepare herself for filming.[90] Critical reaction was mixed, but Lawrence defended the film by calling it a \"tainted, complicated love story\".[91][92] Darren Aronofsky's psychological horror film Mother! was Lawrence's sole release of 2017. She starred as a young wife who experiences trauma when her home is invaded by unexpected guests. Lawrence spent three months rehearsing the film in a warehouse in Brooklyn, despite her reluctance to rehearsals in her previous assignments.[93] The intense role proved difficult for her to film; she was put on supplemental oxygen when she hyperventilated one day, and she also dislocated a rib.[93] Mother! polarized viewers and prompted mass walkouts.[94] The film was better received by critics;[95] Walter Addiego of the San Francisco Chronicle labelled it \"assaultive\" and a \"deliberate test of audience endurance\", and credited Lawrence for \"never allow[ing] herself to be reduced simply to a howling victim\".[96]\n",
    "\n",
    "The following year, Lawrence starred as Dominika Egorova, a Russian spy who makes contact with a mysterious CIA agent (played by Joel Edgerton), in Francis Lawrence's espionage thriller Red Sparrow, based on Jason Matthews' novel of the same name.[97] She learned to speak in a Russian accent and undertook ballet training for four months.[98] Lawrence was challenged by the sexuality in her role, but has said that performing the nude scenes made her feel empowered.[99] IndieWire's Eric Kohn disliked the film's denouement, but praised the work of Lawrence and Charlotte Rampling, stating that \"the considerable talent on display is [the film's] constant saving grace.\"[100] A year later, Lawrence made her fourth and final appearance as Mystique, in Dark Phoenix, which received poor reviews and emerged as a box-office bomb.[101][102]\n",
    "Upcoming projects\n",
    "\n",
    "In June 2019, Lawrence began production on an as-yet untitled film directed by Lila Neugebauer, which will be distributed by A24.[103] She will additionally produce a film adaptation of Hannah Kent's novel Burial Rites and star as Agnes Magnúsdóttir, the last woman to be executed for murder in Iceland.[104] She and Amy Schumer have written a screenplay for a film in which they will star.[105] However, Schumer later revealed the project was on the \"back burner\".[106]\n",
    "Personal life\n",
    "\n",
    "While filming X-Men: First Class in 2010, Lawrence began a romantic relationship with her co-star Nicholas Hoult. The couple broke up around the time they wrapped X-Men: Days of Future Past in 2014.[107][108] Also that year, she was one of the victims of the iCloud leaks of celebrity photos when dozens of self-photographed nude pictures of her were leaked online.[109] Lawrence emphasized that the images were never meant to go public; she called the leak a \"sex crime\" and a \"sexual violation\". She added that viewers of the images should be ashamed of their part in a sexual offense.[110] The actress later stated that her pictures were intended for Hoult, and that unlike other victims of the hack, she did not plan to sue Apple Inc.[107]\n",
    "\n",
    "In September 2016, she began dating director Darren Aronofsky, whom she met during the filming of mother!.[111][112] The couple split in November 2017.[113] In 2018, she began dating Cooke Maroney, an art gallery director, and the couple became engaged in February 2019.[114][115]\n",
    "Off-screen work\n",
    "A side profile of Jennifer Lawrence\n",
    "Lawrence at Tulane University in 2018\n",
    "\n",
    "Lawrence is a supporter of Planned Parenthood,[116] and participated in a June 2017 video against the defunding of the organization.[117] She spoke out against the November 2015 shooting at a Colorado Springs Planned Parenthood clinic.[116] She is a feminist, a concept she argues should not intimidate people \"because it just means equality\".[118] Lawrence promotes body positivity among women.[119] In 2015, she wrote an essay for the Lenny Letter in which she criticized the gender pay gap in Hollywood. She wrote about her own experiences in the industry, such as the lesser salary she received for her work in American Hustle compared to her male co-stars.[120] In a 2015 interview with Vogue, Lawrence criticized Kentucky county clerk Kim Davis for her opposition to same-sex marriage.[80] Lawrence was \"raised a Republican\", but has subsequently criticized the party's stance on women's rights.[80] She has strongly opposed Donald Trump's presidency, stating in 2015 that his election would \"be the end of the world\".[121]\n",
    "\n",
    "Lawrence became a member of the Academy of Motion Picture Arts and Sciences in 2011.[122] She has lent her support to several charitable organizations, such as the World Food Programme, Feeding America, and the Thirst Project.[123] Along with Josh Hutcherson and Liam Hemsworth, her co-stars of The Hunger Games (2012), Lawrence partnered with the United Nations to publicize poverty and hunger.[124] She organized an early screening of The Hunger Games: Catching Fire (2013) to benefit Saint Mary's Center, a disabilities organization in Louisville, and raised more than $40,000 for the cause.[125] She partnered with the charity broadcast network Chideo to raise funds for the 2015 Special Olympics World Summer Games by screening her film Serena (2014).[126] She also collaborated with Omaze to host a fundraising contest for the games as part of the premiere of The Hunger Games: Mockingjay – Part 1 (2014).[127]\n",
    "\n",
    "In 2015, Lawrence teamed with Hutcherson and Hemsworth for Prank It FWD, a charitable initiative to raise money for the non-profit organization Do Something.[128] That year, she also launched the Jennifer Lawrence Foundation, which supports charities such as the Boys & Girls Clubs of America and the Special Olympics.[129] In 2016, she donated $2 million to the Kosair Children's Hospital in Louisville to set up a cardiac intensive care unit named after her foundation.[130] Lawrence is a board member of Represent.Us, a nonprofit seeking to pass anti-corruption laws in the United States.[131] In 2018, she collaborated with 300 women in Hollywood to set up the Time's Up initiative to protect women from harassment and discrimination.[132] She participated in the 2018 Women's March in Los Angeles to affirm her commitment to women's rights.[133] Also that year, Lawrence announced her commitment to get young Americans politically engaged and to advocate for anti-corruption laws.[134] In 2018, Lawrence founded a production company called Excellent Cadaver.[135]\n",
    "In the media\n",
    "\n",
    "In 2012, the review website IndieWire stated Lawrence had a \"down-to-earth, self-deprecating, unaffected\" personality.[136] An IGN writer considers her to be a \"sharp\", \"funny\" and \"quirky\" actress who likes to \"stay grounded\" despite considerable success.[123] Lawrence says that she finds acting \"stupid\" and does not believe in being \"cocky\" about her success.[137]\n",
    "A close-up of Jennifer Lawrence\n",
    "Lawrence at the premiere of A Beautiful Planet in 2016\n",
    "\n",
    "In 2012, Rolling Stone called her \"the most talented young actress in America.\"[3] Her Hunger Games co-star Donald Sutherland has favorably compared her craft to that of Laurence Olivier and considers her an \"exquisite and brilliant actor\".[138] David O. Russell (who directed her in Silver Linings Playbook, American Hustle and Joy) has praised her effortless acting that makes her performances look easy.[139] During her career, Lawrence has played roles in both high-profile, mainstream productions and low-budget independent films, and has appeared in a range of film genres.[123] She did not study acting and has not been involved in professional theater.[9] She instead bases her acting approach on her observations of people around her.[140] The actress told The Globe and Mail in June 2010 that she does not \"invest any of my real emotions\" or take home any pains of her characters. Lawrence went on to say that \"I don't even take it to craft services\" and has never shared their experiences, relying instead on her imagination, noting \"I can't go around looking for roles that are exactly like my life.\" She stated that \"If it ever came down to the point where, to make a part better, I had to lose a little bit of my sanity, I wouldn't do it. I would just do comedies.\"[9]\n",
    "\n",
    "As her career has developed, Lawrence has become one of the best paid actresses; The Daily Telegraph reported in 2014 that she was earning $10 million a film.[141] In 2013, Time magazine named her one of the most 100 influential people in the world,[142] Elle labeled her the most powerful woman in the entertainment business,[143] and Forbes ranked her as the 50th most powerful actress.[144] In 2014, Forbes named her the second-highest-paid actress in the world with earnings of $34 million,[145] and cited her as the most powerful actress, ranking at number 12 in the magazine's Celebrity 100 list; she appeared in the list again in 2016.[146][147] In 2015, Lawrence was named \"Entertainer of the Year\" by Entertainment Weekly—a title she also won in 2012[148][149]—and was recognized as the highest-grossing action heroine in Guinness World Records for starring in the Hunger Games series.[150] In 2015 and 2016, Forbes reported that she had emerged as the world's highest-paid actress with annual earnings of $52 million and $46 million, respectively.[151] The magazine ranked her as the world's third and fourth highest-paid actress during the next two years, with respective earnings of $24 million and $18 million.[152][153] As of 2019, Lawrence's films have grossed over $6 billion worldwide.[154]\n",
    "\n",
    "Lawrence appeared in Victoria's Secret's listing of the \"Sexiest Up-and-Coming Bombshell\" in 2011,[155] People's Most Beautiful People in 2011 and 2013,[156] Maxim's Hot 100 from 2011 to 2014,[157] and topped FHM's sexiest women in the world list in 2014.[158] From 2013 to 2015, she was featured in Glamour's annual listing of the best dressed women, topping the list in 2014.[159] \"\"\""
   ]
  },
  {
   "cell_type": "code",
   "execution_count": 47,
   "metadata": {},
   "outputs": [],
   "source": [
    "angelina = \"\"\"Angelina Jolie (/dʒoʊˈliː/; née Voight, formerly Jolie Pitt,[3] born June 4, 1975)[4] is an American actress, filmmaker, and humanitarian. The recipient of such accolades as an Academy Award and three Golden Globe Awards, she has been named Hollywood's highest-paid actress multiple times.\n",
    "\n",
    "Jolie made her screen debut as a child alongside her father, Jon Voight, in Lookin' to Get Out (1982), and her film career began in earnest a decade later with the low-budget production Cyborg 2 (1993), followed by her first leading role in a major film, Hackers (1995). She starred in the critically acclaimed biographical cable films George Wallace (1997) and Gia (1998), and won an Academy Award for Best Supporting Actress for her performance in the drama Girl, Interrupted (1999). Her starring role as the video game heroine Lara Croft in Lara Croft: Tomb Raider (2001) established her as a leading Hollywood actress. She continued her action-star career with Mr. & Mrs. Smith (2005), Wanted (2008), and Salt (2010), and received critical acclaim for her performances in the dramas A Mighty Heart (2007) and Changeling (2008), which earned her a nomination for an Academy Award for Best Actress. Her biggest commercial success came with the fantasy picture Maleficent (2014). In the 2010s, Jolie expanded her career into directing, screenwriting, and producing, with the war dramas In the Land of Blood and Honey (2011), Unbroken (2014), and First They Killed My Father (2017).\n",
    "\n",
    "In addition to her film career, Jolie is noted for her humanitarian efforts, for which she has received a Jean Hersholt Humanitarian Award and made an honorary Dame Commander of the Order of St Michael and St George (DCMG), among other honors. She promotes various causes, including conservation, education, and women's rights, and is most noted for her advocacy on behalf of refugees as a Special Envoy for the United Nations High Commissioner for Refugees (UNHCR).\n",
    "\n",
    "As a public figure, Jolie has been cited as one of the most influential and powerful people in the American entertainment industry. For a number of years, she was cited as the world's most beautiful woman by various media outlets, and her personal life is the subject of wide publicity. She is divorced from actors Jonny Lee Miller, Billy Bob Thornton and Brad Pitt; she and Pitt have six children together, three of whom were adopted internationally.\n",
    "Contents\n",
    "\n",
    "    1 Early life and family\n",
    "    2 Career\n",
    "        2.1 1991–1997: Early work\n",
    "        2.2 1998–2000: Breakthrough\n",
    "        2.3 2001–2004: Mainstream recognition\n",
    "        2.4 2005–2010: Commercial success\n",
    "        2.5 2011–present: Professional expansion\n",
    "            2.5.1 Upcoming projects\n",
    "    3 Humanitarian work\n",
    "        3.1 UNHCR ambassadorship\n",
    "        3.2 Conservation and community development\n",
    "        3.3 Child immigration and education\n",
    "        3.4 Human rights and women's rights\n",
    "        3.5 Recognition and honors\n",
    "    4 Personal life\n",
    "        4.1 Relationships and marriages\n",
    "        4.2 Children\n",
    "        4.3 Cancer prevention treatment\n",
    "    5 In the media\n",
    "        5.1 Public image\n",
    "        5.2 Appearance\n",
    "    6 Filmography\n",
    "    7 Awards and nominations\n",
    "    8 See also\n",
    "    9 References\n",
    "    10 External links\n",
    "\n",
    "Early life and family\n",
    "\n",
    "Born Angelina Jolie Voight in Los Angeles, California, she is the daughter of actors Jon Voight and Marcheline Bertrand. She is the sister of actor James Haven, and the niece of singer-songwriter Chip Taylor[5] and geologist and volcanologist Barry Voight.[6] Her godparents are actors Jacqueline Bisset and Maximilian Schell.[7] On her father's side, Jolie is of German and Slovak descent,[8][9] and on her mother's side, she is of primarily French Canadian, Dutch, and German ancestry.[8] Like her mother, Jolie has stated that she is part Iroquois,[10] although her only known indigenous ancestors were 17th-century Hurons.[8][11]\n",
    "Jon Voight at the Academy Awards in April 1988, where his children accompanied him\n",
    "\n",
    "After her parents' separation in 1976, Jolie and her brother lived with their mother, who had abandoned her acting ambitions to focus on raising her children.[12] Her mother raised her Catholic, but did not require her to go to church.[13] As a child, she often watched films with her mother and it was this, rather than her father's successful career, that inspired her interest in acting,[14] though at age five she had a bit part in Voight's Lookin' to Get Out (1982).[15] When Jolie was six years old, Bertrand and her live-in partner, filmmaker Bill Day, moved the family to Palisades, New York;[16] they returned to Los Angeles five years later.[12] Jolie then decided she wanted to act and enrolled at the Lee Strasberg Theatre Institute, where she trained for two years and appeared in several stage productions.\n",
    "\n",
    "Jolie first attended Beverly Hills High School, where she felt isolated among the children of some of the area's affluent families because her mother survived on a more modest income. She was teased by other students, who targeted her for being extremely thin and for wearing glasses and braces.[14] Her early attempts at modeling, at her mother's insistence, proved unsuccessful.[17][18] She then transferred to Moreno High School, an alternative school, where she became a \"punk outsider,\"[17] wearing all-black clothing, going out moshing, and experimenting with knife play with her live-in boyfriend.[14] She dropped out of her acting classes and aspired to become a funeral director,[15] taking at-home courses to study embalming.[19] At age 16, after the relationship had ended, Jolie graduated from high school and rented her own apartment, before returning to theater studies,[12][17] though in 2004 she referred to this period with the observation, \"I am still at heart—and always will be—just a punk kid with tattoos.\"[20]\n",
    "\n",
    "As a teenager, Jolie found it difficult to emotionally connect with other people, and as a result she self-harmed,[21] later commenting, \"For some reason, the ritual of having cut myself and feeling the pain, maybe feeling alive, feeling some kind of release, it was somehow therapeutic to me.\"[22] She also struggled with insomnia and an eating disorder,[19] and began experimenting with drugs; by age 20, she had used \"just about every drug possible,\" particularly heroin.[23] Jolie suffered episodes of depression and twice planned to commit suicide—at age 19 and again at 22, when she attempted to hire a hitman to kill her.[15] When she was 24, she experienced a nervous breakdown and was admitted for 72 hours to UCLA Medical Center's psychiatric ward.[15] Two years later, after adopting her first child, Jolie found stability in her life, later stating, \"I knew once I committed to Maddox, I would never be self-destructive again.\"[24]\n",
    "\n",
    "Jolie has had a lifelong dysfunctional relationship with her father, which began when Voight left the family when his daughter was less than a year old.[25] She has said that from then on their time together was sporadic and usually carried out in front of the press.[26] They reconciled when they appeared together in Lara Croft: Tomb Raider (2001), but their relationship again deteriorated.[12] Jolie petitioned the court to legally remove her surname \"Voight\" in favor of her middle name, which she had long used as a stage name; the name change was granted on September 12, 2002.[27] Voight then went public with their estrangement during an appearance on Access Hollywood, in which he claimed Jolie had \"serious mental problems.\"[28] At that point, her mother and brother also broke off contact with Voight.[29] They did not speak for six and a half years,[30] but began rebuilding their relationship in the wake of Bertrand's death from ovarian cancer on January 27, 2007,[29][31] before going public with their reconciliation three years later.[29]\n",
    "Career\n",
    "1991–1997: Early work\n",
    "\n",
    "Jolie committed to acting professionally at the age of 16, but initially found it difficult to pass auditions, often being told that her demeanor was \"too dark.\"[15] She appeared in five of her brother's student films, made while he attended the USC School of Cinema-Television, as well as in several music videos, namely Lenny Kravitz's \"Stand by My Woman\" (1991), Antonello Venditti's \"Alta Marea\" (1991), The Lemonheads's \"It's About Time\" (1993), and Meat Loaf's \"Rock and Roll Dreams Come Through\" (1993). She began to learn from her father, as she noticed his method of observing people to become like them. Their relationship during this time was less strained, with Jolie realizing that they were both \"drama queens.\"[14]\n",
    "\n",
    "Jolie began her professional film career in 1993, when she played her first leading role in the straight-to-video science-fiction sequel Cyborg 2, as a near-human robot designed for corporate espionage and assassination. She was so disappointed with the film that she did not audition again for a year.[15] Following a supporting role in the independent film Without Evidence (1995), she starred in her first Hollywood picture, Hackers (1995). The New York Times critic Janet Maslin wrote, \"Kate stands out. That's because she scowls even more sourly than [her co-stars] and is that rare female hacker who sits intently at her keyboard in a see-through top.\"[32] Hackers failed to make a profit at the box office, but developed a cult following after its video release.[33]\n",
    "\n",
    "After starring in the modern-day Romeo and Juliet adaptation Love Is All There Is (1996), Jolie appeared in the road movie Mojave Moon (1996), of which The Hollywood Reporter said, \"Jolie, an actress whom the camera truly adores, reveals a comic flair and the kind of blatant sexuality that makes it entirely credible that Danny Aiello's character would drop everything just for the chance of being with her.\"[34] In Foxfire (1996) she played a drifter who unites four teenage girls against a teacher who has sexually harassed them. Jack Mathews of the Los Angeles Times wrote of her performance, \"It took a lot of hogwash to develop this character, but Jolie, Jon Voight's knockout daughter, has the presence to overcome the stereotype. Though the story is narrated by Maddy, Legs is the subject and the catalyst.\"[35]\n",
    "\n",
    "In 1997, Jolie starred with David Duchovny in the thriller Playing God, set in the Los Angeles underworld. The film was not well received by critics; Chicago Sun-Times critic Roger Ebert noted that Jolie \"finds a certain warmth in a kind of role that is usually hard and aggressive; she seems too nice to be [a mobster's] girlfriend, and maybe she is.\"[36] Her next work, as a frontierswoman in the CBS miniseries True Women (1997), was even less successful; writing for The Philadelphia Inquirer, Robert Strauss dismissed her as \"horrid, a fourth-rate Scarlett O'Hara\" who relies on \"gnashed teeth and overly pouted lips.\"[37] Jolie also starred in the music video for the Rolling Stones's \"Anybody Seen My Baby?\" as a stripper who leaves mid-performance to wander New York City.[38]\n",
    "1998–2000: Breakthrough\n",
    "\n",
    "Jolie's career prospects began to improve after she won a Golden Globe Award for her performance in TNT's George Wallace (1997), about the life of the segregationist Alabama Governor and presidential candidate George Wallace, played by Gary Sinise. Jolie portrayed Wallace's second wife, Cornelia, a performance Lee Winfrey of The Philadelphia Inquirer considered a highlight of the film.[39] George Wallace was very well received by critics and won, among other awards, the Golden Globe Award for Best Miniseries or Television Film. Jolie also received a nomination for an Emmy Award for her performance.\n",
    "\n",
    "Jolie's first breakthrough came when she portrayed supermodel Gia Carangi in HBO's Gia (1998). The film chronicles the destruction of Carangi's life and career as a result of her addiction to heroin, and her decline and death from AIDS in the mid-1980s. Vanessa Vance of Reel.com retrospectively noted, \"Jolie gained wide recognition for her role as the titular Gia, and it's easy to see why. Jolie is fierce in her portrayal—filling the part with nerve, charm, and desperation—and her role in this film is quite possibly the most beautiful train wreck ever filmed.\"[40] For the second consecutive year, Jolie won a Golden Globe Award and was nominated for an Emmy Award. She also won her first Screen Actors Guild Award.\n",
    "\n",
    "In accordance with Lee Strasberg's method acting, Jolie preferred to stay in character in between scenes during many of her early films, and as a result had gained a reputation for being difficult to deal with. While shooting Gia, she told her husband, Jonny Lee Miller, that she would not be able to phone him: \"I'd tell him: 'I'm alone; I'm dying; I'm gay; I'm not going to see you for weeks.'\"[41] After Gia wrapped, she briefly gave up acting, because she felt that she had \"nothing else to give.\"[15] She separated from Miller and moved to New York, where she took night classes at New York University to study directing and screenwriting.[12] Encouraged by her Golden Globe Award win for George Wallace and the positive critical reception of Gia, Jolie resumed her career.[15]\n",
    "\n",
    "Following the previously filmed gangster film Hell's Kitchen (1998), Jolie returned to the screen in Playing by Heart (1998), part of an ensemble cast that included Sean Connery, Gillian Anderson, and Ryan Phillippe. The film received predominantly positive reviews, and Jolie was praised in particular; San Francisco Chronicle critic Peter Stack wrote, \"Jolie, working through an overwritten part, is a sensation as the desperate club crawler learning truths about what she's willing to gamble.\"[42] She won the Breakthrough Performance Award from the National Board of Review.\n",
    "\n",
    "In 1999, Jolie starred in the comedy-drama Pushing Tin, alongside John Cusack, Billy Bob Thornton, and Cate Blanchett. The film met with mixed reception from critics, and Jolie's character—Thornton's seductive wife—was particularly criticized; writing for The Washington Post, Desson Howe dismissed her as \"a completely ludicrous writer's creation of a free-spirited woman who weeps over hibiscus plants that die, wears lots of turquoise rings and gets real lonely when Russell spends entire nights away from home.\"[43] Jolie then co-starred with Denzel Washington in The Bone Collector (1999), playing a police officer who reluctantly helps Washington's quadriplegic detective track down a serial killer. The film grossed $151.5 million worldwide,[44] but was critically unsuccessful. Terry Lawson of the Detroit Free Press concluded, \"Jolie, while always delicious to look at, is simply and woefully miscast.\"[45]\n",
    "\"Jolie is emerging as one of the great wild spirits of current movies, a loose cannon who somehow has deadly aim.\"\n",
    "\n",
    "—Chicago Sun-Times critic Roger Ebert on Jolie's performance in Girl, Interrupted (1999)[46]\n",
    "\n",
    "Jolie next took the supporting role of a sociopathic mental patient in Girl, Interrupted (1999), an adaptation of Susanna Kaysen's memoir of the same name. While Winona Ryder played the main character in what was hoped to be a comeback for her, the film instead marked Jolie's final breakthrough in Hollywood.[47] She won her third Golden Globe Award, her second Screen Actors Guild Award, and an Academy Award for Best Supporting Actress. For Variety, Emanuel Levy noted, \"Jolie is excellent as the flamboyant, irresponsible girl who turns out to be far more instrumental than the doctors in Susanna's rehabilitation.\"[48]\n",
    "\n",
    "In 2000, Jolie appeared in her first summer blockbuster, Gone in 60 Seconds, which became her highest-grossing film to that point, earning $237.2 million internationally.[44] She had a minor role as the mechanic ex-girlfriend of a car thief played by Nicolas Cage; The Washington Post writer Stephen Hunter criticized that \"all she does in this movie is stand around, cooling down, modeling those fleshy, pulsating muscle-tubes that nest so provocatively around her teeth.\"[49] Jolie later explained that the film had been a welcome relief after her emotionally demanding role in Girl, Interrupted.\n",
    "2001–2004: Mainstream recognition\n",
    "\n",
    "Although highly regarded for her acting abilities, Jolie had rarely found films that appealed to a wide audience, but Lara Croft: Tomb Raider (2001) made her an international superstar. An adaptation of the popular Tomb Raider videogames, the film required her to learn an English accent and undergo extensive martial arts training to play the archaeologist-adventurer Lara Croft. Although the film generated mostly negative reviews, Jolie was generally praised for her physical performance; Newsday's John Anderson commented, \"Jolie makes the title character a virtual icon of female competence and coolth.\"[50] The film was an international hit, earning $274.7 million worldwide,[44] and launched her global reputation as a female action star.\n",
    "Jolie at the Cologne premiere of Alexander in December 2004\n",
    "\n",
    "Jolie next starred opposite Antonio Banderas as his mail-order bride in Original Sin (2001), the first of a string of films that were poorly received by critics and audiences alike. The New York Times critic Elvis Mitchell questioned Jolie's decision to follow her Oscar-winning performance with \"soft-core nonsense.\"[51] The romantic comedy Life or Something Like It (2002), though equally unsuccessful, marked an unusual choice for Jolie. Salon's Allen Barra considered her ambitious newscaster character a rare attempt at playing a conventional women's role, noting that her performance \"doesn't get off the ground until a scene where she goes punk and leads a group of striking bus workers in singing 'Satisfaction'\".[52] Despite her lack of box office success, Jolie remained in demand as an actress;[20] in 2002, she established herself among Hollywood's highest-paid actresses, earning $10–$15 million per film for the next five years.[53]\n",
    "\n",
    "Jolie reprised her role as Lara Croft in Lara Croft: Tomb Raider – The Cradle of Life (2003), which was not as lucrative as the original, earning $156.5 million at the international box office.[44] She also starred in the music video for Korn's \"Did My Time\", which was used to promote the sequel. Her next film was Beyond Borders (2003), in which she portrayed a socialite who joins an aid worker played by Clive Owen. Though unsuccessful with audiences, the film stands as the first of several passion projects Jolie has made to bring attention to humanitarian causes.[54] Beyond Borders was a critical failure; Kenneth Turan of the Los Angeles Times acknowledged Jolie's ability to \"bring electricity and believability to roles,\" but wrote that \"the limbo of a hybrid character, a badly written cardboard person in a fly-infested, blood-and-guts world, completely defeats her.\"[55]\n",
    "\n",
    "The year 2004 saw the release of four films featuring Jolie. She first starred in the thriller Taking Lives as an FBI profiler summoned to help Montreal law enforcement hunt down a serial killer. The film received mixed reviews; The Hollywood Reporter critic Kirk Honeycutt concluded, \"Jolie plays a role that definitely feels like something she has already done, but she does add an unmistakable dash of excitement and glamour.\"[56] Jolie made a brief appearance as a fighter pilot in Sky Captain and the World of Tomorrow, a science fiction adventure shot entirely with actors in front of a bluescreen, and voiced her first family film, the DreamWorks animation Shark Tale. Her supporting role as Queen Olympias in Oliver Stone's Alexander, about the life of Alexander the Great, was met with mixed reception, particularly concerning her Slavic accent.[52] Commercially, the film failed in North America, which Stone attributed to disapproval of the depiction of Alexander's bisexuality,[57] but it succeeded internationally, for a total revenue of $167.3 million.[44]\n",
    "2005–2010: Commercial success\n",
    "Jolie with Brad Pitt, at the Cannes premiere of A Mighty Heart in 2007\n",
    "\n",
    "In 2005, Jolie returned to major box office success with the action-comedy Mr. & Mrs. Smith, in which she starred opposite Brad Pitt as a bored married couple who find out that they are both secret assassins. The film received mixed reviews, but was generally lauded for the chemistry between the two leads; Star Tribune critic Colin Covert noted, \"While the story feels haphazard, the movie gets by on gregarious charm, galloping energy and the stars' thermonuclear screen chemistry.\"[58] With box office takings of $478.2 million worldwide, Mr. & Mrs. Smith was the seventh-highest grossing picture of the year and remained Jolie's highest-grossing live-action film for the next decade.[44][59]\n",
    "\n",
    "Following a supporting role as the neglected wife of a CIA officer in Robert De Niro's The Good Shepherd (2006), Jolie starred as Mariane Pearl in the documentary-style drama A Mighty Heart (2007). Based on Pearl's memoir of the same name, the film chronicles the kidnapping and murder of her husband, The Wall Street Journal reporter Daniel Pearl, in Pakistan. Although the biracial Pearl had personally chosen Jolie for the role,[60] the casting drew racial criticism and accusations of blackface.[61] The resulting performance was widely praised; Ray Bennett of The Hollywood Reporter described it as \"well-measured and moving,\" played \"with respect and a firm grasp on a difficult accent.\"[62] She received nominations for a Golden Globe Award and a Screen Actors Guild Award. Jolie also played a shape-shifting seductress, Grendel's mother, in the epic Beowulf (2007), created through motion capture. The film was critically and commercially well received, taking in revenues of $196.4 million worldwide.[44]\n",
    "\n",
    "By 2008, Jolie was considered the highest-paid actress in Hollywood, earning $15–$20 million per film.[63][64] While other actresses had been forced to take salary cuts in recent years, Jolie's perceived box office appeal allowed her to command as much as $20 million plus a percentage.[65] She starred alongside James McAvoy and Morgan Freeman in the action film Wanted (2008), which proved an international success, earning $341.4 million worldwide.[44] The film received predominantly favorable reviews; writing for The New York Times, Manohla Dargis noted that Jolie was \"perfectly cast as a super-scary, seemingly amoral assassin,\" adding that \"she cuts the kind of disciplinarian figure who can bring boys of all ages to their knees or at least into their theater seats.\"[66]\n",
    "Jolie in character as Christine Collins on the set of Changeling in October 2007\n",
    "\n",
    "Jolie next took the lead role in Clint Eastwood's drama Changeling (2008).[67] Based in part on the Wineville Chicken Coop Murders, the film centers on Christine Collins, who is reunited with her kidnapped son in 1928 Los Angeles, only to realize the boy is an imposter. Chicago Tribune critic Michael Phillips noted, \"Jolie really shines in the calm before the storm, the scenes when one patronizing male authority figure after another belittles her at their peril.\"[68] She received nominations for a Golden Globe Award, a Screen Actors Guild Award, a BAFTA Award, and an Academy Award for Best Actress. Jolie also voiced the DreamWorks animation Kung Fu Panda (2008), the first work in a major family franchise, later reprising her voice role in the sequels Kung Fu Panda 2 (2011) and Kung Fu Panda 3 (2016).\n",
    "\n",
    "After her mother's death in 2007, Jolie began appearing in fewer films, later explaining that her motivation to be an actress had stemmed from her mother's acting ambitions.[69] Her first film in two years was the thriller Salt (2010), in which she starred as a CIA agent who goes on the run after she is accused of being a KGB sleeper agent. Originally written as a male character with Tom Cruise attached to star, agent Salt underwent a gender change after a Columbia Pictures executive suggested Jolie for the role. With revenues of $293.5 million, Salt became an international success.[44] The film received generally positive reviews, with Jolie's performance in particular earning praise; Empire critic William Thomas remarked, \"When it comes to selling incredible, crazy, death-defying antics, Jolie has few peers in the action business.\"[70]\n",
    "\n",
    "Jolie starred opposite Johnny Depp in the thriller The Tourist (2010). The film was a critical failure, though Roger Ebert defended Jolie's performance, stating that she \"does her darndest\" and \"plays her femme fatale with flat-out, drop-dead sexuality.\"[71] Despite the poor critical reception and a slow start at the North American box office, the film went on to gross a respectable $278.3 million worldwide,[44] cementing Jolie's appeal to international audiences.[72] She received a Golden Globe Award nomination for her performance, which gave rise to speculation that it had been given merely to ensure her high-profile presence at the awards ceremony.[73][74]\n",
    "2011–present: Professional expansion\n",
    "Jolie at the 2011 Cannes Film Festival\n",
    "\n",
    "After directing the documentary A Place in Time (2007), which was distributed through the National Education Association,[75] Jolie made her feature directorial debut with In the Land of Blood and Honey (2011), a love story between a Serb soldier and a Bosniak prisoner, set during the 1992–95 Bosnian War. She conceived the film to rekindle attention for the survivors, after twice visiting Bosnia and Herzegovina in her role as a UNHCR Goodwill Ambassador.[76] To ensure authenticity, she cast only actors from the former Yugoslavia—including stars Goran Kostić and Zana Marjanović—and incorporated their wartime experiences into her screenplay.[77] Upon release, the film received mixed reviews; Todd McCarthy of The Hollywood Reporter wrote, \"Jolie deserves significant credit for creating such a powerfully oppressive atmosphere and staging the ghastly events so credibly, even if it is these very strengths that will make people not want to watch what's onscreen.\"[78] The film was nominated for a Golden Globe Award for Best Foreign Language Film, and Jolie was named an honorary citizen of Sarajevo for raising awareness of the war.[79]\n",
    "\n",
    "After a three-and-a-half-year absence from the screen, Jolie starred in Maleficent (2014), a live-action re-imagining of Disney's 1959 animation Sleeping Beauty. Critical reception was mixed, but Jolie's performance in the titular role was singled out for praise;[80] The Hollywood Reporter critic Sherri Linden found her to be the \"heart and soul\" of the film, adding that she \"doesn't chew the estimable scenery in Maleficent—she infuses it, wielding a magnetic and effortless power.\"[81] In its opening weekend, Maleficent earned nearly $70 million at the North American box office and over $100 million in other markets, marking Jolie's appeal to audiences of all demographics in both action and fantasy films, genres usually dominated by male actors.[82] The film went on to gross $757.8 million worldwide, becoming the fourth-highest-grossing film of the year and Jolie's highest-grossing film ever.[44][83]\n",
    "Jolie at an event for Unbroken in 2014\n",
    "\n",
    "Jolie next completed her second directorial venture, Unbroken (2014), about World War II hero Louis Zamperini (1917–2014), a former Olympic track star who survived a plane crash over sea and spent two years in a Japanese prisoner-of-war camp. She also served as producer under her Jolie Pas banner.[84] Unbroken is based on Laura Hillenbrand's biography of the same name, the film was scripted by the Coen brothers and starred Jack O'Connell.[85] After a positive early reception, Unbroken was considered a likely Best Picture and Best Director contender,[85][86] but it ultimately received mixed reviews and little award recognition,[87] though it was named one of the best films of the year by the National Board of Review and the American Film Institute.[88][89] In a typical review, Variety's Justin Chang noted the film's \"impeccable craftsmanship and sober restraint\", but deemed it \"an extraordinary story told in dutiful, unexceptional terms.\"[87][90] Financially, Unbroken far outperformed industry expectations in its opening weekend,[91] eventually earning over $163 million worldwide.[92]\n",
    "\n",
    "Jolie's next directorial effort was the marital drama By the Sea (2015), in which she starred opposite her husband, Brad Pitt, marking their first collaboration since 2005's Mr. & Mrs. Smith. Based on her screenplay, the film was a deeply personal project for Jolie, who drew inspiration from her own mother's life. Critics, however, dismissed it as a \"vanity project,\" as part of an overall poor reception.[93][94] Writing for The Washington Post, Stephanie Merry noted its dearth of genuine emotion, stating, \"By the Sea is dazzlingly gorgeous, as are its stars. But peeling back layer upon layer of exquisite ennui reveals nothing but emptiness, sprinkled with stilted sentiments.\"[95] Despite starring two of Hollywood's leading actors, the film received only a limited release.[93]\n",
    "\n",
    "As Jolie preferred to dedicate herself to her humanitarian work, her cinematic output remained infrequent. First They Killed My Father (2017), a drama set during Cambodia's Khmer Rouge era, again enabled her to combine both interests. In addition to directing the film, she co-wrote the screenplay with her longtime friend Loung Ung, whose memoirs about the regime's child labor camps served as its source material. Intended primarily for a Cambodian audience, the film was produced directly for Netflix, which allowed for the use of an exclusively Khmer cast and script.[96] Labeling Jolie as a \"skilled and sensitive filmmaker\", Rafer Guzmán of Newsday commended her for \"convincingly depict[ing] the illogical hell of the Khmer Rouge era\".[97] It received nominations for the Golden Globe and BAFTA Award for Best Film Not in the English Language.[98][99]\n",
    "Upcoming projects\n",
    "\n",
    "Jolie is next contracted to reprise the role of Maleficent in the Disney fantasy sequel Maleficent: Mistress of Evil.[100] She will star alongside David Oyelowo as grieving parents to the title characters of Alice in Wonderland and Peter Pan in the fantasy film Come Away and will star in Taylor Sheridan's thriller Those Who Wish Me Dead, based on Michael Koryta's novel of the same name.[101][102] She has also committed to produce and star in an adaptation of the 2014 James Scott novel The Kept and to a leading role in the Marvel Cinematic Universe superhero film The Eternals.[103][104]\n",
    "Humanitarian work\n",
    "UNHCR ambassadorship\n",
    "\"We cannot close ourselves off to information and ignore the fact that millions of people are out there suffering. I honestly want to help. I don't believe I feel differently from other people. I think we all want justice and equality, a chance for a life with meaning. All of us would like to believe that if we were in a bad situation someone would help us.\"\n",
    "\n",
    "—Jolie on her motives for joining UNHCR in 2001[105]\n",
    "\n",
    "Jolie first witnessed the effects of a humanitarian crisis while filming Lara Croft: Tomb Raider (2001) in war-torn Cambodia, an experience she later credited with having brought her a greater understanding of the world.[106] Upon her return home, Jolie contacted the United Nations High Commissioner for Refugees (UNHCR) for information on international trouble spots.[105] To learn more about the conditions in these areas, she began visiting refugee camps around the world. In February 2001, she went on her first field visit, an 18-day mission to Sierra Leone and Tanzania; she later expressed her shock at what she had witnessed.[105]\n",
    "\n",
    "In the following months, Jolie returned to Cambodia for two weeks and met with Afghan refugees in Pakistan, where she donated $1 million in response to an international UNHCR emergency appeal,[107][108] the largest donation UNHCR had ever received from a private individual.[109] She covered all costs related to her missions and shared the same rudimentary working and living conditions as UNHCR field staff on all of her visits.[105] Jolie was named a UNHCR Goodwill Ambassador at UNHCR headquarters in Geneva on August 27, 2001.[110]\n",
    "Secretary of State Condoleezza Rice and Jolie at a UNHCR celebration of World Refugee Day in June 2005\n",
    "\n",
    "Over the next decade, she went on more than 40 field missions, meeting with refugees and internally displaced persons in over 30 countries.[111] In 2002, when asked what she hoped to accomplish, she stated, \"Awareness of the plight of these people. I think they should be commended for what they have survived, not looked down upon.\"[107] To that end, her 2001–02 field visits were chronicled in her book Notes from My Travels, which was published in October 2003 in conjunction with the release of her humanitarian drama Beyond Borders.\n",
    "\n",
    "Jolie aimed to visit what she termed \"forgotten emergencies,\" crises that media attention had shifted away from.[112] She became noted for travelling to war zones,[113] such as Sudan's Darfur region during the Darfur conflict,[114] the Syrian-Iraqi border during the Second Gulf War,[115] where she met privately with U.S. troops and other multi-national forces,[116] and the Afghan capital Kabul during the war in Afghanistan, where three aid workers were murdered in the midst of her first visit.[113] To aid her travels, she began taking flying lessons in 2004 with the aim of ferrying aid workers and food supplies around the world;[20][117] she now holds a private pilot license with instrument rating and owns a Cirrus SR22 and Cessna 208 Caravan single-engine aircraft.[118][119][120]\n",
    "\n",
    "On April 17, 2012, after more than a decade of service as a UNHCR Goodwill Ambassador, Jolie was promoted to the rank of Special Envoy to High Commissioner António Guterres, the first to take on such a position within the organization. In her expanded role, she was given authority to represent Guterres and UNHCR at the diplomatic level, with a focus on major refugee crises.[121] In the months following her promotion, she made her first visit as Special Envoy—her third over all—to Ecuador, where she met with Colombian refugees,[122] and she accompanied Guterres on a week-long tour of Jordan, Lebanon, Turkey, and Iraq, to assess the situation of refugees from neighboring Syria.[123] Since then, Jolie has gone on over a dozen field missions around the world to meet with refugees and undertake advocacy on their behalf.[111][124]\n",
    "Conservation and community development\n",
    "Jolie at the World Economic Forum's annual meeting in January 2005\n",
    "\n",
    "In an effort to connect her Cambodian-born adopted son with his heritage, Jolie purchased a house in his country of birth in 2003. The traditional home sat on 39 hectares in the northwestern province Battambang, adjacent to Samlout national park in the Cardamom mountains, which had become infiltrated with poachers who threatened endangered species. She purchased the park's 60,000 hectares and turned the area into a wildlife reserve named for her son, the Maddox Jolie Project.[125] In recognition of her conservation efforts, King Norodom Sihamoni awarded her Cambodian citizenship on July 31, 2005.[126]\n",
    "\n",
    "In November 2006, Jolie expanded the scope of the project—renamed the Maddox Jolie-Pitt Foundation (MJP)—to create Asia's first Millennium Village, in accordance with UN development goals.[127] She was inspired by a meeting with the founder of Millennium Promise, noted economist Jeffrey Sachs, at the World Economic Forum in Davos,[125] where she was an invited speaker in 2005 and 2006. Together they filmed a 2005 MTV special, The Diary of Angelina Jolie & Dr. Jeffrey Sachs in Africa, which followed them on a trip to a Millennium Village in western Kenya. By mid-2007, some 6,000 villagers and 72 employees—some of them former poachers employed as rangers—lived and worked at MJP, in ten villages previously isolated from one another. The compound includes schools, roads, and a soy milk factory, all funded by Jolie. Her home functions as the MJP field headquarters.[125]\n",
    "\n",
    "After filming Beyond Borders (2003) in Namibia, Jolie became patron of the Harnas Wildlife Foundation, a wildlife orphanage and medical center in the Kalahari desert. She first visited the Harnas farm during production of the film, which features vultures rescued by the foundation.[128] In December 2010, Jolie and her partner, Brad Pitt, established the Shiloh Jolie-Pitt Foundation to support conservation work by the Naankuse Wildlife Sanctuary, a nature reserve also located in the Kalahari.[129] In name of their Namibian-born daughter, they have funded large-animal conservation projects as well as a free health clinic, housing, and a school for the San Bushmen community at Naankuse.[130][131][132] Jolie and Pitt support other causes through the Jolie-Pitt Foundation, established in September 2006.[133]\n",
    "Child immigration and education\n",
    "\n",
    "Jolie has pushed for legislation to aid child immigrants and other vulnerable children in both the U.S. and developing nations, including the \"Unaccompanied Alien Child Protection Act of 2005.\"[110][134] She began lobbying humanitarian interests in the U.S. capital from 2003 onwards, explaining, \"As much as I would love to never have to visit Washington, that's the way to move the ball.\"[110] Since October 2008, she has co-chaired Kids in Need of Defense (KIND), a network of leading U.S. law firms that provide free legal aid to unaccompanied minors in immigration proceedings across the U.S.[135] Founded in a collaboration between Jolie and the Microsoft Corporation, by 2013, KIND had become the principal provider of pro bono lawyers for immigrant children.[136] Jolie had previously, from 2005 to 2007, funded the launch of a similar initiative, the U.S. Committee for Refugees and Immigrants' National Center for Refugee and Immigrant Children.[134][137]\n",
    "Jolie on the cover of Ms., in 2015, in which she discusses child marriage\n",
    "\n",
    "Jolie has also advocated for children's education. Since its founding at the Clinton Global Initiative's annual meeting in September 2007, she has co-chaired the Education Partnership for Children of Conflict, which provides policy and funding to education programs for children in conflict-affected regions.[138] In its first year, the partnership supported education projects for Iraqi refugee children, youth affected by the Darfur conflict, and girls in rural Afghanistan, among other affected groups.[138] The partnership has worked closely with the Council on Foreign Relations' Center for Universal Education—founded by the partnership's co-chair, noted economist Gene Sperling—to establish education policies, which resulted in recommendations made to UN agencies, G8 development agencies, and the World Bank.[139] Since April 2013, all proceeds from Jolie's high-end jewelry collection, Style of Jolie, have benefited the partnership's work.[140] Jolie additionally launched the Malala Fund, a grant system established by Pakistani education activist Malala Yousafzai, at the 2013 Women in the World Summit;[141] she personally contributed over $200,000 to the cause.[142]\n",
    "\n",
    "Jolie has funded a school and boarding facility for girls at Kakuma refugee camp in northwestern Kenya,[143] which opened in 2005,[144] and two primary schools for girls in the returnee settlements Tangi and Qalai Gudar in eastern Afghanistan, which opened in March 2010 and November 2012 respectively.[145][146] In addition to the facilities at the Millennium Village she established in Cambodia, Jolie had built at least ten other schools in the country by 2005.[147] In February 2006, she opened the Maddox Chivan Children's Center, a medical and educational facility for children affected by HIV, in the Cambodian capital Phnom Penh.[127] In Sebeta, Ethiopia, the birthplace of her eldest daughter, she funds a sister facility, the Zahara Children's Center, which is expected to open in 2015 and will treat and educate children suffering from HIV or tuberculosis. Both centers are run by the Global Health Committee.[148]\n",
    "Human rights and women's rights\n",
    "British Foreign Secretary William Hague and Jolie at the launch of the Preventing Sexual Violence Initiative in May 2012\n",
    "\n",
    "After Jolie joined the Council on Foreign Relations (CFR) in June 2007,[149] she hosted a symposium on international law and justice at CFR headquarters and funded several CFR special reports, including \"Intervention to Stop Genocide and Mass Atrocities.\"[124][135] In January 2011, she established the Jolie Legal Fellowship,[150] a network of lawyers and attorneys who are sponsored to advocate the development of human rights in their countries.[151] Its member attorneys, called Jolie Legal Fellows, have facilitated child protection efforts in Haiti in the wake of the 2010 earthquake and promoted the development of an inclusive democratic process in Libya following the 2011 revolution.[150][151][152]\n",
    "\n",
    "Jolie has fronted a campaign against sexual violence in military conflict zones by the UK government, which made the issue a priority of its 2013 G8 presidency. In May 2012, she launched the Preventing Sexual Violence Initiative (PSVI) with Foreign Secretary William Hague,[153] who was inspired to campaign on the issue by her Bosnian war drama In the Land of Blood and Honey (2011).[154] PSVI was established to complement wider UK government work by raising awareness and promoting international co-operation.[153] Jolie spoke on the subject at the G8 foreign ministers meeting,[155] where the attending nations adopted a historic declaration,[153] and before the UN security council, which responded by adopting its broadest resolution on the issue to date.[156] In June 2014, she co-chaired the four-day Global Summit to End Sexual Violence in Conflict, the largest-ever meeting on the subject,[157] which resulted in a protocol endorsed by 151 nations.[158]\n",
    "\n",
    "Through her work on the PSVI, Jolie met foreign policy experts Chloe Dalton and Arminka Helic, who served as special advisers to Hague. Their collaboration resulted in the 2015 founding of Jolie Pitt Dalton Helic, a partnership dedicated to women's rights and international justice, among other causes.[159] In May 2016, Jolie was appointed a visiting professor at the London School of Economics to contribute to a postgraduate degree program at the university's Centre on Women, Peace and Security,[160] which she had launched with Hague the previous year.[158]\n",
    "Recognition and honors\n",
    "\n",
    "Jolie has received wide recognition for her humanitarian work. In August 2002, she received the inaugural Humanitarian Award from the Church World Service's Immigration and Refugee Program,[161] and in October 2003, she was the first recipient of the Citizen of the World Award by the United Nations Correspondents Association.[162] She was awarded the Global Humanitarian Award by the UNA-USA in October 2005,[163] and she received the Freedom Award from the International Rescue Committee in November 2007.[164] In October 2011, UN High Commissioner for Refugees António Guterres presented Jolie with a gold pin reserved for the most long-serving staff, in recognition of her decade as a UNHCR Goodwill Ambassador.[165]\n",
    "\n",
    "In November 2013, Jolie received the Jean Hersholt Humanitarian Award, an honorary Academy Award, from the Board of Governors of the Academy of Motion Picture Arts and Sciences.[166][167] In June 2014, she was appointed an Honorary Dame Commander of the Order of St Michael and St George (DCMG) for her services to the UK's foreign policy and campaigning to end sexual violence in war zones.[168][169] Queen Elizabeth II presented Jolie with the insignia of her honorary damehood during a private ceremony the following October.[170]\n",
    "Personal life\n",
    "Relationships and marriages\n",
    "\n",
    "Jolie had a serious boyfriend for two years from the age of 14. Her mother allowed them to live together in her home, of which Jolie later said, \"I was either going to be reckless on the streets with my boyfriend or he was going to be with me in my bedroom with my mom in the next room. She made the choice, and because of it, I continued to go to school every morning and explored my first relationship in a safe way.\"[171] She has compared the relationship to a marriage in its emotional intensity, and said that the breakup compelled her to dedicate herself to her acting career at the age of 16.[172]\n",
    "\n",
    "During filming of Hackers (1995), Jolie had a romance with British actor Jonny Lee Miller, her first lover since the relationship in her early teens.[15] They were not in touch for many months after production ended, but eventually reconnected and married soon after in March 1996. She attended her wedding in black rubber pants and a white T-shirt, upon which she had written the groom's name in her blood.[173] Though the relationship ended for good the following year, Jolie remained on good terms with Miller, whom she called \"a solid man and a solid friend\".[19] Their divorce, initiated by Jolie in February 1999, was finalized shortly before she remarried the next year.[174][175]\n",
    "\n",
    "Prior to her marriage to Miller, Jolie began a relationship with model-actress Jenny Shimizu on the set of Foxfire (1996). She later said, \"I would probably have married Jenny if I hadn't married my husband. I fell in love with her the first second I saw her.\"[176] According to Shimizu, their relationship lasted several years and continued even while Jolie was romantically involved with other people.[177] In 2003, when asked if she was bisexual, Jolie responded, \"Of course. If I fell in love with a woman tomorrow, would I feel that it's okay to want to kiss and touch her? If I fell in love with her? Absolutely! Yes!\"[178]\n",
    "Jolie with her then-partner Brad Pitt, at the 81st Academy Awards in February 2009, in which each was nominated for a leading performance\n",
    "\n",
    "After a two-month courtship, Jolie married actor Billy Bob Thornton on May 5, 2000, in Las Vegas. They had met on the set of Pushing Tin (1999), but did not pursue a relationship at that time as Thornton was engaged to actress Laura Dern, while Jolie was reportedly dating actor Timothy Hutton, her co-star in Playing God (1997).[175] As a result of their frequent public declarations of passion and gestures of love—most famously wearing one another's blood in vials around their necks—their marriage became a favorite topic of the entertainment media.[179] Jolie and Thornton announced the adoption of a child from Cambodia in March 2002, but abruptly separated three months later.[180] Their divorce was finalized on May 27, 2003. When asked about the sudden dissolution of their marriage, Jolie stated, \"It took me by surprise, too, because overnight, we totally changed. I think one day we had just nothing in common. And it's scary but ... I think it can happen when you get involved and you don't know yourself yet.\"[20]\n",
    "\n",
    "Jolie was involved in a well-publicized Hollywood scandal when she was accused of having caused the divorce of actors Brad Pitt and Jennifer Aniston in October 2005. She had fallen in love with Pitt during filming of Mr. & Mrs. Smith (2005), but dismissed allegations of an affair,[181] saying, \"To be intimate with a married man, when my own father cheated on my mother, is not something I could forgive. I could not look at myself in the morning if I did that. I wouldn't be attracted to a man who would cheat on his wife.\"[178] Jolie and Pitt did not publicly comment on the nature of their relationship until January 2006, when she confirmed that she was pregnant with his child.[182]\n",
    "\n",
    "During their twelve-year relationship, \"Brangelina\"—a portmanteau coined by the entertainment media—were the subject of worldwide media coverage.[183] After the initial scandal subsided, they became one of Hollywood's most glamorous couples.[184] Their family grew to include six children, three of whom were adopted, before they announced their engagement in April 2012.[185] Jolie and Pitt married on August 23, 2014, at their estate Château Miraval in Correns, France.[186] She subsequently took the name \"Jolie Pitt\".[187] After two years of marriage, the couple separated in September 2016. In her divorce filing, Jolie requested physical custody of their children.[188] On November 11, 2018, a new custody agreement was established between Jolie and Pitt.[189] On April 12, 2019, the court restored Jolie and Pitt to single status.[190]\n",
    "Children\n",
    "Jolie's children\n",
    "\n",
    "Maddox Chivan Jolie-Pitt\n",
    "\n",
    "    Male, born August 5, 2001 (age 18), in Cambodia\n",
    "    Adopted March 10, 2002 by Jolie\n",
    "    Adopted early 2006 by Pitt\n",
    "\n",
    "Pax Thien Jolie-Pitt\n",
    "\n",
    "    Male, born November 29, 2003 (age 15), in Ho Chi Minh City, Vietnam\n",
    "    Adopted March 15, 2007 by Jolie\n",
    "    Adopted February 21, 2008 by Pitt\n",
    "\n",
    "Zahara Marley Jolie-Pitt\n",
    "\n",
    "    Female, born January 8, 2005 (age 14), in Awasa, Ethiopia\n",
    "    Adopted July 6, 2005 by Jolie\n",
    "    Adopted early 2006 by Pitt\n",
    "\n",
    "Shiloh Nouvel Jolie-Pitt\n",
    "\n",
    "    Female, born May 27, 2006 (age 13), in Swakopmund, Namibia\n",
    "\n",
    "Knox Léon Jolie-Pitt\n",
    "\n",
    "    Male, born July 12, 2008 (age 11), in Nice, France\n",
    "\n",
    "Vivienne Marcheline Jolie-Pitt\n",
    "\n",
    "    Female, born July 12, 2008 (age 11), in Nice, France\n",
    "\n",
    "Jolie has six children: three son and three daughters. Of the children, three were adopted internationally, while three are biological.\n",
    "\n",
    "On March 10, 2002, Jolie adopted her first child,[191] seven-month-old Maddox Chivan,[27] from an orphanage in Battambang, Cambodia.[192] He was born as Rath Vibol on August 5, 2001,[193] in a local village.[19] After twice visiting Cambodia, while filming Lara Croft: Tomb Raider (2001) and on a UNHCR field mission, Jolie returned in November 2001 with her husband, Billy Bob Thornton, where they met Maddox and subsequently applied to adopt him.[194] The adoption process was halted the following month when the U.S. government banned adoptions from Cambodia amid allegations of child trafficking.[194] Although Jolie's adoption facilitator was later convicted of visa fraud and money laundering, her adoption of Maddox was deemed lawful.[195] Once the process was finalized, she took custody of him in Namibia, where she was filming Beyond Borders (2003).[194] Jolie and Thornton announced the adoption together, but she adopted Maddox alone,[180][196] and raised him as a single parent following their separation three months later.[180][197]\n",
    "A pregnant Jolie with director Clint Eastwood at the Cannes premiere of Changeling in May 2008\n",
    "\n",
    "Jolie adopted a daughter, six-month-old Zahara Marley, from an orphanage in Addis Ababa, Ethiopia, on July 6, 2005.[198][199] Zahara was born as Yemsrach on January 8, 2005, in Awasa.[200][201] Jolie initially believed Zahara to be an AIDS orphan,[202] based on official testimony from her grandmother,[203] but her birth mother later came forward in the media. She explained that she had abandoned her family when Zahara became sick, and said she thought Zahara was \"very fortunate\" to have been adopted by Jolie.[200] Jolie was accompanied by her partner, Brad Pitt, when she traveled to Ethiopia to take custody of Zahara.[198] She later indicated that they had together made the decision to adopt from Ethiopia,[204] having first visited the country earlier that year.[205] After Pitt announced his intention to adopt her children,[206] she filed a petition to legally change their surname from Jolie to Jolie-Pitt, which was granted on January 19, 2006.[201] Pitt adopted Maddox and Zahara soon after.[207]\n",
    "\n",
    "In an attempt to avoid the unprecedented media frenzy surrounding their relationship, Jolie and Pitt traveled to Namibia for the birth of their first biological child.[183] On May 27, 2006, she gave birth to a daughter, Shiloh Nouvel, in Swakopmund.[208] They sold the first pictures of Shiloh through the distributor Getty Images with the aim of benefiting charity, rather than allowing paparazzi to take these valuable photographs.[207] People and Hello! purchased the North American and British rights to the images for $4.1 and $3.5 million respectively, a record in celebrity photojournalism at that time,[209] with all proceeds donated to UNICEF.[210]\n",
    "\n",
    "On March 15, 2007, Jolie adopted a son, three-year-old Pax Thien, from an orphanage in Ho Chi Minh City, Vietnam.[211] He was born as Pham Quang Sang on November 29, 2003, in HCMC, where he was abandoned by his biological mother soon after birth.[212] After visiting the orphanage with Pitt in November 2006, Jolie applied for adoption as a single parent, because Vietnam's adoption regulations do not allow unmarried couples to co-adopt.[211] After their return to the U.S., she petitioned the court to change her son's surname from Jolie to Jolie-Pitt, which was approved on May 31.[213] Pitt subsequently adopted Pax on February 21, 2008.[214]\n",
    "\n",
    "At the Cannes Film Festival in May 2008, Jolie confirmed that she was expecting twins. For the two weeks she spent in a seaside hospital in Nice, France, reporters and photographers camped outside on the promenade.[215] She gave birth to a son, Knox Léon, and a daughter, Vivienne Marcheline, on July 12, 2008. The first pictures of Knox and Vivienne were jointly sold to People and Hello! for a reported $14 million—the most expensive celebrity photographs ever taken. All proceeds were donated to the Jolie-Pitt Foundation.[216]\n",
    "Cancer prevention treatment\n",
    "\n",
    "On February 16, 2013, at age 37, Jolie underwent a preventive double mastectomy after learning she had an 87% risk of developing breast cancer due to a defective BRCA1 gene.[217] Her maternal family history warranted genetic testing for BRCA mutations: her mother, actress Marcheline Bertrand, had breast cancer and died from ovarian cancer, while her grandmother died from ovarian cancer.[218][219] Her aunt, who had the same BRCA1 defect, died from breast cancer three months after Jolie's operation.[220] Following the mastectomy, which lowered her chances of developing breast cancer to under 5 percent, Jolie had reconstructive surgery involving implants and allografts.[218] Two years later, in March 2015, after annual test results indicated possible signs of early ovarian cancer, she underwent a preventive salpingo-oophorectomy, as she had a 50% risk of developing ovarian cancer due to the same genetic anomaly. Despite hormone replacement therapy, the surgery brought on premature menopause.[219]\n",
    "\"I choose not to keep my story private because there are many women who do not know that they might be living under the shadow of cancer. It is my hope that they, too, will be able to get gene tested, and that if they have a high risk they, too, will know that they have strong options.\"\n",
    "\n",
    "—Jolie on her reasons for speaking out about her mastectomy[217]\n",
    "\n",
    "After completing each operation, Jolie discussed her mastectomy and oophorectomy in op-eds published by The New York Times, with the aim of helping other women make informed health choices. She detailed her diagnosis, surgeries, and personal experiences, and described her decision to undergo preventive surgery as a proactive measure for the sake of her six children.[217][219][221] Jolie further wrote, \"On a personal note, I do not feel any less of a woman. I feel empowered that I made a strong choice that in no way diminishes my femininity.\"[217]\n",
    "\n",
    "Jolie's announcement of her mastectomy attracted widespread publicity and discussion on BRCA mutations and genetic testing.[222] Her decision was met with praise from various public figures,[223] while health campaigners welcomed her raising awareness of the options available to at-risk women.[224] Dubbed \"The Angelina Effect\" by a Time cover story,[225] Jolie's influence led to a \"global and long-lasting\" increase in BRCA gene testing:[226] the number of referrals tripled in Australia and doubled in the UK, parts of Canada, and India,[226][227][228] as well as significantly increased in other European countries and the U.S.[229][230][231] Researchers in Canada and the UK found that despite the large increase, the percentage of mutation carriers remained the same, meaning Jolie's message had reached those most at risk.[226] In her first op-ed, Jolie had advocated wider accessibility of BRCA gene testing and acknowledged the high costs,[232] which were greatly reduced after the U.S. Supreme Court, in a June 2013 ruling, invalidated BRCA gene patents held by Myriad Genetics.[233][234]\n",
    "In the media\n",
    "Public image\n",
    "\n",
    "As the daughter of actor Jon Voight, Jolie appeared in the media from an early age.[26] After embarking on her own career, she earned a reputation as a \"wild child\", which contributed to her early success in the late 1990s and early 2000s.[235] Celebrity profiles routinely covered her fascination with blood and knives, experiences with drugs, and her sex life, particularly her bisexuality and interest in sadomasochism.[235][236] In 2000, when asked about her outspokenness, she stated, \"I say things that other people might go through. That's what artists should do—throw things out there and not be perfect and not have answers for anything and see if people understand.\"[236] Another contributing factor of her controversial image were tabloid rumors of incest that started when Jolie, upon winning her Oscar, kissed her brother on the lips and said, \"I'm so in love with my brother right now.\"[15] She dismissed the rumors, saying, \"It was disappointing that something so beautiful and pure could be turned into a circus,\"[237] and explained that, as children of divorce, she and James relied on one another for emotional support.[15]\n",
    "Jolie at the Cannes Film Festival in May 2007\n",
    "\n",
    "Jolie's reputation began to change positively after she, at age 26, became a Goodwill Ambassador for the United Nations High Commissioner for Refugees, later commenting, \"In my early 20s I was fighting with myself. Now I take that punk in me to Washington, and I fight for something important.\"[110] Owing to her extensive activism, her Q Score—the industry's measure of celebrities' likability—nearly doubled to 25 between 2000 and 2006.[110] Her recognizability grew accordingly; by 2006, she was familiar to 81% of Americans, compared to 31% in 2000.[110] She became noted for her ability to positively influence her public image through the media, without employing a publicist or an agent.[238] Her Q Score remained above average even when, in 2005, she was accused of ending Brad Pitt's marriage to Jennifer Aniston,[239] at which point her public persona became an unlikely combination of alleged homewrecker, mother, sex symbol, and humanitarian.[240] A decade later, Jolie was found to be the most admired woman in the world in global surveys conducted by YouGov in 2015 and 2016.[241][242]\n",
    "\n",
    "Jolie's general influence and wealth are extensively documented. In a 2006 global industry survey by ACNielsen in 42 international markets, Jolie, together with Pitt, was found to be the favorite celebrity endorser for brands and products worldwide.[243] Jolie was the face of St. John and Shiseido from 2006 to 2008, and a decade later became a spokesmodel for Guerlain. Her 2011 endorsement deal with Louis Vuitton, reportedly worth $10 million, was a record for a single advertising campaign.[244][245] Jolie was among the Time 100, a list of the most influential people in the world as published by Time, in 2006 and 2008.[246][247] She was named the world's most powerful celebrity in Forbes's Celebrity 100 issue in 2009, and, though ranked lower overall, was listed as the most powerful actress from 2006 to 2008 and 2011 to 2013.[248][249] Forbes additionally cited her as Hollywood's highest-paid actress in 2009, 2011, and 2013, with estimated annual earnings of $27 million, $30 million, and $33 million respectively.[72][250][251]\n",
    "Appearance\n",
    "Jolie at the New York premiere of A Mighty Heart in June 2007; several of her tattoos are visible\n",
    "\n",
    "Jolie's public image is strongly tied to her perceived beauty and sex appeal.[252] Many media outlets, including Vogue, People, and Vanity Fair, have cited her as the world's most beautiful woman, while others such as Esquire, FHM, and Empire have named her the sexiest woman alive; both titles have often been based on public polls in which Jolie places far ahead of other celebrity women.[253] Her most recognizable physical features are her many tattoos, eyes, and in particular her full lips, which The New York Times considered as defining a feature as Kirk Douglas's chin or Bette Davis' eyes.[254] Among her estimated 20 tattoos are the Latin proverb quod me nutrit me destruit (\"what nourishes me destroys me\"), the Tennessee Williams quote \"A prayer for the wild at heart, kept in cages\", four Buddhist Sanskrit prayers of protection,[255][256] a twelve-inch tiger, and geographical coordinates of where she first met her adopted children.[257] Over time, she has covered or lasered several of her tattoos, including \"Billy Bob\", the name of her second husband.[255]\n",
    "\n",
    "Professionally, Jolie's status as a sex symbol has been considered both an asset and a hindrance. Some of her most commercially successful films, including Lara Croft: Tomb Raider (2001) and Beowulf (2007), overtly relied at least in part on her sex appeal,[258][259] with Empire stating that her \"pneumatic figure\", \"feline eyes\", and \"bee-stung lips\" have greatly contributed to her appeal to cinema audiences.[260] Conversely, Salon writer Allen Barra agreed with critics who suggested that Jolie's \"dark and intense sexuality\" has limited her in the types of roles she can be cast in, rendering her unconvincing in many conventional women's roles,[52] while Clint Eastwood, who directed her Oscar-nominated performance in Changeling (2008), opined that having \"the most beautiful face on the planet\" sometimes harmed her dramatic credibility with audiences.[261]\n",
    "\n",
    "Beyond her career, Jolie's appearance has been credited with influencing popular culture at large. In 2002, AfterEllen founder Sarah Warn observed that many women of all sexual orientations had publicly expressed their attraction to Jolie, which she considered a new development in American culture, adding that \"there are many beautiful women in Hollywood, and few generate the same kind of overwhelming interest across genders and sexual orientations that she does\".[262] Jolie's physical attributes became highly sought-after among western women seeking cosmetic surgery; by 2007, she was considered \"the gold standard of beauty\",[263] with her full lips remaining the most imitated celebrity feature well into the 2010s.[264][265] After a 2011 repeat survey by Allure found that Jolie most represented the American beauty ideal, compared to model Christie Brinkley in 1991, writer Elizabeth Angell credited society with having \"branched out beyond the Barbie-doll ideal and embraced something quite different\".[266][267] In 2013, Jeffrey Kluger of Time agreed that Jolie has for many years symbolized the feminine ideal, and opined that her frank discussion of her double mastectomy redefined beauty.[225] \"\"\""
   ]
  },
  {
   "cell_type": "code",
   "execution_count": 41,
   "metadata": {},
   "outputs": [],
   "source": [
    "brad_pitt = \"\"\"William Bradley Pitt (born December 18, 1963) is an American actor and film producer. He has received multiple awards and nominations including an Academy Award as producer under his own company, Plan B Entertainment.\n",
    "\n",
    "Pitt first gained recognition as a cowboy hitchhiker in the road movie Thelma & Louise (1991). His first leading roles in big-budget productions came with the drama films A River Runs Through It (1992) and Legends of the Fall (1994) and horror film Interview with the Vampire (1994). He gave critically acclaimed performances in the crime thriller Seven and the science fiction film 12 Monkeys (both 1995), the latter earning him a Golden Globe Award for Best Supporting Actor and an Academy Award nomination.\n",
    "\n",
    "Pitt starred in the cult film Fight Club (1999) and the heist film Ocean's Eleven (2001) and its sequels, Ocean's Twelve (2004) and Ocean's Thirteen (2007). His greatest commercial successes have been Troy (2004), Mr. & Mrs. Smith (2005), and World War Z (2013). Pitt received his second and third Academy Award nominations for his leading performances in The Curious Case of Benjamin Button (2008) and Moneyball (2011). He produced The Departed (2006) and 12 Years a Slave (2013), both of which won the Academy Award for Best Picture, and also The Tree of Life (2011), Moneyball, and The Big Short (2015), all of which garnered Best Picture nominations.\n",
    "\n",
    "As a public figure, Pitt has been cited as one of the most influential and powerful people in the American entertainment industry. For a number of years, he was cited as the world's most attractive man by various media outlets, and his personal life is the subject of wide publicity. In 2000, he married actress Jennifer Aniston; they divorced in 2005. In 2014, Pitt married actress Angelina Jolie. They have six children together, three of whom were adopted internationally. In 2016, Jolie filed for a divorce from Pitt, which was finalized in 2019.\n",
    "Contents\n",
    "\n",
    "    1 Early life\n",
    "    2 Career\n",
    "        2.1 1987–1993: Early work\n",
    "        2.2 1994–1998: Breakthrough\n",
    "        2.3 1999–2003\n",
    "        2.4 2004–2013\n",
    "        2.5 2014–present\n",
    "    3 Humanitarian and political causes\n",
    "    4 Personal life\n",
    "        4.1 Relationships\n",
    "        4.2 Children\n",
    "    5 In the media\n",
    "    6 Filmography\n",
    "    7 Awards and nominations\n",
    "    8 See also\n",
    "    9 References\n",
    "    10 External links\n",
    "\n",
    "Early life\n",
    "\n",
    "Pitt was born in Shawnee, Oklahoma, to William Alvin Pitt, the proprietor of a trucking company, and Jane Etta (née Hillhouse), a school counsellor.[2][3] The family soon moved to Springfield, Missouri, where he lived together with his younger siblings, Douglas Mitchell (born 1966) and Julie Neal (born 1969).[4] Born into a conservative household,[5] he was raised as Southern Baptist but has since stated that he does not \"have a great relationship with religion\" and that he \"oscillate[s] between agnosticism and atheism.\"[6] Pitt has described Springfield as \"Mark Twain country, Jesse James country,\" having grown up with \"a lot of hills, a lot of lakes.\"[7]\n",
    "\n",
    "Pitt attended Kickapoo High School, where he was a member of the golf, swimming and tennis teams.[8] He participated in the school's Key and Forensics clubs, in school debates, and in musicals.[9] Following his graduation from high school, Pitt enrolled in the University of Missouri in 1982, majoring in journalism with a focus on advertising.[10] As graduation approached, Pitt did not feel ready to settle down. He loved films—\"a portal into different worlds for me\"—and, since films were not made in Missouri, he decided to go to where they were made.[11][12] Two weeks short of completing the coursework for a degree, Pitt left the university and moved to Los Angeles, where he took acting lessons and worked odd jobs.[11] He has named his early acting heroes as Gary Oldman, Sean Penn and Mickey Rourke.[13]\n",
    "Career\n",
    "1987–1993: Early work\n",
    "Pitt with Andrew Lauer, roommates after college\n",
    "\n",
    "While struggling to establish himself in Los Angeles, Pitt took lessons from acting coach Roy London.[9][14] Pitt's acting career began in 1987, with uncredited parts in the films No Way Out (1987), No Man's Land (1987) and Less Than Zero (1987).[9][15] In May 1987, his television debut came with a two-episode role on the NBC soap opera Another World.[16] In November of the same year, Pitt had a guest appearance on the ABC sitcom Growing Pains.[17] He appeared in four episodes of the CBS primetime series Dallas between December 1987 and February 1988 as Randy, the boyfriend of Charlie Wade (played by Shalane McCall).[18] Later in 1988, Pitt made a guest appearance on the Fox police drama 21 Jump Street.[19] In the same year, the Yugoslavian–U.S. co-production The Dark Side of the Sun (1988) gave Pitt his first leading film role, as a young American taken by his family to the Adriatic to find a remedy for a skin condition. The film was shelved at the outbreak of the Croatian War of Independence, and was not released until 1997.[9] Pitt made two motion picture appearances in 1989: the first in a supporting role in the comedy Happy Together; the second a featured role in the horror film Cutting Class, the first of Pitt's films to reach theaters.[17] He made guest appearances on television series Head of the Class, Freddy's Nightmares, Thirtysomething, and (for a second time) Growing Pains.[20]\n",
    "\n",
    "Pitt was cast as Billy Canton, a drug addict who takes advantage of a young runaway (played by Juliette Lewis) in the 1990 NBC television movie Too Young to Die?, the story of an abused teenager sentenced to death for a murder. Ken Tucker, television reviewer for Entertainment Weekly wrote: \"Pitt is a magnificent slimeball as her hoody boyfriend; looking and sounding like a malevolent John Cougar Mellencamp, he's really scary.\"[21] The same year, Pitt co-starred in six episodes of the short-lived Fox drama Glory Days and took a supporting role in the HBO television film The Image.[22] His next appearance came in the 1991 film Across the Tracks; Pitt portrayed Joe Maloney, a high school runner with a criminal brother, played by Rick Schroder.[23] After years of supporting roles in film and frequent television guest appearances, Pitt attracted wider recognition in his supporting role in Ridley Scott's 1991 road film Thelma & Louise.[22] He played J.D., a small-time criminal who befriends Thelma (Geena Davis). His love scene with Davis has been cited as the event that defined Pitt as a sex symbol.[17][24] After Thelma & Louise, Pitt starred in the 1991 film Johnny Suede, a low-budget picture about an aspiring rock star,[25] and the 1992 live-action/animated fantasy film Cool World,[17] although neither furthered his career, having poor reviews and box office performance.[26][27]\n",
    "\n",
    "Pitt took the role of Paul Maclean in the 1992 biographical film A River Runs Through It, directed by Robert Redford.[28] His portrayal of the character was described by People's Janet Mock as a career-making performance,[29] proving that Pitt could be more than a \"cowboy-hatted hunk.\"[30] He has admitted to feeling under pressure when making the film[4] and thought it one of his \"weakest performances ... It's so weird that it ended up being the one that I got the most attention for.\"[4] Pitt believed that he benefited from working with such a talented cast and crew. He compared working with Redford to playing tennis with a superior player, saying \"when you play with somebody better than you, your game gets better.\"[29][30] In 1993, Pitt reunited with Juliette Lewis for the road film Kalifornia. He played Early Grayce, a serial killer and the boyfriend of Lewis's character in a performance described by Peter Travers of Rolling Stone as \"outstanding, all boyish charm and then a snort that exudes pure menace.\"[31] Pitt also garnered attention for a brief appearance in the cult hit True Romance as a stoner named Floyd, providing much needed comic relief to the action film.[32] He capped the year by winning a ShoWest Award for Male Star of Tomorrow.[33]\n",
    "1994–1998: Breakthrough\n",
    "A side view of a man, who is facing to the left, with light brown hair. He is wearing a black suit and tie with a white shirt. Another male, also wearing a suit, is visible in the background.\n",
    "Pitt at the 2007 Palm Springs International Film Festival\n",
    "\n",
    "1994 marked a significant turning point in Pitt's career. Starring as the vampire Louis de Pointe du Lac in the horror film Interview with the Vampire: The Vampire Chronicles, based on Anne Rice's 1976 novel of the same name,[34] he was part of an ensemble cast that included Tom Cruise, Kirsten Dunst, Christian Slater, and Antonio Banderas.[34] Despite his winning two MTV Movie Awards at the 1995 ceremony,[35] his performance was poorly received. According to the Dallas Observer, \"Brad Pitt [...] is a large part of the problem [in the film]. When directors play up his cocky, hunkish, folksy side [...] he's a joy to watch. But there's nothing about him that suggests inner torment or even self-awareness, which makes him a boring Louis.\"[36] Following the release of Interview with the Vampire, Pitt starred in Legends of the Fall (1994),[37] based on a novel by the same name by Jim Harrison, set in the American West during the first four decades of the twentieth century. Portraying Tristan Ludlow, son of Colonel William Ludlow (Anthony Hopkins) a Cornish immigrant,[38] Pitt received his first Golden Globe Award nomination, in the Best Actor category.[39] Aidan Quinn and Henry Thomas co-starred as Pitt's brothers. Although the film's reception was mixed,[40] many film critics praised Pitt's performance. Janet Maslin of The New York Times said, \"Pitt's diffident mix of acting and attitude works to such heartthrob perfection it's a shame the film's superficiality gets in his way.\"[41] The Deseret News predicted that Legends of the Fall would solidify Pitt's reputation as a lead actor.[42]\n",
    "\n",
    "In 1995, Pitt starred alongside Morgan Freeman and Gwyneth Paltrow in the crime thriller Seven, playing a detective on the trail of a serial killer.[43] Pitt called it a great movie and declared the part would expand his acting horizons.[44] He expressed his intent to move on from \"this 'pretty boy' thing [...] and play someone with flaws.\"[45] His performance was critically well received, with Variety saying that it was screen acting at its best, further remarking on Pitt's ability to turn in a \"determined, energetic, creditable job\" as the detective.[46] Seven earned $327 million at the international box office.[26] Following the success of Seven, Pitt took a supporting role as Jeffrey Goines in Terry Gilliam's 1995 science-fiction film 12 Monkeys. The movie received predominantly positive reviews, with Pitt praised in particular. Janet Maslin of the New York Times called Twelve Monkeys \"fierce and disturbing\" and remarked on Pitt's \"startlingly frenzied performance\", concluding that he \"electrifies Jeffrey with a weird magnetism that becomes important later in the film.\"[47] He won a Golden Globe Award for Best Supporting Actor for the film[39] and received his first Academy Award nomination for Best Supporting Actor.[48]\n",
    "\n",
    "The following year he had a role in the legal drama Sleepers (1996), based on Lorenzo Carcaterra's novel of the same name.[49] The film received mixed reviews.[50] In the 1997 film The Devil's Own Pitt starred, opposite Harrison Ford, as the Irish Republican Army terrorist Rory Devany,[51] a role for which he was required to learn an Irish accent.[52] Critical opinion was divided on his accent; \"Pitt finds the right tone of moral ambiguity, but at times his Irish brogue is too convincing – it's hard to understand what he's saying\", wrote the San Francisco Chronicle.[53] The Charleston Gazette opined that it had favored Pitt's accent over the movie.[54] The Devil's Own grossed $140 million worldwide,[26] but was a critical failure. Later that year he led as Austrian mountaineer Heinrich Harrer in the Jean-Jacques Annaud film Seven Years in Tibet.[55] Pitt trained for months for the role, which demanded significant mountain climbing and trekking practice, including rock climbing in California and the European Alps with his co-star David Thewlis.[56] The film received mostly negative reviews, and was generally considered a disappointment.[57] Pitt had the lead role in 1998's fantasy romance film Meet Joe Black. He portrayed a personification of death inhabiting the body of a young man to learn what it is like to be human.[58] The film received mixed reviews, and many were critical of Pitt's performance. According to Mick LaSalle of the San Francisco Chronicle, Pitt was unable to \"make an audience believe that he knows all the mysteries of death and eternity.\"[59] Roger Ebert stated \"Pitt is a fine actor, but this performance is a miscalculation.\"[60]\n",
    "1999–2003\n",
    "\n",
    "In 1999, Pitt portrayed Tyler Durden in Fight Club,[61][62] a film adaptation of Chuck Palahniuk's novel of the same name, directed by David Fincher.[63] Pitt prepared for the part with lessons in boxing, taekwondo, and grappling.[64] To look the part, Pitt consented to the removal of pieces of his front teeth which were restored when filming ended.[65] While promoting Fight Club, Pitt said that the film explored not taking one's aggressions out on someone else but to \"have an experience, take a punch more and see how you come out on the other end.\"[66] Fight Club premiered at the 1999 Venice International Film Festival.[67] Despite divided critical opinion on the film as a whole,[68][69] Pitt's performance was widely praised. Paul Clinton of CNN noted the risky yet successful nature of the film,[70] while Variety remarked upon Pitt's ability to be \"cool, charismatic and more dynamically physical, perhaps than [...] his breakthrough role in Thelma and Louise\".[71] In spite of a worse-than-expected box office performance, Fight Club became a cult classic after its DVD release in 2000.[72]\n",
    "Pitt in December 2001\n",
    "\n",
    "Pitt was cast as an Irish Gypsy boxer with a barely intelligible accent in Guy Ritchie's 2000 gangster film Snatch.[73] Several reviewers were critical of Snatch; however, most praised Pitt.[74] Mick LaSalle of the San Francisco Chronicle said Pitt was \"ideally cast as an Irishman whose accent is so thick even Brits can't understand him\", going on to say that, before Snatch, Pitt had been \"shackled by roles that called for brooding introspection, but recently he has found his calling in black comic outrageousness and flashy extroversion;\"[75] while Amy Taubin of The Village Voice claimed that \"Pitt gets maximum comic mileage out of a one-joke role\".[76] The following year Pitt starred opposite Julia Roberts in the romantic comedy The Mexican,[77] a film that garnered a range of reviews[78] but enjoyed box office success.[26] Pitt's next role, in 2001's $143 million-grossing Cold War thriller Spy Game,[26] was as Tom Bishop, an operative of the CIA's Special Activities Division, mentored by Robert Redford's character.[79] Mark Holcomb of Salon.com enjoyed the film, although he noted that neither Pitt nor Redford provided \"much of an emotional connection for the audience\".[80]\n",
    "\n",
    "On November 22, 2001, Pitt made a guest appearance in the eighth season of the television series Friends, playing a man with a grudge against Rachel Green, played by Jennifer Aniston, to whom Pitt was married at the time.[81] For this performance he was nominated for an Emmy Award in the category of Outstanding Guest Actor in a Comedy Series.[82] In December 2001, Pitt played Rusty Ryan in the heist film Ocean's Eleven, a remake of the 1960 Rat Pack original. He joined an ensemble cast including George Clooney, Matt Damon, Andy García, and Julia Roberts.[83] Well received by critics, Ocean's Eleven was highly successful at the box office, earning $450 million worldwide.[26] Pitt appeared in two episodes of MTV's reality series Jackass in February 2002, first running through the streets of Los Angeles with several cast members in gorilla suits,[84] and participating in his own staged abduction in another episode.[85] In the same year, Pitt had a cameo role in George Clooney's directorial debut Confessions of a Dangerous Mind.[86] He took on his first voice-acting roles in 2003, speaking as the titular character of the DreamWorks animated film Sinbad: Legend of the Seven Seas[87] and playing Boomhauer's brother, Patch, in an episode of the animated television series King of the Hill.[88]\n",
    "2004–2013\n",
    "\n",
    "Pitt had two major film roles in 2004, starring as Achilles in Troy, and reprising his role, Rusty Ryan, in the sequel Ocean's Twelve. He spent six months sword training before the filming of Troy, based on the Iliad.[89] An on-set injury to his Achilles tendon delayed production on the picture for several weeks.[90] Stephen Hunter of The Washington Post stated that Pitt excelled at such a demanding role.[91] Troy was the first film produced by Plan B Entertainment, a film production company he had founded two years earlier with Jennifer Aniston and Brad Grey, CEO of Paramount Pictures.[92] Ocean's Twelve earned $362 million worldwide,[26] and Pitt and Clooney's dynamic was described by CNN's Paul Clinton as \"the best male chemistry since Paul Newman and Robert Redford.\"[93] In 2005, Pitt starred in the Doug Liman-directed action comedy Mr. & Mrs. Smith, in which a bored married couple discover that each is an assassin sent to kill the other. The feature received reasonable reviews but was generally lauded for the chemistry between Pitt and Angelina Jolie, who played his character's wife Jane Smith. The Star Tribune noted that \"while the story feels haphazard, the movie gets by on gregarious charm, galloping energy and the stars' thermonuclear screen chemistry\".[94] Mr. & Mrs. Smith earned $478 million worldwide, making it one of the biggest hits of 2005.[95]\n",
    "Pitt at the Burn After Reading premiere in August 2008\n",
    "\n",
    "For his next film, Pitt starred opposite Cate Blanchett in Alejandro González Iñárritu's multi-narrative drama Babel (2006).[96] Pitt's performance was critically well-received, and the Seattle Post-Intelligencer said that he was credible and gave the film visibility.[97] Pitt later said he regarded taking the part as one of the best decisions of his career.[98] The film was screened at a special presentation at the 2006 Cannes Film Festival[99] and was later featured at the 2006 Toronto International Film Festival.[100] Babel received seven Academy and Golden Globe award nominations, winning the Best Drama Golden Globe, and earned Pitt a nomination for the Best Supporting Actor Golden Globe.[39] That same year, Pitt's company Plan B Entertainment produced The Departed, which won the Academy Award for Best Picture. Pitt was credited on-screen as a producer; however, only Graham King was ruled eligible for the Oscar win.[101]\n",
    "\n",
    "Reprising his role as Rusty Ryan in a third picture, Pitt starred in 2007's Ocean's Thirteen.[102] While less lucrative than the first two films, this sequel earned $311 million at the international box office.[26] Pitt's next film role was as American outlaw Jesse James in the 2007 Western drama The Assassination of Jesse James by the Coward Robert Ford, adapted from Ron Hansen's 1983 novel of the same name.[103] Directed by Andrew Dominik and produced by Pitt's company Plan B Entertainment, the film premiered at the 2007 Venice Film Festival,[104] with Pitt playing a \"scary and charismatic\" role, according to Lewis Beale of Film Journal International,[105] and earning Pitt the Volpi Cup award for Best Actor at the 64th Venice International Film Festival.[106] He eventually collected the award one year later at the 2008 festival.[107] It is his favourite film.[108]\n",
    "\n",
    "Pitt's next appearance was in the 2008 black comedy Burn After Reading, his first collaboration with the Coen brothers. The film received a positive reception from critics, with The Guardian calling it \"a tightly wound, slickly plotted spy comedy\",[109] noting that Pitt's performance was one of the funniest.[109] He was later cast as Benjamin Button, the lead in David Fincher's 2008 film The Curious Case of Benjamin Button, a loosely adapted version of a 1921 short story by F. Scott Fitzgerald. The story follows a man who is born an octogenarian and ages in reverse,[110] with Pitt's \"sensitive\" performance making Benjamin Button a \"timeless masterpiece\", according to Michael Sragow of The Baltimore Sun.[111] The performance earned Pitt his first Screen Actors Guild Award nomination,[112] as well as a fourth Golden Globe and second Academy Award nomination,[39][113] all in the category for Best Actor. The film received thirteen Academy Award nominations in total, and grossed $329 million at the box office worldwide.[26]\n",
    "A Caucasian male has long brown hair pushed back and a short brown beard. He wears a black suit jacket and a white shirt.\n",
    "Pitt at the 65th British Academy Film Awards in 2012.\n",
    "\n",
    "Pitt's next leading role came in 2009 with the Quentin Tarantino-directed war film Inglourious Basterds, which premiered at the 2009 Cannes Film Festival.[114] Pitt played Lieutenant Aldo Raine, an American resistance fighter battling Nazis in German-occupied France.[115] The film was a box office hit, taking $311 million worldwide,[26] and garnered generally favorable reviews.[116] The film received multiple awards and nominations, including eight Academy Award nominations and seven MTV Movie Award nominations, including Best Male Performance for Pitt.[117][118] He next voiced the superhero character Metro Man in the 2010 animated feature Megamind.[119] Pitt produced and appeared in Terrence Malick's experimental drama The Tree of Life, co-starring Sean Penn, which won the Palme d'Or at the 2011 Cannes Film Festival.[120] In a performance that attracted strong praise, he portrayed the Oakland Athletics general manager Billy Beane in the drama Moneyball, which is based on the 2003 book of the same name written by Michael Lewis.[121] Moneyball received six Academy Award nominations including Best Picture and Best Actor for Pitt.[122]\n",
    "\n",
    "His next role was as mob hitman Jackie Cogan in Andrew Dominik's 2012 Killing Them Softly, based on the novel Cogan's Trade by George V. Higgins.[123] In 2013, Pitt starred in World War Z, a thriller about a zombie apocalypse, based on Max Brooks's novel of the same name. Pitt also produced the film.[124] World War Z grossed $540 million at the box office worldwide,[26] becoming Pitt's highest grossing picture.[125] Next in 2013, he produced, and played a small role in, 12 Years a Slave, a historical drama based on the autobiography of Solomon Northup.[126] The film received critical acclaim[127] and was nominated for nine Academy Awards, winning three, including Best Picture.[128] Also in 2013, Pitt had a supporting role in Ridley Scott's The Counselor.[129] Plan B Entertainment landed its first television series on the 2013–2014 schedule, as their joint venture with ABC Studios, the sci-fi/fantasy drama Resurrection, was picked up by ABC.[130]\n",
    "2014–present\n",
    "Pitt at the premiere of War Machine in Japan in May 2017\n",
    "\n",
    "Pitt starred in Fury, a World War II film directed and written by David Ayer, and co-starring Shia LaBeouf, Logan Lerman, Jon Bernthal and Michael Peña.[131][132][133] The film was released on October 17, 2014.[131] By the end of its run, Fury proved to be a commercial and critical success; it grossed more than $211 million worldwide[26] and received highly positive reviews from critics.[134] In 2015, Pitt starred opposite his wife, Jolie, in her third directorial effort, By the Sea, a romantic drama about a marriage in crisis, based on her screenplay. The film was their first collaboration since 2005's Mr. & Mrs. Smith. Pitt's next role came with the biographical comedy-drama The Big Short, which he also produced. The film was a commercial and critical success. It went on to gross over $102 million worldwide[135] and received positive reviews from critics.[136][137] The film was nominated for five Academy Awards, including Best Picture, earning Pitt his third Academy Award nomination as producer. In 2016, Pitt starred in Robert Zemeckis's romantic thriller Allied, in which he plays a spy assassin who falls in love with a French spy (played by Marion Cotillard) during a mission to kill a German official in World War II.[138][139] In 2017, he starred in the Netflix satirical war comedy War Machine,[140] which he also produced.[141] Pitt played a recurring role as a weatherman on the late-night talk show The Jim Jefferies Show throughout 2017.[142]\n",
    "\n",
    "In 2016 it was announced that Pitt will star in the upcoming sequel to World War Z,[143] with official release date set as June 9, 2017.[144] However, in early 2017, the release date was announced to be indefinitely delayed.[145] In June, David Fincher was confirmed to direct the World War Z sequel,[146] marking Pitt and Fincher's fourth collaboration. Pitt starred as Cliff Booth, a stunt double, opposite Leonardo DiCaprio, in Quentin Tarantino's 2019 film Once Upon a Time in Hollywood, about the Manson Family murders.[147] Also that year, he will headline James Gray's deep space epic Ad Astra, in which he will play a slightly autistic space engineer, Roy McBride, who searches across the galaxy for his father, played by Tommy Lee Jones.[148]\n",
    "Humanitarian and political causes\n",
    "\n",
    "Pitt visited the University of Missouri campus in October 2004 to encourage students to vote in the 2004 U.S. presidential election,[149] in which he supported John Kerry.[149][150] Later in October he publicly supported the principle of public funding for embryonic stem-cell research. \"We have to make sure that we open up these avenues so that our best and our brightest can go find these cures that they believe they will find\", he said.[151] In support of this he endorsed Proposition 71, a California ballot initiative intended to provide state government funding for stem-cell research.[152]\n",
    "Pitt at the \"Global Summit to End Sexual Violence in Conflict\", June 2014\n",
    "\n",
    "Pitt supports the ONE Campaign, an organization aimed at combating AIDS and poverty in the developing world.[153][154] He narrated the 2005 PBS public television series Rx for Survival: A Global Health Challenge, which discusses current global health issues.[155] The following year Pitt and Jolie flew to Haiti, where they visited a school supported by Yéle Haïti, a charity founded by Haitian-born hip hop musician Wyclef Jean.[156] In May 2007, Pitt and Jolie donated $1 million to three organizations in Chad and Sudan dedicated to those affected by the crisis in the Darfur region.[157] Along with Clooney, Damon, Don Cheadle, David Pressman, and Jerry Weintraub, Pitt is one of the founders of Not On Our Watch, an organization that focuses global attention on stopping \"mass atrocities\".[158]\n",
    "\n",
    "Pitt has a sustained interest in architecture,[159] even taking time away from film to study computer-aided design at the Los Angeles offices of renowned architect Frank Gehry.[160] He narrated Design e2, a PBS television series focused on worldwide efforts to build environmentally friendly structures through sustainable architecture and design.[161] In 2000, he co-authored an architectural book on the Blacker House with the architects Thomas A. Heinz and Randell Makinson.[162] In 2006, he founded the Make It Right Foundation, organizing housing professionals in New Orleans to finance and construct 150 sustainable, affordable new houses in New Orleans's Ninth Ward following the devastation caused by Hurricane Katrina.[163][164]\n",
    "\n",
    "The project involves 13 architectural firms and the environmental organization Global Green USA, with several of the firms donating their services.[165][166] Pitt and philanthropist Steve Bing have each committed $5 million in donations.[167] The first six homes were completed in October 2008,[168] and in September 2009 Pitt received an award in recognition of the project from the U.S. Green Building Council, a non-profit trade organization that promotes sustainability in how buildings are designed, built and operated.[169][170] Pitt met with U.S. President Barack Obama and Speaker of the House of Representatives Nancy Pelosi in March 2009 to promote his concept of green housing as a national model and to discuss federal funding possibilities.[171]\n",
    "\n",
    "In September 2006, Pitt and Jolie established a charitable organization, the Jolie-Pitt Foundation, to aid humanitarian causes around the world.[172] The foundation made initial donations of $1 million each to Global Action for Children and Doctors Without Borders,[173] followed by an October 2006 donation of $100,000 to the Daniel Pearl Foundation, an organization created in memory of the late American journalist Daniel Pearl.[174] According to federal filings, Pitt and Jolie invested $8.5 million into the foundation in 2006; it gave away $2.4 million in 2006[175] and $3.4 million in 2007.[176] In June 2009 the Jolie-Pitt Foundation donated $1 million to a U.N. refugee agency to help Pakistanis displaced by fighting between troops and Taliban militants.[177] In January 2010 the foundation donated $1 million to Doctors Without Borders for emergency medical assistance to help victims of the Haiti earthquake.[178][179]\n",
    "\n",
    "Pitt is a supporter of same-sex marriage.[180] In an October 2006 interview with Esquire, Pitt said that he would marry Jolie when everyone in America is legally able to marry.[181] In September 2008, he donated $100,000 to the campaign against California's 2008 ballot proposition Proposition 8, an initiative to overturn the state Supreme Court decision that had legalized same-sex marriage.[182] In March 2012, Pitt was featured in a performance of Dustin Lance Black's play, '8' – a staged reenactment of the federal trial that overturned California's Prop 8 ban on same-sex marriage – as Judge Vaughn Walker.[183]\n",
    "\n",
    "In September 2012, Pitt reaffirmed his support of President Obama, saying, \"I am an Obama supporter and I'm backing his US election campaign.\"[184]\n",
    "Personal life\n",
    "Relationships\n",
    "A Caucasian man and woman in the foreground of the image, while others are visible behind them. The woman has brown hair, which is tied back. The man has his dark brown hair parted. He is wearing a black suit and bow-tie with a white shirt.\n",
    "Angelina Jolie and Pitt at the 2007 Cannes Film Festival\n",
    "\n",
    "In the late 1980s and early 1990s, Pitt was involved in successive relationships with several of his co-stars, including Robin Givens (Head of the Class),[185] Jill Schoelen (Cutting Class),[185] and Juliette Lewis (Too Young to Die? and Kalifornia).[29] In addition, Pitt had a much-publicized romance and engagement to his Seven co-star, Gwyneth Paltrow, whom he dated from 1994 to 1997.[185]\n",
    "\n",
    "Pitt met Friends actress Jennifer Aniston in 1998 and married her in a private wedding ceremony in Malibu on July 29, 2000.[186] In January 2005, Pitt and Aniston announced they had decided to separate. Two months later, Aniston filed for divorce, citing irreconcilable differences.[187] Pitt and Aniston's divorce was finalized by the Los Angeles Superior Court on October 2, 2005.[187] Despite media reports that Pitt and Aniston had an acrimonious relationship, Pitt said in a February 2009 interview that he and Aniston \"check in with each other\", adding that they were both big parts of each other's lives.[188]\n",
    "\n",
    "During Pitt's divorce proceedings, his involvement with his Mr. & Mrs. Smith co-star Angelina Jolie attracted media attention. Jolie and Pitt stated that they \"fell in love\" on the set[189][190] and that there was no infidelity.[189] In April 2005, one month after Aniston filed for divorce, a set of paparazzi photographs emerged showing Pitt, Jolie, and her son Maddox at a beach in Kenya; the press interpreted the pictures as evidence of a relationship between Pitt and Jolie. During 2005, the two were seen together with increasing frequency, and the entertainment media dubbed the couple \"Brangelina\".[191] On January 11, 2006, Jolie confirmed to People that she was pregnant with Pitt's child, thereby publicly acknowledging their relationship for the first time. Pitt and Jolie announced their engagement in April 2012 after seven years together.[192] They were married on August 23, 2014, in a private ceremony in Château Miraval, France.[193] On September 19, 2016, Jolie filed for divorce from Pitt, citing irreconcilable differences.[194] On April 12, 2019, the court restored Jolie and Pitt to single status.[195]\n",
    "Children\n",
    "Children\n",
    "\n",
    "Maddox Chivan Jolie-Pitt \n",
    "    born August 5, 2001 (age 18) in Cambodia;\n",
    "    adopted March 10, 2002 by Jolie;\n",
    "    adopted early 2006 by Pitt\n",
    "Pax Thien Jolie-Pitt \n",
    "    born November 29, 2003 (age 15) in Ho Chi Minh City, Vietnam;\n",
    "    adopted March 15, 2007 by Jolie;\n",
    "    adopted February 21, 2008 by Pitt\n",
    "Zahara Marley Jolie-Pitt \n",
    "    born January 8, 2005 (age 14) in Awassa, Ethiopia;\n",
    "    adopted July 6, 2005 by Jolie;\n",
    "    adopted early 2006 by Pitt\n",
    "Shiloh Nouvel Jolie-Pitt \n",
    "    born May 27, 2006 (age 13) in Swakopmund, Namibia\n",
    "Knox Léon Jolie-Pitt and Vivienne Marcheline Jolie-Pitt (twins) \n",
    "    born July 12, 2008 (age 11) in Nice, France\n",
    "\n",
    "In July 2005, Pitt accompanied Jolie to Addis Ababa, Ethiopia, where she adopted her second child, Zahara Marley.[196][197] On December 3, 2005, Pitt was in the process of becoming the adoptive father of Zahara, and Jolie's first adopted child, Maddox Chivan.[198] On January 19, 2006, a California judge granted Jolie's request to change the children's surnames from \"Jolie\" to \"Jolie-Pitt\".[199] The adoptions were finalized soon after.[200]\n",
    "\n",
    "Jolie gave birth to daughter Shiloh Nouvel in Swakopmund, Namibia, on May 27, 2006. Pitt confirmed that their newborn daughter would qualify for a Namibian passport.[201] The couple sold the first pictures of Shiloh through the distributor Getty Images; the North American rights were purchased by People for over $4.1 million, while Hello! obtained the British rights for approximately $3.5 million. The proceeds from the sale were donated to charities serving African children.[202] Madame Tussauds in New York unveiled a wax figure of two-month-old Shiloh; it marked the first time an infant was recreated in wax by Madame Tussauds.[203]\n",
    "\n",
    "On March 15, 2007, Jolie adopted three-year-old Pax Thien from an orphanage in Ho Chi Minh City, Vietnam.[204] Pitt adopted Pax in the United States on February 21, 2008.[205]\n",
    "\n",
    "At the Cannes Film Festival in May 2008, Jolie confirmed that she was expecting twins.[206] She gave birth to son Knox Léon and daughter Vivienne Marcheline on July 12, 2008 in Nice, France.[207] The rights for the first images of Knox and Vivienne were jointly sold to People and Hello! for $14 million—the most expensive celebrity pictures ever taken.[208][209] The couple donated the proceeds to the Jolie-Pitt Foundation.[208][210]\n",
    "In the media\n",
    "A male with dyed blonde hair is being interviewed. He is wearing a black suit and tie, with a white shirt, and is standing on a red carpet. People standing behind barricades are visible in the background, while microphones are visible in the foreground.\n",
    "Pitt interviewed by the news media at the Palm Springs International Film Festival in 2007\n",
    "\n",
    "Pitt has been cited as physically attractive by many sources, including Empire, who named him one of the 25 sexiest stars in film history in 1995.[9][211][212] The same year, Pitt was chosen as People's Sexiest Man Alive, an accolade he received again in 2000.[211][213] Pitt appeared on Forbes's annual Celebrity 100 list of the 100 most powerful celebrities in 2006, 2007, and 2008, at No. 20, No. 5, and No. 10 respectively.[214][215][216] In 2007, he was listed among the Time 100, a compilation of the 100 most influential people in the world, as selected annually by TIME.[217] The magazine credited Pitt with using \"his star power to get people to look [to where] cameras don't usually catch\".[217] Pitt was again included in the Time 100 in 2009, this time in the Builders and Titans list.[218]\n",
    "\n",
    "Starting in 2005, Pitt's relationship with Angelina Jolie became one of the most reported celebrity stories worldwide. After confirming that Jolie was pregnant in early 2006, the significant media hype surrounding the couple reached what Reuters, in a story titled \"The Brangelina fever,\" called \"the point of insanity\".[219] To avoid media attention, the couple flew to Namibia for the birth of their daughter Shiloh, which was described by a paparazzi blog as \"the most anticipated baby since Jesus Christ.\"[220] Similarly, intense media interest greeted the announcement two years later of Jolie's second pregnancy; for the two weeks Jolie spent in a seaside hospital in Nice, reporters and photographers camped outside on the promenade to report on the birth.[221]\n",
    "\n",
    "In a 2006 global industry survey by ACNielsen in 42 international markets, Pitt, together with Jolie, was found to be the favorite celebrity endorser for brands and products worldwide.[222] Pitt has appeared in several television commercials. For the U.S. market, he starred in a Heineken commercial aired during the 2005 Super Bowl; it was directed by David Fincher, who had directed Pitt in Seven, Fight Club, and The Curious Case of Benjamin Button.[223] Other commercial appearances came in television spots including Acura Integra, in which he was featured opposite Russian model Tatiana Sorokko,[224] as well as SoftBank, and Edwin Jeans.[225] On June 2, 2015, the minor planet 29132 Bradpitt was named in his honor.[226] \"\"\""
   ]
  },
  {
   "cell_type": "code",
   "execution_count": 42,
   "metadata": {},
   "outputs": [],
   "source": [
    "tom_cruise = \"\"\"Tom Cruise\n",
    "From Wikipedia, the free encyclopedia\n",
    "Jump to navigation\n",
    "Jump to search\n",
    "This article is about the American actor. For other people named Tom Cruise, see Tom Cruise (disambiguation).\n",
    "Tom Cruise\n",
    "Tom Cruise by Gage Skidmore 2.jpg\n",
    "Cruise at the 2019 San Diego Comic-Con\n",
    "Born\tThomas Cruise Mapother IV\n",
    "\n",
    "July 3, 1962 (age 57)\n",
    "Syracuse, New York, U.S.\n",
    "Occupation\t\n",
    "\n",
    "    Actorfilm producer\n",
    "\n",
    "Years active\t1981–present\n",
    "Works\n",
    "\tFull list\n",
    "Spouse(s)\t\n",
    "\n",
    "    Mimi Rogers\n",
    "    (m. 1987; div. 1990)\n",
    "    Nicole Kidman\n",
    "    (m. 1990; div. 2001)\n",
    "    Katie Holmes\n",
    "    (m. 2006; div. 2012)\n",
    "\n",
    "Children\t3\n",
    "Relatives\tWilliam Mapother (cousin)\n",
    "Awards\tFull list\n",
    "Website\ttomcruise.com\n",
    "Signature\n",
    "Tom Cruise signature.svg\n",
    "\n",
    "Thomas Cruise[1] (born Thomas Cruise Mapother IV; July 3, 1962) is an American actor and film producer. He has received several accolades for his work, including three Golden Globe Awards and nominations for three Academy Awards. Cruise is one of the best-paid actors in the world,[2] and his films have earned over $3.9 billion in North America;[3] he is one of the highest-grossing actors of all time.[4]\n",
    "\n",
    "Cruise began acting in the early 1980s and made his breakthrough with leading roles in the comedy Risky Business (1983) and the action drama Top Gun (1986). Critical acclaim came with his roles in the dramas The Color of Money (1986), Rain Man (1988), and Born on the Fourth of July (1989). For portraying Ron Kovic in the latter, he won a Golden Globe Award and received a nomination for the Academy Award for Best Actor. As a leading Hollywood star in the 1990s, Cruise starred in several commercially successful films, including the drama A Few Good Men (1992), the thriller The Firm (1993), the horror film Interview with the Vampire (1994), and the romance Jerry Maguire (1996), for which he won another Golden Globe and received his second Oscar nomination. His performance as a motivational speaker in the 1999 drama Magnolia earned him a third Golden Globe and a nomination for the Academy Award for Best Supporting Actor. As an action star, Cruise has played Ethan Hunt in six films of the Mission: Impossible film series from 1996 to 2018. He also continued to feature in several science fiction and action films, including Vanilla Sky (2001), Minority Report (2002), The Last Samurai (2003), Collateral (2004), War of the Worlds (2005), Knight and Day (2010), Jack Reacher (2012), Oblivion (2013), and Edge of Tomorrow (2014).\n",
    "\n",
    "Cruise has been married to actresses Mimi Rogers, Nicole Kidman, and Katie Holmes. He has three children, two of whom were adopted during his marriage to Kidman and the other of whom is a biological daughter he had with Holmes. Cruise is an outspoken advocate for the Church of Scientology and its associated social programs, and credits it with helping him overcome dyslexia. In the 2000s, he sparked controversy with his Church-affiliated criticisms of psychiatry and anti-depressant drugs, his efforts to promote Scientology as a religion in Europe, and a leaked video interview of him promoting Scientology.\n",
    "Contents\n",
    "\n",
    "    1 Early life\n",
    "    2 Career\n",
    "        2.1 Acting\n",
    "        2.2 Producing\n",
    "            2.2.1 Break with Paramount\n",
    "            2.2.2 Management of United Artists\n",
    "    3 Personal life\n",
    "    4 Scientology\n",
    "        4.1 Cruise's advocacy of Scientology\n",
    "        4.2 Criticism of psychiatry\n",
    "        4.3 YouTube video removal\n",
    "        4.4 Scientology's purported influence on Cruise's relationships\n",
    "    5 Legacy\n",
    "        5.1 \"Tom Cruise Picture\"\n",
    "    6 Litigation\n",
    "    7 Filmography\n",
    "    8 Awards and nominations\n",
    "    9 See also\n",
    "    10 References\n",
    "    11 External links\n",
    "\n",
    "Early life\n",
    "\n",
    "Cruise was born in Syracuse, New York, the son of Mary Lee (née Pfeiffer) (1936–2017), a special education teacher, and Thomas Cruise Mapother III (1934–1984),[5] an electrical engineer, both originally from Louisville, Kentucky.[6][7] He has three sisters: Lee Anne, Marian, and Cass. They are of English, German, and Irish ancestry.[8][9] One of Cruise's ancestors, Patrick Russell Cruise, was born in north County Dublin in 1799; he married Teresa Johnson in County Meath, in 1825. They left Ireland for the United States that same year and settled in New York.[8] They had a daughter, Mary Paulina Russell Cruise, whose son Thomas Cruise Mapother was Cruise's great-grandfather.[10][11][12][13] A cousin, William Mapother, is also an actor; he and Cruise have appeared in five films together.[14]\n",
    "\n",
    "Cruise grew up in near poverty and had a Catholic upbringing. Cruise described his father as \"a merchant of chaos\",[15] a \"bully\", and a \"coward\" who inflicted beatings upon him. Regarding his father, Cruise once said, \"He was the kind of person where, if something goes wrong, they kick you. It was a great lesson in my life—how he'd lull you in, make you feel safe and then, bang! For me, it was like, 'There's something wrong with this guy. Don't trust him. Be careful around him.'\"[15]\n",
    "\n",
    "Cruise spent part of his childhood in Canada. His family moved to Beacon Hill, Ottawa in late 1971 so that Cruise's father could take a position as a defense consultant with the Canadian Armed Forces.[16] There, Cruise attended the newly opened Robert Hopkins Public School for much of grade four and grade five.[16][17] In grade four, Cruise first became involved in drama, under the tutelage of George Steinburg. Cruise and six other boys put on an improvised play to music called IT at the Carleton Elementary School drama festival.[16] Drama organizer Val Wright, who was in the audience that night, reflected, \"The movement and improvisation were excellent. It was a classic ensemble piece.\"[16]\n",
    "\n",
    "In sixth grade, Cruise went to Henry Munro Middle School in Ottawa, Ontario, Canada. However, in the spring of that year, Cruise's mother left his father, taking Cruise and his sisters back to the United States;[16] in 1978, she married Jack South.[18] Cruise's father died of cancer in 1984.[19] Cruise briefly attended a Franciscan seminary in Cincinnati, Ohio on a church scholarship and aspired to become a Catholic priest before he became interested in acting.[20]:24–26 In total, Cruise attended 15 schools in 14 years.[21] In his senior year of high school, he played football for the varsity team as a linebacker, but was cut from the squad after getting caught drinking beer before a game.[20]:47 Also in his senior year, Cruise starred in his high school's production of Guys and Dolls.[22] He graduated from Glen Ridge High School in Glen Ridge, New Jersey in 1980.[23]\n",
    "Career\n",
    "Acting\n",
    "\n",
    "At age 18,[24] with the blessing of his mother and stepfather, Cruise moved to New York City to pursue an acting career.[22] After working as a bus-boy in New York, Cruise went to Los Angeles to try out for television roles. He signed with CAA (Creative Artists Agency) and began acting in films.[24]\n",
    "\n",
    "Cruise first appeared in a bit part in the 1981 film Endless Love, followed by a major supporting role as a crazed military academy student in Taps later that year. In 1983, Cruise was part of the ensemble cast of The Outsiders. That same year he appeared in All the Right Moves and Risky Business, which has been described as \"A Generation X classic, and a career-maker for Tom Cruise\",[25] and which, along with 1986's Top Gun, cemented his status as a superstar.[26] Cruise also played the male lead in the Ridley Scott film Legend, released in 1985.[27]\n",
    "Cruise at the 61st Academy Awards in 1989\n",
    "\n",
    "Cruise followed up Top Gun with The Color of Money, which came out the same year, and which paired him with Paul Newman. 1988 saw him star in Cocktail, which earned him a nomination for the Razzie Award for Worst Actor. Later that year he starred with Dustin Hoffman in Rain Man, which won the Academy Award for Best Film and Cruise the Kansas City Film Critics Circle Award for Best Supporting Actor. Cruise portrayed real-life paralyzed Vietnam War veteran Ron Kovic in 1989's Born on the Fourth of July, which earned him a Golden Globe Award for Best Actor - Motion Picture Drama, the Chicago Film Critics Association Award for Best Actor, the People's Choice Award for Favorite Motion Picture Actor, a nomination for BAFTA Award for Best Actor in a Leading Role, and Cruise's first Best Actor Academy Award nomination.\n",
    "\n",
    "Cruise's next films were Days of Thunder (1990) and Far and Away (1992), both of which co-starred then-wife Nicole Kidman as his love interest. In 1994, Cruise starred along with Brad Pitt, Antonio Banderas and Christian Slater in Neil Jordan's Interview with the Vampire, a gothic drama/horror film that was based on Anne Rice's best-selling novel. The film was well received, although Rice was initially quite outspoken in her criticism of Cruise having been cast in the film, as Julian Sands was her first choice. Upon seeing the film however, she paid $7,740 for a two-page ad in Daily Variety praising his performance and apologizing for her previous doubts about him.[28]\n",
    "\n",
    "In 1996, Cruise appeared as superspy Ethan Hunt in the reboot of Mission: Impossible, which he produced. It was a box office success, although it received criticism regarding the Jim Phelps character being a villain despite being a protagonist of the original television series.[29]\n",
    "\n",
    "In 1996, he took on the title role in Jerry Maguire, for which he earned a Golden Globe and his second nomination for an Academy Award. In 1999, Cruise costarred with Kidman in the erotic Stanley Kubrick film Eyes Wide Shut, and took a rare supporting role, as a motivational speaker, Frank T.J. Mackey, in Magnolia, for which he received another Golden Globe and nomination for an Academy Award.\n",
    "Cruise in March 2006\n",
    "\n",
    "In 2000, Cruise returned as Ethan Hunt in the second installment of the Mission Impossible films, Mission: Impossible 2. The film was helmed by Hong Kong director John Woo and branded with his gun fu style, and continued the series' blockbuster success at the box office, taking in almost $547M in worldwide figures. Like its predecessor, it was the highest-grossing film of the year, and had a mixed critical reception. Cruise received an MTV Movie Award for Best Male Performance for this film.\n",
    "\n",
    "His next five films were major critical and commercial successes.[30][31] The following year Cruise starred in the romantic thriller Vanilla Sky (2001) with Cameron Diaz and Penélope Cruz. In 2002, Cruise starred in the dystopian science fiction action film Minority Report which was directed by Steven Spielberg and based on the science fiction short story by Philip K. Dick.\n",
    "\n",
    "In 2003, he starred in Edward Zwick's period action drama The Last Samurai, for which he received a Golden Globe nomination for best actor. In 2004, Cruise received critical acclaim for his performance as Vincent in Collateral - directed by Michael Mann.\n",
    "\n",
    "In 2005, Cruise worked again with Steven Spielberg in War of the Worlds, a loose adaptation of the H. G. Wells novel of the same name, which became the fourth highest-grossing film of the year with US$591.4 million worldwide. Also in 2005, he won the People's Choice Award for Favorite Male Movie Star, and the MTV Generation Award. Cruise was nominated for seven Saturn Awards between 2002 and 2009, winning once. Nine of the ten films he starred in during the decade made over $100 million at the box office.[30]\n",
    "Cruise in Paris at the French premiere of Edge of Tomorrow, May 2014.\n",
    "\n",
    "In 2006, he returned to his role as Ethan Hunt in the third installment of the Mission Impossible film series, Mission: Impossible III. The film was more positively received by critics than the previous films in the series, and grossed nearly $400 million at the box office.[32] In 2007, Cruise took a rare supporting role for the second time in Lions for Lambs, which was a commercial disappointment. This was followed by an unrecognizable appearance as \"Les Grossman\" in the 2008 comedy Tropic Thunder with Ben Stiller, Jack Black, and Robert Downey Jr. This performance earned Cruise a Golden Globe nomination. Cruise played the central role in the historical thriller Valkyrie released on December 25, 2008 to box office success.[33]\n",
    "\n",
    "In March 2010, Cruise completed filming the action-comedy Knight and Day, in which he re-teamed with former costar Cameron Diaz; the film was released on June 23, 2010.[34] On February 9, 2010, Cruise confirmed that he would star in Mission: Impossible – Ghost Protocol, the fourth installment in the Mission: Impossible series. The film was released in December 2011[35] to high critical acclaim[36] and box office success.[37] Unadjusted for ticket price inflation, it is Cruise's biggest commercial success to date.[38]\n",
    "\n",
    "On May 6, 2011, Cruise was awarded a humanitarian award from the Simon Wiesenthal Centre and Museum of Tolerance for his work as a dedicated philanthropist.[39] In mid-2011, Cruise started shooting the movie Rock of Ages, in which he played the character Stacee Jaxx. The film was released in June 2012.[40]\n",
    "\n",
    "Cruise starred as Jack Reacher in the film adaptation of British author Lee Child's 2005 novel One Shot. The film was released on December 21, 2012.[41] It met with positive reviews from critics and was a box office success grossing $216,568,266 worldwide.[42][43] In 2013, he starred in the science fiction film Oblivion based on director Joseph Kosinski's graphic novel of the same name. The film met with mixed reviews and grossed $285,600,588 worldwide. It also starred Morgan Freeman and Olga Kurylenko.[44][45]\n",
    "\n",
    "As of mid-2015 Cruise's films have grossed about $8.2 billion worldwide.[46]\n",
    "\n",
    "Cruise returned as Ethan Hunt in the fifth installment of the Mission: Impossible series, Mission: Impossible – Rogue Nation, which he also produced.[47] Returning cast members included Simon Pegg as Benji and Jeremy Renner as William Brandt, with Christopher McQuarrie as director.\n",
    "\n",
    "Cruise starred in the 2017 reboot of Boris Karloff's 1932 horror movie The Mummy.[48] The new film, also titled The Mummy, was produced by Alex Kurtzman, Chris Morgan, and Sean Daniel, written by Jon Spaihts and directed by Kurtzman. In 2018, Cruise again reprised Ethan Hunt, in the sixth film in his franchise, Mission: Impossible – Fallout.\n",
    "Producing\n",
    "\n",
    "Cruise partnered with his former talent agent Paula Wagner to form Cruise/Wagner Productions in 1993,[49] and the company has since co-produced several of Cruise's films, the first being Mission: Impossible in 1996 which was also Cruise's first project as a producer.\n",
    "Cruise in 2018\n",
    "\n",
    "Cruise is noted as having negotiated some of the most lucrative film deals in Hollywood, and was described in 2005 by Hollywood economist Edward Jay Epstein as \"one of the most powerful – and richest – forces in Hollywood.\" Epstein argues that Cruise is one of the few producers (the others being George Lucas, Steven Spielberg and Jerry Bruckheimer) who are regarded as able to guarantee the success of a billion-dollar film franchise. Epstein also contends that the public obsession with Cruise's tabloid controversies obscures full appreciation of Cruise's exceptional commercial prowess.[50]\n",
    "\n",
    "Cruise/Wagner Productions, Cruise's film production company, is said to be developing a screenplay based on Erik Larson's New York Times bestseller, The Devil in the White City about a real-life serial killer, H. H. Holmes, at Chicago's World's Columbian Exposition. Kathryn Bigelow is attached to the project to produce and helm. Meanwhile, Leonardo DiCaprio's production company, Appian Way, is also developing a film about Holmes and the World's Fair, in which DiCaprio will star.[51]\n",
    "\n",
    "Cruise has produced for multiple films in which he has been. He produced Mission: Impossible, Without Limits, Mission: Impossible 2, The Others, Vanilla Sky and many others.[52]\n",
    "Break with Paramount\n",
    "\n",
    "On August 22, 2006, Paramount Pictures announced it was ending its 14-year relationship with Cruise. In the Wall Street Journal, chairman of Viacom (Paramount's parent company) Sumner Redstone cited the economic damage to Cruise's value as an actor and producer from his controversial public behavior and views.[53][54] Cruise/Wagner Productions responded that Paramount's announcement was a face-saving move after the production company had successfully sought alternative financing from private equity firms.[55]\n",
    "\n",
    "Industry analysts such as Edward Jay Epstein commented that the real reason for the split was most likely Paramount's discontent over Cruise/Wagner's exceptionally large share of DVD sales from the Mission: Impossible franchise.[56][57]\n",
    "Management of United Artists\n",
    "\n",
    "In November 2006, Cruise and Paula Wagner announced that they had taken over the film studio United Artists.[49] Cruise acts as a producer and star in films for United Artists, while Wagner serves as UA's chief executive.\n",
    "\n",
    "Production began in 2007 of Valkyrie, a thriller based on the July 20, 1944 assassination attempt against Adolf Hitler. The film was acquired in March 2007 by United Artists. On March 21, 2007, Cruise signed to play Claus von Stauffenberg, the protagonist. This project marked the second production to be greenlighted since Cruise and Wagner took control of United Artists. The first was its inaugural film, Lions for Lambs, directed by Robert Redford and starring Redford, Meryl Streep and Cruise. Lambs was released on November 9, 2007,[58] opening to unimpressive box office revenue and critical reception.\n",
    "\n",
    "In August 2008, Wagner stepped down from her position at United Artists; she retains her stake in UA, which combined with Cruise's share amounts to 30 percent of the studio.[59]\n",
    "Personal life\n",
    "\n",
    "Cruise has been married and divorced three times and has three children (two adopted and one biological).\n",
    "\n",
    "In the early to mid-1980s, Cruise had relationships with older women, including Rebecca De Mornay,[60] three years his senior; Patti Scialfa,[61] nine years his senior; and Cher,[62] 16 years his senior.[63] Cruise married actress Mimi Rogers on May 9, 1987.[64] They divorced on February 4, 1990. Rogers introduced Cruise to the Church of Scientology.[65] He met his second wife, actress Nicole Kidman, on the set of their film Days of Thunder (1990). The couple married on December 24, 1990. Cruise and Kidman adopted two children, Isabella Jane (born 1992) and Connor Antony (born 1995). In February 2001, Cruise filed for divorce from Kidman while she was unknowingly pregnant. The pregnancy ended in a miscarriage. In 2007, Kidman clarified rumors of a miscarriage early in her marriage to Cruise, saying in an interview, \"It was wrongly reported,\" and explaining that she had actually had an ectopic pregnancy.[66] Before Kidman's next marriage to Keith Urban, she spoke of how much she still loved Cruise, saying in 2006: \"He was huge; still is. To me, he was just Tom, but to everybody else, he is huge. But he was lovely to me. And I loved him. I still love him.\"[67]\n",
    "Cruise with then-wife Katie Holmes in May 2009\n",
    "\n",
    "Cruise was next romantically linked with Penélope Cruz, his co-star in Vanilla Sky (2001). Their relationship ended in 2004.[68]\n",
    "\n",
    "An article in the October 2012 issue of Vanity Fair states that several sources have said that after the breakup with Cruz, the Church of Scientology launched a secret project to find Cruise a new girlfriend. According to those sources, a series of \"auditions\" of Scientologist actresses resulted in a short-lived relationship with British-Iranian actress Nazanin Boniadi, who subsequently left Scientology.[69] The Church of Scientology and Cruise's lawyers issued strongly worded denials and threatened to sue, accusing Vanity Fair of \"shoddy journalism\" and \"religious bigotry.\"[70] Journalist Roger Friedman later reported that he received an email from director and ex-Scientologist Paul Haggis confirming the story.[71][72]\n",
    "\n",
    "In April 2005, Cruise began dating actress Katie Holmes. On April 27 that year, Cruise and Holmes – dubbed \"TomKat\" by the media – made their first public appearance together in Rome.[73] A month later, Cruise publicly declared his love for Holmes on The Oprah Winfrey Show, jumping up and down on Winfrey's couch during the show.[74] On October 6, 2005, Cruise and Holmes announced they were expecting a child.[75] In April 2006 their daughter Suri was born.\n",
    "\n",
    "On November 18, 2006, Holmes and Cruise were married at the 15th-century Odescalchi Castle in Bracciano, Italy, in a Scientology ceremony attended by many Hollywood stars.[76][77] The actors' publicist said the couple had \"officialized\" their marriage in Los Angeles the day before the Italian ceremony.[78] There has been widespread speculation that their marriage was arranged by the Church of Scientology.[79][80] David Miscavige, the head of the Church of Scientology, served as Cruise's best man.[81]\n",
    "\n",
    "On June 29, 2012, Holmes filed for divorce from Cruise after five and a half years of marriage.[82][83] On July 9, 2012, the couple signed a divorce settlement worked out by their lawyers.[84] Because New York law requires that all divorce documents remain sealed, the exact terms of the settlement are not publicly available.[85]\n",
    "Scientology\n",
    "Tom Cruise and Mimi Rogers at the 1989 Oscars\n",
    "\n",
    "Cruise is an outspoken advocate for the Church of Scientology and its associated social programs. He became involved with Scientology in 1990 through his first wife, Mimi Rogers.[86] Cruise struggled with dyslexia at an early age[87] and has said that Scientology, specifically the L. Ron Hubbard Study Tech, helped him overcome dyslexia.[88]\n",
    "Cruise's advocacy of Scientology\n",
    "\n",
    "In addition to promoting various programs that introduce people to Scientology, Cruise has campaigned for Scientology to be recognized as a religion in Europe. In 2005, the Paris city council revealed that Cruise had lobbied officials Nicolas Sarkozy and Jean-Claude Gaudin, described him as a spokesman and militant for Scientology, and barred any further dealings with him.[89][90]\n",
    "\n",
    "Cruise co-founded and raised donations for Downtown Medical to offer New York City 9/11 rescue workers detoxification therapy based on the works of L. Ron Hubbard. This drew criticism from the medical profession[91] and from firefighters.[92]\n",
    "\n",
    "For such activities, Scientology leader David Miscavige created the Scientology Freedom Medal of Valor and awarded it to Cruise in late 2004.[93]\n",
    "Criticism of psychiatry\n",
    "\n",
    "In January 2004, Cruise made the controversial statement \"I think psychiatry should be outlawed.\"[94] Further controversy erupted in 2005 after he openly criticized actress Brooke Shields for using the drug Paxil (paroxetine), an anti-depressant to which Shields attributes her recovery from postpartum depression after the birth of her first daughter in 2003. Cruise asserted that there is no such thing as a chemical imbalance and that psychiatry is a form of pseudoscience. Shields responded that Cruise \"should stick to saving the world from aliens and let women who are experiencing postpartum depression decide what treatment options are best for them\".[95] This led to a heated argument between Matt Lauer and Cruise on NBC's Today on June 24, 2005.[96]\n",
    "\n",
    "Medical authorities view Cruise's comments as furthering the social stigma of mental illness.[97][98] Shields herself called Cruise's comments \"a disservice to mothers everywhere.\"[99] In late August 2006, Cruise apologized in person to Shields for his comments.[100]\n",
    "\n",
    "Scientology is well known for its opposition to mainstream psychiatry and the psychoactive drugs which are routinely prescribed for treatment.[93] It was reported that Cruise's anti-psychiatry actions led to a rift with director Steven Spielberg.[101] Spielberg had reportedly mentioned in Cruise's presence the name of a doctor friend who prescribed psychiatric medication. Shortly thereafter, the doctor's office was picketed by Scientologists, reportedly angering Spielberg.[102]\n",
    "YouTube video removal\n",
    "Main article: Project Chanology § Tom Cruise video\n",
    "\n",
    "On January 15, 2008, a video produced by the Church of Scientology featuring an interview with Cruise was posted on YouTube, showing Cruise discussing what being a Scientologist means to him.[103][104] The Church of Scientology said the video had been \"pirated and edited,\" and was taken from a three-hour video produced for members of Scientology.[104][105] YouTube removed the Cruise video from their site under threat of litigation.[106]\n",
    "\n",
    "After YouTube investigated this claim, they found that the video did not breach copyright law, as it is covered by the fair use clause. It was subsequently reinstated on the site, and as of April 2019, the video has achieved over 13 million views. YouTube has declined to remove it again, due to the popularity of the video, and subsequent changes to copyright policy of the Web site.[107]\n",
    "Scientology's purported influence on Cruise's relationships\n",
    "See also: § Personal life\n",
    "\n",
    "In 2013, Cruise stated that ex-wife Katie Holmes divorced him in part to protect the couple's daughter Suri from Scientology. He also said that Suri is no longer a practicing member of the church.[108]\n",
    "\n",
    "In March 2004, his publicist of 14 years, Pat Kingsley, resigned. Cruise's next publicist was Lee Anne DeVette, Cruise's sister, who was herself a Scientologist. She served in that role until November 2005.[109] DeVette was replaced with Paul Bloch from the publicity firm Rogers and Cowan.[110] Such restructuring was seen as a move to curtail publicity of his views on Scientology, as well as the controversy surrounding his relationship with Katie Holmes.[111][112]\n",
    "\n",
    "The 2015 documentary Going Clear: Scientology and the Prison of Belief cast a spotlight on Cruise's role in Scientology. The film alleges that Cruise used Sea Org workers as a source of free labor.[113] In the film, Cruise's former auditor Marty Rathbun claims that wife Nicole Kidman was wiretapped on Tom Cruise's suggestion (which Cruise's lawyer denies).[114][115]\n",
    "Legacy\n",
    "Cruise and Katie Holmes interacting with fans in March 2006\n",
    "\n",
    "In 2006, Premiere ranked Cruise as Hollywood's most powerful actor,[116] as Cruise came in at number 13 on the magazine's 2006 Power List, being the highest ranked actor.[117] The same year, Forbes magazine ranked him as the world's most powerful celebrity.[118] The founder of CinemaScore in 2016 cited Cruise and Leonardo DiCaprio as the \"two stars, it doesn't matter how bad the film is, they can pull [the box office] up\".[119]\n",
    "\n",
    "In August 2006, Paramount cited Cruise's \"recent conduct\" as the reason they did not renew their production contract with him.[120] In addition, Marketing Evaluations reported that Cruise's Q score (a measure of the popularity of celebrities), had fallen 40 percent.[121][122]\n",
    "\n",
    "October 10, 2006, was declared \"Tom Cruise Day\" in Japan; the Japan Memorial Day Association said that he was awarded with a special day because he has made more trips to Japan than any other Hollywood star.[123]\n",
    "\"Tom Cruise Picture\"\n",
    "\n",
    "While reviewing Days of Thunder, film critic Roger Ebert noted the similarities between several of Cruise's 1980s films and nicknamed the formula the Tom Cruise Picture. Some of Cruise's later films like A Few Good Men and The Last Samurai can also be considered to be part of this formula.\n",
    "\n",
    "Widescreenings noted that for Tom Cruise's character Daniel Kaffee in A Few Good Men,\n",
    "\n",
    "    [screenwriter] Aaron Sorkin interestingly takes the opposite approach of Top Gun, where Cruise also starred as the protagonist. In Top Gun, Cruise plays Mitchell who is a 'hot shot' military underachiever who makes mistakes because he is trying to outperform his late father. Where Maverick Mitchell needs to rein in the discipline, Daniel Kaffee needs to let it go, finally see what he can do.[124]\n",
    "\n",
    "Sorkin and director Rob Reiner are praised in gradually unveiling Kaffee's potential in the film.[124]\n",
    "Litigation\n",
    "\n",
    "During Cruise's marriage to Nicole Kidman, the couple endured a great deal of public speculation about their sex life and rumors that Cruise was gay. In 1998, he successfully sued the Daily Express, a British tabloid which alleged that his marriage to Kidman was a sham designed to cover up his homosexuality.[125]\n",
    "\n",
    "In May 2001, he filed a lawsuit against gay porn actor Chad Slater. Slater had told the celebrity magazine Actustar that he had been involved in an affair with Cruise. This claim was strongly denied by Cruise,[126] and Slater was later ordered to pay $10 million to Cruise in damages after Slater declared he could not afford to defend himself against the suit and would therefore default. Cruise requested a default judgment and, in January 2003, a Los Angeles judge decided against Slater after the porn actor said that his story was false.[127][128]\n",
    "\n",
    "Cruise also sued Bold Magazine publisher Michael Davis for $100 million, because Davis had alleged (though never confirmed) that he had video that would prove Cruise was gay. The suit was dropped in exchange for a public statement by Davis that the video was not of Cruise, and that Cruise was heterosexual.[129]\n",
    "\n",
    "In 2006, Cruise sued cybersquatter Jeff Burgar to obtain control of the TomCruise.com domain name. When owned by Burgar, the domain redirected to information about Cruise on Celebrity1000.com. The decision to turn TomCruise.com over to Cruise was handed down by the World Intellectual Property Organization (WIPO) on July 5, 2006.[130]\n",
    "\n",
    "In 2009, Michael Davis Sapir filed a suit charging that his phone had been wiretapped at Cruise's behest. That suit was dismissed by a Central Civil West court judge in Los Angeles on the grounds that the statute of limitations had expired on Sapir's claim.[131][132]\n",
    "\n",
    "In October 2012, Cruise filed a lawsuit against In Touch and Life & Style magazines for defamation after they claimed Cruise had \"abandoned\" his six-year-old daughter.[133] During deposition, Cruise testified that due to his work load 110 days had passed without him seeing her. The suit was ultimately settled between the two parties.[134] \n",
    "\"\"\""
   ]
  },
  {
   "cell_type": "code",
   "execution_count": 43,
   "metadata": {},
   "outputs": [],
   "source": [
    "articles = []"
   ]
  },
  {
   "cell_type": "code",
   "execution_count": 44,
   "metadata": {},
   "outputs": [],
   "source": [
    "articles.append(brad_pitt)"
   ]
  },
  {
   "cell_type": "code",
   "execution_count": 45,
   "metadata": {},
   "outputs": [],
   "source": [
    "articles.append(tom_cruise)"
   ]
  },
  {
   "cell_type": "code",
   "execution_count": 49,
   "metadata": {},
   "outputs": [],
   "source": [
    "articles.append(angelina)"
   ]
  },
  {
   "cell_type": "code",
   "execution_count": 50,
   "metadata": {},
   "outputs": [],
   "source": [
    "articles.append(jennifer)"
   ]
  },
  {
   "cell_type": "code",
   "execution_count": 51,
   "metadata": {},
   "outputs": [
    {
     "data": {
      "text/plain": [
       "4"
      ]
     },
     "execution_count": 51,
     "metadata": {},
     "output_type": "execute_result"
    }
   ],
   "source": [
    "len(articles)"
   ]
  },
  {
   "cell_type": "code",
   "execution_count": 1,
   "metadata": {},
   "outputs": [
    {
     "name": "stderr",
     "output_type": "stream",
     "text": [
      "/home/jassi/anaconda3/lib/python3.7/site-packages/smart_open/ssh.py:34: UserWarning: paramiko missing, opening SSH/SCP/SFTP paths will be disabled.  `pip install paramiko` to suppress\n",
      "  warnings.warn('paramiko missing, opening SSH/SCP/SFTP paths will be disabled.  `pip install paramiko` to suppress')\n"
     ]
    }
   ],
   "source": [
    "from collections import defaultdict\n",
    "import itertools\n",
    "\n",
    "import nltk\n",
    "\n",
    "from nltk.tokenize import word_tokenize\n",
    "from nltk.tokenize import sent_tokenize\n",
    "from collections import Counter\n",
    "\n",
    "from nltk.corpus import stopwords\n",
    "from nltk.stem import WordNetLemmatizer\n",
    "\n",
    "from gensim.corpora.dictionary import Dictionary\n",
    "from gensim.models.tfidfmodel import TfidfModel\n",
    "\n",
    "import spacy\n",
    "from spacy import displacy\n",
    "\n",
    "import matplotlib.pyplot as plt\n",
    "%matplotlib inline"
   ]
  },
  {
   "cell_type": "markdown",
   "metadata": {},
   "source": [
    "## Simple topic identification"
   ]
  },
  {
   "cell_type": "markdown",
   "metadata": {},
   "source": [
    "Preprocess articles"
   ]
  },
  {
   "cell_type": "code",
   "execution_count": 85,
   "metadata": {},
   "outputs": [],
   "source": [
    "articles_tokens = [word_tokenize(text.lower()) for text in articles]"
   ]
  },
  {
   "cell_type": "code",
   "execution_count": 86,
   "metadata": {},
   "outputs": [],
   "source": [
    "alpha_tokens = [[t for t in text if t.isalpha()] for text in articles_tokens]"
   ]
  },
  {
   "cell_type": "code",
   "execution_count": 87,
   "metadata": {},
   "outputs": [],
   "source": [
    "no_stops = [[t for t in text if t not in stopwords.words('english')] for text in alpha_tokens]"
   ]
  },
  {
   "cell_type": "code",
   "execution_count": 88,
   "metadata": {},
   "outputs": [],
   "source": [
    "wordnet_lemmatizer = WordNetLemmatizer()"
   ]
  },
  {
   "cell_type": "code",
   "execution_count": 89,
   "metadata": {},
   "outputs": [],
   "source": [
    "lemmatized = [[wordnet_lemmatizer.lemmatize(t) for t in text] for text in no_stops]"
   ]
  },
  {
   "cell_type": "code",
   "execution_count": 90,
   "metadata": {},
   "outputs": [
    {
     "data": {
      "text/plain": [
       "['william', 'bradley', 'pitt', '(', 'born', 'december', '18', ',', '1963', ')']"
      ]
     },
     "execution_count": 90,
     "metadata": {},
     "output_type": "execute_result"
    }
   ],
   "source": [
    "articles_tokens[0][:10]"
   ]
  },
  {
   "cell_type": "code",
   "execution_count": 91,
   "metadata": {},
   "outputs": [
    {
     "data": {
      "text/plain": [
       "['william',\n",
       " 'bradley',\n",
       " 'pitt',\n",
       " 'born',\n",
       " 'december',\n",
       " 'is',\n",
       " 'an',\n",
       " 'american',\n",
       " 'actor',\n",
       " 'and']"
      ]
     },
     "execution_count": 91,
     "metadata": {},
     "output_type": "execute_result"
    }
   ],
   "source": [
    "alpha_tokens[0][:10]"
   ]
  },
  {
   "cell_type": "code",
   "execution_count": 96,
   "metadata": {
    "scrolled": true
   },
   "outputs": [
    {
     "data": {
      "text/plain": [
       "['william',\n",
       " 'bradley',\n",
       " 'pitt',\n",
       " 'born',\n",
       " 'december',\n",
       " 'american',\n",
       " 'actor',\n",
       " 'film',\n",
       " 'producer',\n",
       " 'received']"
      ]
     },
     "execution_count": 96,
     "metadata": {},
     "output_type": "execute_result"
    }
   ],
   "source": [
    "no_stops[0][:10]"
   ]
  },
  {
   "cell_type": "code",
   "execution_count": 98,
   "metadata": {
    "scrolled": true
   },
   "outputs": [
    {
     "data": {
      "text/plain": [
       "['william',\n",
       " 'bradley',\n",
       " 'pitt',\n",
       " 'born',\n",
       " 'december',\n",
       " 'american',\n",
       " 'actor',\n",
       " 'film',\n",
       " 'producer',\n",
       " 'received']"
      ]
     },
     "execution_count": 98,
     "metadata": {},
     "output_type": "execute_result"
    }
   ],
   "source": [
    "lemmatized[0][:10]"
   ]
  },
  {
   "cell_type": "code",
   "execution_count": 99,
   "metadata": {},
   "outputs": [
    {
     "data": {
      "text/plain": [
       "'produced'"
      ]
     },
     "execution_count": 99,
     "metadata": {},
     "output_type": "execute_result"
    }
   ],
   "source": [
    "wordnet_lemmatizer.lemmatize('produced')"
   ]
  },
  {
   "cell_type": "code",
   "execution_count": 100,
   "metadata": {},
   "outputs": [],
   "source": [
    "dictionary = Dictionary(lemmatized)"
   ]
  },
  {
   "cell_type": "code",
   "execution_count": 112,
   "metadata": {},
   "outputs": [],
   "source": [
    "divorce_id = dictionary.token2id.get('divorce')"
   ]
  },
  {
   "cell_type": "code",
   "execution_count": 114,
   "metadata": {},
   "outputs": [
    {
     "data": {
      "text/plain": [
       "'divorce'"
      ]
     },
     "execution_count": 114,
     "metadata": {},
     "output_type": "execute_result"
    }
   ],
   "source": [
    "dictionary.get(divorce_id)"
   ]
  },
  {
   "cell_type": "code",
   "execution_count": 115,
   "metadata": {},
   "outputs": [],
   "source": [
    "corpus = [dictionary.doc2bow(text) for text in lemmatized]"
   ]
  },
  {
   "cell_type": "markdown",
   "metadata": {},
   "source": [
    "Useful for storing and loading BOW (bag-of-words: word freq. Counter)"
   ]
  },
  {
   "cell_type": "code",
   "execution_count": 126,
   "metadata": {},
   "outputs": [
    {
     "data": {
      "text/plain": [
       "[(1487, 5), (1488, 3), (1489, 1), (1490, 1)]"
      ]
     },
     "execution_count": 126,
     "metadata": {},
     "output_type": "execute_result"
    }
   ],
   "source": [
    "corpus[0][-5:-1]"
   ]
  },
  {
   "cell_type": "code",
   "execution_count": 123,
   "metadata": {},
   "outputs": [
    {
     "data": {
      "text/plain": [
       "['william', 'bradley', 'pitt', 'born', 'december']"
      ]
     },
     "execution_count": 123,
     "metadata": {},
     "output_type": "execute_result"
    }
   ],
   "source": [
    "lemmatized[0][:5]"
   ]
  },
  {
   "cell_type": "code",
   "execution_count": 125,
   "metadata": {},
   "outputs": [
    {
     "data": {
      "text/plain": [
       "1466"
      ]
     },
     "execution_count": 125,
     "metadata": {},
     "output_type": "execute_result"
    }
   ],
   "source": [
    "dictionary.token2id.get('william')"
   ]
  },
  {
   "cell_type": "markdown",
   "metadata": {},
   "source": [
    "Experiment on Single Article"
   ]
  },
  {
   "cell_type": "markdown",
   "metadata": {},
   "source": [
    "Topic Selection"
   ]
  },
  {
   "cell_type": "code",
   "execution_count": 212,
   "metadata": {},
   "outputs": [],
   "source": [
    "doc = corpus[1]"
   ]
  },
  {
   "cell_type": "code",
   "execution_count": 213,
   "metadata": {},
   "outputs": [
    {
     "data": {
      "text/plain": [
       "[(2243, 2), (2244, 1), (2245, 1), (2246, 6)]"
      ]
     },
     "execution_count": 213,
     "metadata": {},
     "output_type": "execute_result"
    }
   ],
   "source": [
    "doc[-5:-1]"
   ]
  },
  {
   "cell_type": "code",
   "execution_count": 214,
   "metadata": {},
   "outputs": [],
   "source": [
    "# sort according to freq instead of id\n",
    "bow_doc = sorted(doc, key=lambda w: w[1], reverse=True)"
   ]
  },
  {
   "cell_type": "code",
   "execution_count": 215,
   "metadata": {},
   "outputs": [
    {
     "data": {
      "text/plain": [
       "[(322, 178), (497, 59), (2095, 32), (111, 23), (21, 21)]"
      ]
     },
     "execution_count": 215,
     "metadata": {},
     "output_type": "execute_result"
    }
   ],
   "source": [
    "bow_doc[:5]"
   ]
  },
  {
   "cell_type": "code",
   "execution_count": 216,
   "metadata": {},
   "outputs": [
    {
     "name": "stdout",
     "output_type": "stream",
     "text": [
      "cruise 178\n",
      "film 59\n",
      "scientology 32\n",
      "award 23\n",
      "actor 21\n"
     ]
    }
   ],
   "source": [
    "for word_id, word_cnt in bow_doc[:5]:\n",
    "    print(dictionary.get(word_id), word_cnt)"
   ]
  },
  {
   "cell_type": "markdown",
   "metadata": {},
   "source": [
    "All words in all documents"
   ]
  },
  {
   "cell_type": "code",
   "execution_count": 159,
   "metadata": {},
   "outputs": [],
   "source": [
    "# Create the defaultdict: total_word_count for the sum of their occurrence across all documents\n",
    "total_word_cnt = defaultdict(int)\n",
    "for word_id, word_cnt in itertools.chain.from_iterable(corpus):\n",
    "    total_word_cnt[word_id] += word_cnt"
   ]
  },
  {
   "cell_type": "code",
   "execution_count": 160,
   "metadata": {},
   "outputs": [],
   "source": [
    "total_word_cnt = list(total_word_cnt.items())"
   ]
  },
  {
   "cell_type": "code",
   "execution_count": 161,
   "metadata": {},
   "outputs": [],
   "source": [
    "sorted_word_cnt = sorted(total_word_cnt, key=lambda w: w[1], reverse=True)"
   ]
  },
  {
   "cell_type": "code",
   "execution_count": 162,
   "metadata": {},
   "outputs": [
    {
     "name": "stdout",
     "output_type": "stream",
     "text": [
      "film 286\n",
      "jolie 243\n",
      "pitt 196\n",
      "cruise 180\n",
      "award 107\n"
     ]
    }
   ],
   "source": [
    "for word_id, word_cnt in sorted_word_cnt[:5]:\n",
    "    print(dictionary.get(word_id), word_cnt)"
   ]
  },
  {
   "cell_type": "markdown",
   "metadata": {},
   "source": [
    "Better Topic Selection by assinging weights to document specific words"
   ]
  },
  {
   "cell_type": "code",
   "execution_count": 186,
   "metadata": {},
   "outputs": [],
   "source": [
    "tfidf = TfidfModel(corpus)"
   ]
  },
  {
   "cell_type": "code",
   "execution_count": 217,
   "metadata": {},
   "outputs": [],
   "source": [
    "tfidf_weights = tfidf[doc]"
   ]
  },
  {
   "cell_type": "code",
   "execution_count": 218,
   "metadata": {},
   "outputs": [
    {
     "data": {
      "text/plain": [
       "[(8, 0.009142154631664137),\n",
       " (12, 0.003047384877221379),\n",
       " (20, 0.003047384877221379),\n",
       " (24, 0.007342432629621229),\n",
       " (32, 0.009142154631664137)]"
      ]
     },
     "execution_count": 218,
     "metadata": {},
     "output_type": "execute_result"
    }
   ],
   "source": [
    "tfidf_weights[:5]"
   ]
  },
  {
   "cell_type": "code",
   "execution_count": 219,
   "metadata": {},
   "outputs": [],
   "source": [
    "sorted_tfidf_weights = sorted(tfidf_weights, key=lambda w:w[1], reverse=True)"
   ]
  },
  {
   "cell_type": "code",
   "execution_count": 1,
   "metadata": {},
   "outputs": [
    {
     "ename": "NameError",
     "evalue": "name 'sorted_tfidf_weights' is not defined",
     "output_type": "error",
     "traceback": [
      "\u001b[0;31m---------------------------------------------------------------------------\u001b[0m",
      "\u001b[0;31mNameError\u001b[0m                                 Traceback (most recent call last)",
      "\u001b[0;32m<ipython-input-1-c77ecb05c713>\u001b[0m in \u001b[0;36m<module>\u001b[0;34m\u001b[0m\n\u001b[0;32m----> 1\u001b[0;31m \u001b[0;32mfor\u001b[0m \u001b[0mterm_id\u001b[0m\u001b[0;34m,\u001b[0m \u001b[0mweight\u001b[0m \u001b[0;32min\u001b[0m \u001b[0msorted_tfidf_weights\u001b[0m\u001b[0;34m[\u001b[0m\u001b[0;34m:\u001b[0m\u001b[0;36m5\u001b[0m\u001b[0;34m]\u001b[0m\u001b[0;34m:\u001b[0m\u001b[0;34m\u001b[0m\u001b[0;34m\u001b[0m\u001b[0m\n\u001b[0m\u001b[1;32m      2\u001b[0m     \u001b[0mprint\u001b[0m\u001b[0;34m(\u001b[0m\u001b[0mdictionary\u001b[0m\u001b[0;34m.\u001b[0m\u001b[0mget\u001b[0m\u001b[0;34m(\u001b[0m\u001b[0mterm_id\u001b[0m\u001b[0;34m)\u001b[0m\u001b[0;34m,\u001b[0m \u001b[0mweight\u001b[0m\u001b[0;34m)\u001b[0m\u001b[0;34m\u001b[0m\u001b[0;34m\u001b[0m\u001b[0m\n",
      "\u001b[0;31mNameError\u001b[0m: name 'sorted_tfidf_weights' is not defined"
     ]
    }
   ],
   "source": [
    "for term_id, weight in sorted_tfidf_weights[:5]:\n",
    "    print(dictionary.get(term_id), weight)"
   ]
  },
  {
   "cell_type": "code",
   "execution_count": null,
   "metadata": {},
   "outputs": [],
   "source": []
  },
  {
   "cell_type": "code",
   "execution_count": null,
   "metadata": {},
   "outputs": [],
   "source": []
  },
  {
   "cell_type": "markdown",
   "metadata": {},
   "source": [
    "## Named-entity recognition (NER)"
   ]
  },
  {
   "cell_type": "code",
   "execution_count": 2,
   "metadata": {},
   "outputs": [],
   "source": [
    "news_article = \"\"\"\n",
    "The UK government said on Wednesday that it had expressed its concerns to over the Indian government's decision to revoke Article 370 and withdraw the special status of Jammu and Kashmir.\n",
    "\n",
    "The Indian government on Monday revoked Article 370 of the Constitution that gave special status to Jammu and Kashmir and bifurcated the state into two Union Territories -- Jammu and Kashmir, and Ladakh.\n",
    "\n",
    "UK foreign secretary Dominic Raab said he had spoken to his Indian counterpart External Affairs Minister S Jaishankar, and received clarity on India's stand on the announcement earlier this week, which proposes that the state be bifurcated into two Union Territories.\n",
    "\n",
    "\"I've spoken to the Indian Foreign Minister twice since my appointment, and I spoke to him earlier today [Wednesday],\" said Raab, who took charge at the Foreign and Commonwealth Office (FCO) recently under a Boris Johnson led British government.\n",
    "\n",
    "\"We've expressed some of our concerns around the situation and called for calm, but also had a clear readout of the situation from the perspective of the Indian government,\" he said.\n",
    "\n",
    "In a previous statement, an FCO spokesperson had said that the UK was following developments closely and supported calls for the situation to remain calm.\n",
    "\n",
    "Britain's parliamentarians remain divided over the issue, with some from the All Party Parliamentary Group (APPG) on Kashmir expressing grave concern and calling for a moratorium on the decision and others hailing the move for paving the way for economic development in Jammu and Kashmir.\n",
    "\n",
    "The British Kashmiri community is equally divided, with pro-independence outfits holding protests outside the Indian High Commission in London and others welcoming it as a historic move that would lead to peace and prosperity in the region in the long term.\"\"\""
   ]
  },
  {
   "cell_type": "code",
   "execution_count": 3,
   "metadata": {},
   "outputs": [],
   "source": [
    "einstein = \"\"\"In 1933, while Einstein was visiting the United States, Adolf Hitler came to power. Because of his Jewish background, Einstein did not return to Germany.[13] He settled in the United States and became an American citizen in 1940.[14] On the eve of World War II, he endorsed a letter to President Franklin D. Roosevelt alerting him to the potential development of \"extremely powerful bombs of a new type\" and recommending that the US begin similar research. This eventually led to the Manhattan Project. Einstein supported the Allies, but he generally denounced the idea of using nuclear fission as a weapon. He signed the Russell–Einstein Manifesto with British philosopher Bertrand Russell, which highlighted the danger of nuclear weapons. He was affiliated with the Institute for Advanced Study in Princeton, New Jersey, until his death in 1955. \"\"\""
   ]
  },
  {
   "cell_type": "code",
   "execution_count": 51,
   "metadata": {},
   "outputs": [],
   "source": [
    "sentences = sent_tokenize(einstein)"
   ]
  },
  {
   "cell_type": "code",
   "execution_count": 52,
   "metadata": {},
   "outputs": [
    {
     "data": {
      "text/plain": [
       "8"
      ]
     },
     "execution_count": 52,
     "metadata": {},
     "output_type": "execute_result"
    }
   ],
   "source": [
    "len(sentences)"
   ]
  },
  {
   "cell_type": "code",
   "execution_count": 53,
   "metadata": {},
   "outputs": [],
   "source": [
    "token_sentences = [word_tokenize(s) for s in sentences]"
   ]
  },
  {
   "cell_type": "code",
   "execution_count": 54,
   "metadata": {},
   "outputs": [],
   "source": [
    "pos_sentences = [nltk.pos_tag(s) for s in token_sentences]"
   ]
  },
  {
   "cell_type": "code",
   "execution_count": 55,
   "metadata": {},
   "outputs": [],
   "source": [
    "chunked_sentences = [nltk.ne_chunk_sents(s, binary=False) for s in pos_sentences]"
   ]
  },
  {
   "cell_type": "code",
   "execution_count": 56,
   "metadata": {},
   "outputs": [
    {
     "data": {
      "text/plain": [
       "<generator object ParserI.parse_sents.<locals>.<genexpr> at 0x7f4a38aadcf0>"
      ]
     },
     "execution_count": 56,
     "metadata": {},
     "output_type": "execute_result"
    }
   ],
   "source": [
    "chunked_sentences[0]"
   ]
  },
  {
   "cell_type": "code",
   "execution_count": 57,
   "metadata": {
    "scrolled": false
   },
   "outputs": [
    {
     "ename": "IndexError",
     "evalue": "string index out of range",
     "output_type": "error",
     "traceback": [
      "\u001b[0;31m---------------------------------------------------------------------------\u001b[0m",
      "\u001b[0;31mIndexError\u001b[0m                                Traceback (most recent call last)",
      "\u001b[0;32m<ipython-input-57-e10fdf808220>\u001b[0m in \u001b[0;36m<module>\u001b[0;34m\u001b[0m\n\u001b[1;32m      1\u001b[0m \u001b[0;32mfor\u001b[0m \u001b[0msent\u001b[0m \u001b[0;32min\u001b[0m \u001b[0mchunked_sentences\u001b[0m\u001b[0;34m:\u001b[0m\u001b[0;34m\u001b[0m\u001b[0;34m\u001b[0m\u001b[0m\n\u001b[0;32m----> 2\u001b[0;31m     \u001b[0;32mfor\u001b[0m \u001b[0mchunk\u001b[0m \u001b[0;32min\u001b[0m \u001b[0msent\u001b[0m\u001b[0;34m:\u001b[0m\u001b[0;34m\u001b[0m\u001b[0;34m\u001b[0m\u001b[0m\n\u001b[0m\u001b[1;32m      3\u001b[0m         \u001b[0;32mif\u001b[0m \u001b[0mhasattr\u001b[0m\u001b[0;34m(\u001b[0m\u001b[0mchunk\u001b[0m\u001b[0;34m,\u001b[0m \u001b[0;34m'label'\u001b[0m\u001b[0;34m)\u001b[0m \u001b[0;32mand\u001b[0m \u001b[0mchunk\u001b[0m\u001b[0;34m.\u001b[0m\u001b[0mlabel\u001b[0m\u001b[0;34m(\u001b[0m\u001b[0;34m)\u001b[0m\u001b[0;34m==\u001b[0m\u001b[0;34m'NE'\u001b[0m\u001b[0;34m:\u001b[0m\u001b[0;34m\u001b[0m\u001b[0;34m\u001b[0m\u001b[0m\n\u001b[1;32m      4\u001b[0m             \u001b[0mprint\u001b[0m\u001b[0;34m(\u001b[0m\u001b[0mchunk\u001b[0m\u001b[0;34m)\u001b[0m\u001b[0;34m\u001b[0m\u001b[0;34m\u001b[0m\u001b[0m\n",
      "\u001b[0;32m~/anaconda3/lib/python3.7/site-packages/nltk/parse/api.py\u001b[0m in \u001b[0;36m<genexpr>\u001b[0;34m(.0)\u001b[0m\n\u001b[1;32m     62\u001b[0m         \u001b[0;34m:\u001b[0m\u001b[0mrtype\u001b[0m\u001b[0;34m:\u001b[0m \u001b[0miter\u001b[0m\u001b[0;34m(\u001b[0m\u001b[0miter\u001b[0m\u001b[0;34m(\u001b[0m\u001b[0mTree\u001b[0m\u001b[0;34m)\u001b[0m\u001b[0;34m)\u001b[0m\u001b[0;34m\u001b[0m\u001b[0;34m\u001b[0m\u001b[0m\n\u001b[1;32m     63\u001b[0m         \"\"\"\n\u001b[0;32m---> 64\u001b[0;31m         \u001b[0;32mreturn\u001b[0m \u001b[0;34m(\u001b[0m\u001b[0mself\u001b[0m\u001b[0;34m.\u001b[0m\u001b[0mparse\u001b[0m\u001b[0;34m(\u001b[0m\u001b[0msent\u001b[0m\u001b[0;34m,\u001b[0m \u001b[0;34m*\u001b[0m\u001b[0margs\u001b[0m\u001b[0;34m,\u001b[0m \u001b[0;34m**\u001b[0m\u001b[0mkwargs\u001b[0m\u001b[0;34m)\u001b[0m \u001b[0;32mfor\u001b[0m \u001b[0msent\u001b[0m \u001b[0;32min\u001b[0m \u001b[0msents\u001b[0m\u001b[0;34m)\u001b[0m\u001b[0;34m\u001b[0m\u001b[0;34m\u001b[0m\u001b[0m\n\u001b[0m\u001b[1;32m     65\u001b[0m \u001b[0;34m\u001b[0m\u001b[0m\n\u001b[1;32m     66\u001b[0m     \u001b[0;32mdef\u001b[0m \u001b[0mparse_all\u001b[0m\u001b[0;34m(\u001b[0m\u001b[0mself\u001b[0m\u001b[0;34m,\u001b[0m \u001b[0msent\u001b[0m\u001b[0;34m,\u001b[0m \u001b[0;34m*\u001b[0m\u001b[0margs\u001b[0m\u001b[0;34m,\u001b[0m \u001b[0;34m**\u001b[0m\u001b[0mkwargs\u001b[0m\u001b[0;34m)\u001b[0m\u001b[0;34m:\u001b[0m\u001b[0;34m\u001b[0m\u001b[0;34m\u001b[0m\u001b[0m\n",
      "\u001b[0;32m~/anaconda3/lib/python3.7/site-packages/nltk/chunk/named_entity.py\u001b[0m in \u001b[0;36mparse\u001b[0;34m(self, tokens)\u001b[0m\n\u001b[1;32m    126\u001b[0m         \u001b[0mEach\u001b[0m \u001b[0mtoken\u001b[0m \u001b[0mshould\u001b[0m \u001b[0mbe\u001b[0m \u001b[0ma\u001b[0m \u001b[0mpos\u001b[0m\u001b[0;34m-\u001b[0m\u001b[0mtagged\u001b[0m \u001b[0mword\u001b[0m\u001b[0;34m\u001b[0m\u001b[0;34m\u001b[0m\u001b[0m\n\u001b[1;32m    127\u001b[0m         \"\"\"\n\u001b[0;32m--> 128\u001b[0;31m         \u001b[0mtagged\u001b[0m \u001b[0;34m=\u001b[0m \u001b[0mself\u001b[0m\u001b[0;34m.\u001b[0m\u001b[0m_tagger\u001b[0m\u001b[0;34m.\u001b[0m\u001b[0mtag\u001b[0m\u001b[0;34m(\u001b[0m\u001b[0mtokens\u001b[0m\u001b[0;34m)\u001b[0m\u001b[0;34m\u001b[0m\u001b[0;34m\u001b[0m\u001b[0m\n\u001b[0m\u001b[1;32m    129\u001b[0m         \u001b[0mtree\u001b[0m \u001b[0;34m=\u001b[0m \u001b[0mself\u001b[0m\u001b[0;34m.\u001b[0m\u001b[0m_tagged_to_parse\u001b[0m\u001b[0;34m(\u001b[0m\u001b[0mtagged\u001b[0m\u001b[0;34m)\u001b[0m\u001b[0;34m\u001b[0m\u001b[0;34m\u001b[0m\u001b[0m\n\u001b[1;32m    130\u001b[0m         \u001b[0;32mreturn\u001b[0m \u001b[0mtree\u001b[0m\u001b[0;34m\u001b[0m\u001b[0;34m\u001b[0m\u001b[0m\n",
      "\u001b[0;32m~/anaconda3/lib/python3.7/site-packages/nltk/tag/sequential.py\u001b[0m in \u001b[0;36mtag\u001b[0;34m(self, tokens)\u001b[0m\n\u001b[1;32m     62\u001b[0m         \u001b[0mtags\u001b[0m \u001b[0;34m=\u001b[0m \u001b[0;34m[\u001b[0m\u001b[0;34m]\u001b[0m\u001b[0;34m\u001b[0m\u001b[0;34m\u001b[0m\u001b[0m\n\u001b[1;32m     63\u001b[0m         \u001b[0;32mfor\u001b[0m \u001b[0mi\u001b[0m \u001b[0;32min\u001b[0m \u001b[0mrange\u001b[0m\u001b[0;34m(\u001b[0m\u001b[0mlen\u001b[0m\u001b[0;34m(\u001b[0m\u001b[0mtokens\u001b[0m\u001b[0;34m)\u001b[0m\u001b[0;34m)\u001b[0m\u001b[0;34m:\u001b[0m\u001b[0;34m\u001b[0m\u001b[0;34m\u001b[0m\u001b[0m\n\u001b[0;32m---> 64\u001b[0;31m             \u001b[0mtags\u001b[0m\u001b[0;34m.\u001b[0m\u001b[0mappend\u001b[0m\u001b[0;34m(\u001b[0m\u001b[0mself\u001b[0m\u001b[0;34m.\u001b[0m\u001b[0mtag_one\u001b[0m\u001b[0;34m(\u001b[0m\u001b[0mtokens\u001b[0m\u001b[0;34m,\u001b[0m \u001b[0mi\u001b[0m\u001b[0;34m,\u001b[0m \u001b[0mtags\u001b[0m\u001b[0;34m)\u001b[0m\u001b[0;34m)\u001b[0m\u001b[0;34m\u001b[0m\u001b[0;34m\u001b[0m\u001b[0m\n\u001b[0m\u001b[1;32m     65\u001b[0m         \u001b[0;32mreturn\u001b[0m \u001b[0mlist\u001b[0m\u001b[0;34m(\u001b[0m\u001b[0mzip\u001b[0m\u001b[0;34m(\u001b[0m\u001b[0mtokens\u001b[0m\u001b[0;34m,\u001b[0m \u001b[0mtags\u001b[0m\u001b[0;34m)\u001b[0m\u001b[0;34m)\u001b[0m\u001b[0;34m\u001b[0m\u001b[0;34m\u001b[0m\u001b[0m\n\u001b[1;32m     66\u001b[0m \u001b[0;34m\u001b[0m\u001b[0m\n",
      "\u001b[0;32m~/anaconda3/lib/python3.7/site-packages/nltk/tag/sequential.py\u001b[0m in \u001b[0;36mtag_one\u001b[0;34m(self, tokens, index, history)\u001b[0m\n\u001b[1;32m     82\u001b[0m         \u001b[0mtag\u001b[0m \u001b[0;34m=\u001b[0m \u001b[0;32mNone\u001b[0m\u001b[0;34m\u001b[0m\u001b[0;34m\u001b[0m\u001b[0m\n\u001b[1;32m     83\u001b[0m         \u001b[0;32mfor\u001b[0m \u001b[0mtagger\u001b[0m \u001b[0;32min\u001b[0m \u001b[0mself\u001b[0m\u001b[0;34m.\u001b[0m\u001b[0m_taggers\u001b[0m\u001b[0;34m:\u001b[0m\u001b[0;34m\u001b[0m\u001b[0;34m\u001b[0m\u001b[0m\n\u001b[0;32m---> 84\u001b[0;31m             \u001b[0mtag\u001b[0m \u001b[0;34m=\u001b[0m \u001b[0mtagger\u001b[0m\u001b[0;34m.\u001b[0m\u001b[0mchoose_tag\u001b[0m\u001b[0;34m(\u001b[0m\u001b[0mtokens\u001b[0m\u001b[0;34m,\u001b[0m \u001b[0mindex\u001b[0m\u001b[0;34m,\u001b[0m \u001b[0mhistory\u001b[0m\u001b[0;34m)\u001b[0m\u001b[0;34m\u001b[0m\u001b[0;34m\u001b[0m\u001b[0m\n\u001b[0m\u001b[1;32m     85\u001b[0m             \u001b[0;32mif\u001b[0m \u001b[0mtag\u001b[0m \u001b[0;32mis\u001b[0m \u001b[0;32mnot\u001b[0m \u001b[0;32mNone\u001b[0m\u001b[0;34m:\u001b[0m\u001b[0;34m\u001b[0m\u001b[0;34m\u001b[0m\u001b[0m\n\u001b[1;32m     86\u001b[0m                 \u001b[0;32mbreak\u001b[0m\u001b[0;34m\u001b[0m\u001b[0;34m\u001b[0m\u001b[0m\n",
      "\u001b[0;32m~/anaconda3/lib/python3.7/site-packages/nltk/tag/sequential.py\u001b[0m in \u001b[0;36mchoose_tag\u001b[0;34m(self, tokens, index, history)\u001b[0m\n\u001b[1;32m    650\u001b[0m     \u001b[0;32mdef\u001b[0m \u001b[0mchoose_tag\u001b[0m\u001b[0;34m(\u001b[0m\u001b[0mself\u001b[0m\u001b[0;34m,\u001b[0m \u001b[0mtokens\u001b[0m\u001b[0;34m,\u001b[0m \u001b[0mindex\u001b[0m\u001b[0;34m,\u001b[0m \u001b[0mhistory\u001b[0m\u001b[0;34m)\u001b[0m\u001b[0;34m:\u001b[0m\u001b[0;34m\u001b[0m\u001b[0;34m\u001b[0m\u001b[0m\n\u001b[1;32m    651\u001b[0m         \u001b[0;31m# Use our feature detector to get the featureset.\u001b[0m\u001b[0;34m\u001b[0m\u001b[0;34m\u001b[0m\u001b[0;34m\u001b[0m\u001b[0m\n\u001b[0;32m--> 652\u001b[0;31m         \u001b[0mfeatureset\u001b[0m \u001b[0;34m=\u001b[0m \u001b[0mself\u001b[0m\u001b[0;34m.\u001b[0m\u001b[0mfeature_detector\u001b[0m\u001b[0;34m(\u001b[0m\u001b[0mtokens\u001b[0m\u001b[0;34m,\u001b[0m \u001b[0mindex\u001b[0m\u001b[0;34m,\u001b[0m \u001b[0mhistory\u001b[0m\u001b[0;34m)\u001b[0m\u001b[0;34m\u001b[0m\u001b[0;34m\u001b[0m\u001b[0m\n\u001b[0m\u001b[1;32m    653\u001b[0m \u001b[0;34m\u001b[0m\u001b[0m\n\u001b[1;32m    654\u001b[0m         \u001b[0;31m# Use the classifier to pick a tag.  If a cutoff probability\u001b[0m\u001b[0;34m\u001b[0m\u001b[0;34m\u001b[0m\u001b[0;34m\u001b[0m\u001b[0m\n",
      "\u001b[0;32m~/anaconda3/lib/python3.7/site-packages/nltk/tag/sequential.py\u001b[0m in \u001b[0;36mfeature_detector\u001b[0;34m(self, tokens, index, history)\u001b[0m\n\u001b[1;32m    697\u001b[0m         \u001b[0mSee\u001b[0m\u001b[0;31m \u001b[0m\u001b[0;31m`\u001b[0m\u001b[0;31m`\u001b[0m\u001b[0mclassifier\u001b[0m\u001b[0;34m(\u001b[0m\u001b[0;34m)\u001b[0m\u001b[0;31m`\u001b[0m\u001b[0;31m`\u001b[0m\u001b[0;34m\u001b[0m\u001b[0;34m\u001b[0m\u001b[0m\n\u001b[1;32m    698\u001b[0m         \"\"\"\n\u001b[0;32m--> 699\u001b[0;31m         \u001b[0;32mreturn\u001b[0m \u001b[0mself\u001b[0m\u001b[0;34m.\u001b[0m\u001b[0m_feature_detector\u001b[0m\u001b[0;34m(\u001b[0m\u001b[0mtokens\u001b[0m\u001b[0;34m,\u001b[0m \u001b[0mindex\u001b[0m\u001b[0;34m,\u001b[0m \u001b[0mhistory\u001b[0m\u001b[0;34m)\u001b[0m\u001b[0;34m\u001b[0m\u001b[0;34m\u001b[0m\u001b[0m\n\u001b[0m\u001b[1;32m    700\u001b[0m \u001b[0;34m\u001b[0m\u001b[0m\n\u001b[1;32m    701\u001b[0m     \u001b[0;32mdef\u001b[0m \u001b[0mclassifier\u001b[0m\u001b[0;34m(\u001b[0m\u001b[0mself\u001b[0m\u001b[0;34m)\u001b[0m\u001b[0;34m:\u001b[0m\u001b[0;34m\u001b[0m\u001b[0;34m\u001b[0m\u001b[0m\n",
      "\u001b[0;32m~/anaconda3/lib/python3.7/site-packages/nltk/chunk/named_entity.py\u001b[0m in \u001b[0;36m_feature_detector\u001b[0;34m(self, tokens, index, history)\u001b[0m\n\u001b[1;32m     57\u001b[0m     \u001b[0;32mdef\u001b[0m \u001b[0m_feature_detector\u001b[0m\u001b[0;34m(\u001b[0m\u001b[0mself\u001b[0m\u001b[0;34m,\u001b[0m \u001b[0mtokens\u001b[0m\u001b[0;34m,\u001b[0m \u001b[0mindex\u001b[0m\u001b[0;34m,\u001b[0m \u001b[0mhistory\u001b[0m\u001b[0;34m)\u001b[0m\u001b[0;34m:\u001b[0m\u001b[0;34m\u001b[0m\u001b[0;34m\u001b[0m\u001b[0m\n\u001b[1;32m     58\u001b[0m         \u001b[0mword\u001b[0m \u001b[0;34m=\u001b[0m \u001b[0mtokens\u001b[0m\u001b[0;34m[\u001b[0m\u001b[0mindex\u001b[0m\u001b[0;34m]\u001b[0m\u001b[0;34m[\u001b[0m\u001b[0;36m0\u001b[0m\u001b[0;34m]\u001b[0m\u001b[0;34m\u001b[0m\u001b[0;34m\u001b[0m\u001b[0m\n\u001b[0;32m---> 59\u001b[0;31m         \u001b[0mpos\u001b[0m \u001b[0;34m=\u001b[0m \u001b[0msimplify_pos\u001b[0m\u001b[0;34m(\u001b[0m\u001b[0mtokens\u001b[0m\u001b[0;34m[\u001b[0m\u001b[0mindex\u001b[0m\u001b[0;34m]\u001b[0m\u001b[0;34m[\u001b[0m\u001b[0;36m1\u001b[0m\u001b[0;34m]\u001b[0m\u001b[0;34m)\u001b[0m\u001b[0;34m\u001b[0m\u001b[0;34m\u001b[0m\u001b[0m\n\u001b[0m\u001b[1;32m     60\u001b[0m         \u001b[0;32mif\u001b[0m \u001b[0mindex\u001b[0m \u001b[0;34m==\u001b[0m \u001b[0;36m0\u001b[0m\u001b[0;34m:\u001b[0m\u001b[0;34m\u001b[0m\u001b[0;34m\u001b[0m\u001b[0m\n\u001b[1;32m     61\u001b[0m             \u001b[0mprevword\u001b[0m \u001b[0;34m=\u001b[0m \u001b[0mprevprevword\u001b[0m \u001b[0;34m=\u001b[0m \u001b[0;32mNone\u001b[0m\u001b[0;34m\u001b[0m\u001b[0;34m\u001b[0m\u001b[0m\n",
      "\u001b[0;31mIndexError\u001b[0m: string index out of range"
     ]
    }
   ],
   "source": [
    "for sent in chunked_sentences:\n",
    "    for chunk in sent:\n",
    "        if hasattr(chunk, 'label') and chunk.label()=='NE':\n",
    "            print(chunk)"
   ]
  },
  {
   "cell_type": "code",
   "execution_count": 58,
   "metadata": {},
   "outputs": [],
   "source": [
    "ner_categories = defaultdict(int)"
   ]
  },
  {
   "cell_type": "code",
   "execution_count": 59,
   "metadata": {},
   "outputs": [
    {
     "ename": "IndexError",
     "evalue": "string index out of range",
     "output_type": "error",
     "traceback": [
      "\u001b[0;31m---------------------------------------------------------------------------\u001b[0m",
      "\u001b[0;31mIndexError\u001b[0m                                Traceback (most recent call last)",
      "\u001b[0;32m<ipython-input-59-cc2d98e1b848>\u001b[0m in \u001b[0;36m<module>\u001b[0;34m\u001b[0m\n\u001b[1;32m      1\u001b[0m \u001b[0;32mfor\u001b[0m \u001b[0msent\u001b[0m \u001b[0;32min\u001b[0m \u001b[0mchunked_sentences\u001b[0m\u001b[0;34m:\u001b[0m\u001b[0;34m\u001b[0m\u001b[0;34m\u001b[0m\u001b[0m\n\u001b[0;32m----> 2\u001b[0;31m     \u001b[0;32mfor\u001b[0m \u001b[0mchunk\u001b[0m \u001b[0;32min\u001b[0m \u001b[0msent\u001b[0m\u001b[0;34m:\u001b[0m\u001b[0;34m\u001b[0m\u001b[0;34m\u001b[0m\u001b[0m\n\u001b[0m\u001b[1;32m      3\u001b[0m         \u001b[0;32mif\u001b[0m \u001b[0mhasattr\u001b[0m\u001b[0;34m(\u001b[0m\u001b[0mchunk\u001b[0m\u001b[0;34m,\u001b[0m \u001b[0;34m'label'\u001b[0m\u001b[0;34m)\u001b[0m\u001b[0;34m:\u001b[0m\u001b[0;34m\u001b[0m\u001b[0;34m\u001b[0m\u001b[0m\n\u001b[1;32m      4\u001b[0m             \u001b[0mner_categories\u001b[0m\u001b[0;34m[\u001b[0m\u001b[0mchunk\u001b[0m\u001b[0;34m.\u001b[0m\u001b[0mlabel\u001b[0m\u001b[0;34m(\u001b[0m\u001b[0;34m)\u001b[0m\u001b[0;34m]\u001b[0m \u001b[0;34m+=\u001b[0m \u001b[0;36m1\u001b[0m\u001b[0;34m\u001b[0m\u001b[0;34m\u001b[0m\u001b[0m\n",
      "\u001b[0;32m~/anaconda3/lib/python3.7/site-packages/nltk/parse/api.py\u001b[0m in \u001b[0;36m<genexpr>\u001b[0;34m(.0)\u001b[0m\n\u001b[1;32m     62\u001b[0m         \u001b[0;34m:\u001b[0m\u001b[0mrtype\u001b[0m\u001b[0;34m:\u001b[0m \u001b[0miter\u001b[0m\u001b[0;34m(\u001b[0m\u001b[0miter\u001b[0m\u001b[0;34m(\u001b[0m\u001b[0mTree\u001b[0m\u001b[0;34m)\u001b[0m\u001b[0;34m)\u001b[0m\u001b[0;34m\u001b[0m\u001b[0;34m\u001b[0m\u001b[0m\n\u001b[1;32m     63\u001b[0m         \"\"\"\n\u001b[0;32m---> 64\u001b[0;31m         \u001b[0;32mreturn\u001b[0m \u001b[0;34m(\u001b[0m\u001b[0mself\u001b[0m\u001b[0;34m.\u001b[0m\u001b[0mparse\u001b[0m\u001b[0;34m(\u001b[0m\u001b[0msent\u001b[0m\u001b[0;34m,\u001b[0m \u001b[0;34m*\u001b[0m\u001b[0margs\u001b[0m\u001b[0;34m,\u001b[0m \u001b[0;34m**\u001b[0m\u001b[0mkwargs\u001b[0m\u001b[0;34m)\u001b[0m \u001b[0;32mfor\u001b[0m \u001b[0msent\u001b[0m \u001b[0;32min\u001b[0m \u001b[0msents\u001b[0m\u001b[0;34m)\u001b[0m\u001b[0;34m\u001b[0m\u001b[0;34m\u001b[0m\u001b[0m\n\u001b[0m\u001b[1;32m     65\u001b[0m \u001b[0;34m\u001b[0m\u001b[0m\n\u001b[1;32m     66\u001b[0m     \u001b[0;32mdef\u001b[0m \u001b[0mparse_all\u001b[0m\u001b[0;34m(\u001b[0m\u001b[0mself\u001b[0m\u001b[0;34m,\u001b[0m \u001b[0msent\u001b[0m\u001b[0;34m,\u001b[0m \u001b[0;34m*\u001b[0m\u001b[0margs\u001b[0m\u001b[0;34m,\u001b[0m \u001b[0;34m**\u001b[0m\u001b[0mkwargs\u001b[0m\u001b[0;34m)\u001b[0m\u001b[0;34m:\u001b[0m\u001b[0;34m\u001b[0m\u001b[0;34m\u001b[0m\u001b[0m\n",
      "\u001b[0;32m~/anaconda3/lib/python3.7/site-packages/nltk/chunk/named_entity.py\u001b[0m in \u001b[0;36mparse\u001b[0;34m(self, tokens)\u001b[0m\n\u001b[1;32m    126\u001b[0m         \u001b[0mEach\u001b[0m \u001b[0mtoken\u001b[0m \u001b[0mshould\u001b[0m \u001b[0mbe\u001b[0m \u001b[0ma\u001b[0m \u001b[0mpos\u001b[0m\u001b[0;34m-\u001b[0m\u001b[0mtagged\u001b[0m \u001b[0mword\u001b[0m\u001b[0;34m\u001b[0m\u001b[0;34m\u001b[0m\u001b[0m\n\u001b[1;32m    127\u001b[0m         \"\"\"\n\u001b[0;32m--> 128\u001b[0;31m         \u001b[0mtagged\u001b[0m \u001b[0;34m=\u001b[0m \u001b[0mself\u001b[0m\u001b[0;34m.\u001b[0m\u001b[0m_tagger\u001b[0m\u001b[0;34m.\u001b[0m\u001b[0mtag\u001b[0m\u001b[0;34m(\u001b[0m\u001b[0mtokens\u001b[0m\u001b[0;34m)\u001b[0m\u001b[0;34m\u001b[0m\u001b[0;34m\u001b[0m\u001b[0m\n\u001b[0m\u001b[1;32m    129\u001b[0m         \u001b[0mtree\u001b[0m \u001b[0;34m=\u001b[0m \u001b[0mself\u001b[0m\u001b[0;34m.\u001b[0m\u001b[0m_tagged_to_parse\u001b[0m\u001b[0;34m(\u001b[0m\u001b[0mtagged\u001b[0m\u001b[0;34m)\u001b[0m\u001b[0;34m\u001b[0m\u001b[0;34m\u001b[0m\u001b[0m\n\u001b[1;32m    130\u001b[0m         \u001b[0;32mreturn\u001b[0m \u001b[0mtree\u001b[0m\u001b[0;34m\u001b[0m\u001b[0;34m\u001b[0m\u001b[0m\n",
      "\u001b[0;32m~/anaconda3/lib/python3.7/site-packages/nltk/tag/sequential.py\u001b[0m in \u001b[0;36mtag\u001b[0;34m(self, tokens)\u001b[0m\n\u001b[1;32m     62\u001b[0m         \u001b[0mtags\u001b[0m \u001b[0;34m=\u001b[0m \u001b[0;34m[\u001b[0m\u001b[0;34m]\u001b[0m\u001b[0;34m\u001b[0m\u001b[0;34m\u001b[0m\u001b[0m\n\u001b[1;32m     63\u001b[0m         \u001b[0;32mfor\u001b[0m \u001b[0mi\u001b[0m \u001b[0;32min\u001b[0m \u001b[0mrange\u001b[0m\u001b[0;34m(\u001b[0m\u001b[0mlen\u001b[0m\u001b[0;34m(\u001b[0m\u001b[0mtokens\u001b[0m\u001b[0;34m)\u001b[0m\u001b[0;34m)\u001b[0m\u001b[0;34m:\u001b[0m\u001b[0;34m\u001b[0m\u001b[0;34m\u001b[0m\u001b[0m\n\u001b[0;32m---> 64\u001b[0;31m             \u001b[0mtags\u001b[0m\u001b[0;34m.\u001b[0m\u001b[0mappend\u001b[0m\u001b[0;34m(\u001b[0m\u001b[0mself\u001b[0m\u001b[0;34m.\u001b[0m\u001b[0mtag_one\u001b[0m\u001b[0;34m(\u001b[0m\u001b[0mtokens\u001b[0m\u001b[0;34m,\u001b[0m \u001b[0mi\u001b[0m\u001b[0;34m,\u001b[0m \u001b[0mtags\u001b[0m\u001b[0;34m)\u001b[0m\u001b[0;34m)\u001b[0m\u001b[0;34m\u001b[0m\u001b[0;34m\u001b[0m\u001b[0m\n\u001b[0m\u001b[1;32m     65\u001b[0m         \u001b[0;32mreturn\u001b[0m \u001b[0mlist\u001b[0m\u001b[0;34m(\u001b[0m\u001b[0mzip\u001b[0m\u001b[0;34m(\u001b[0m\u001b[0mtokens\u001b[0m\u001b[0;34m,\u001b[0m \u001b[0mtags\u001b[0m\u001b[0;34m)\u001b[0m\u001b[0;34m)\u001b[0m\u001b[0;34m\u001b[0m\u001b[0;34m\u001b[0m\u001b[0m\n\u001b[1;32m     66\u001b[0m \u001b[0;34m\u001b[0m\u001b[0m\n",
      "\u001b[0;32m~/anaconda3/lib/python3.7/site-packages/nltk/tag/sequential.py\u001b[0m in \u001b[0;36mtag_one\u001b[0;34m(self, tokens, index, history)\u001b[0m\n\u001b[1;32m     82\u001b[0m         \u001b[0mtag\u001b[0m \u001b[0;34m=\u001b[0m \u001b[0;32mNone\u001b[0m\u001b[0;34m\u001b[0m\u001b[0;34m\u001b[0m\u001b[0m\n\u001b[1;32m     83\u001b[0m         \u001b[0;32mfor\u001b[0m \u001b[0mtagger\u001b[0m \u001b[0;32min\u001b[0m \u001b[0mself\u001b[0m\u001b[0;34m.\u001b[0m\u001b[0m_taggers\u001b[0m\u001b[0;34m:\u001b[0m\u001b[0;34m\u001b[0m\u001b[0;34m\u001b[0m\u001b[0m\n\u001b[0;32m---> 84\u001b[0;31m             \u001b[0mtag\u001b[0m \u001b[0;34m=\u001b[0m \u001b[0mtagger\u001b[0m\u001b[0;34m.\u001b[0m\u001b[0mchoose_tag\u001b[0m\u001b[0;34m(\u001b[0m\u001b[0mtokens\u001b[0m\u001b[0;34m,\u001b[0m \u001b[0mindex\u001b[0m\u001b[0;34m,\u001b[0m \u001b[0mhistory\u001b[0m\u001b[0;34m)\u001b[0m\u001b[0;34m\u001b[0m\u001b[0;34m\u001b[0m\u001b[0m\n\u001b[0m\u001b[1;32m     85\u001b[0m             \u001b[0;32mif\u001b[0m \u001b[0mtag\u001b[0m \u001b[0;32mis\u001b[0m \u001b[0;32mnot\u001b[0m \u001b[0;32mNone\u001b[0m\u001b[0;34m:\u001b[0m\u001b[0;34m\u001b[0m\u001b[0;34m\u001b[0m\u001b[0m\n\u001b[1;32m     86\u001b[0m                 \u001b[0;32mbreak\u001b[0m\u001b[0;34m\u001b[0m\u001b[0;34m\u001b[0m\u001b[0m\n",
      "\u001b[0;32m~/anaconda3/lib/python3.7/site-packages/nltk/tag/sequential.py\u001b[0m in \u001b[0;36mchoose_tag\u001b[0;34m(self, tokens, index, history)\u001b[0m\n\u001b[1;32m    650\u001b[0m     \u001b[0;32mdef\u001b[0m \u001b[0mchoose_tag\u001b[0m\u001b[0;34m(\u001b[0m\u001b[0mself\u001b[0m\u001b[0;34m,\u001b[0m \u001b[0mtokens\u001b[0m\u001b[0;34m,\u001b[0m \u001b[0mindex\u001b[0m\u001b[0;34m,\u001b[0m \u001b[0mhistory\u001b[0m\u001b[0;34m)\u001b[0m\u001b[0;34m:\u001b[0m\u001b[0;34m\u001b[0m\u001b[0;34m\u001b[0m\u001b[0m\n\u001b[1;32m    651\u001b[0m         \u001b[0;31m# Use our feature detector to get the featureset.\u001b[0m\u001b[0;34m\u001b[0m\u001b[0;34m\u001b[0m\u001b[0;34m\u001b[0m\u001b[0m\n\u001b[0;32m--> 652\u001b[0;31m         \u001b[0mfeatureset\u001b[0m \u001b[0;34m=\u001b[0m \u001b[0mself\u001b[0m\u001b[0;34m.\u001b[0m\u001b[0mfeature_detector\u001b[0m\u001b[0;34m(\u001b[0m\u001b[0mtokens\u001b[0m\u001b[0;34m,\u001b[0m \u001b[0mindex\u001b[0m\u001b[0;34m,\u001b[0m \u001b[0mhistory\u001b[0m\u001b[0;34m)\u001b[0m\u001b[0;34m\u001b[0m\u001b[0;34m\u001b[0m\u001b[0m\n\u001b[0m\u001b[1;32m    653\u001b[0m \u001b[0;34m\u001b[0m\u001b[0m\n\u001b[1;32m    654\u001b[0m         \u001b[0;31m# Use the classifier to pick a tag.  If a cutoff probability\u001b[0m\u001b[0;34m\u001b[0m\u001b[0;34m\u001b[0m\u001b[0;34m\u001b[0m\u001b[0m\n",
      "\u001b[0;32m~/anaconda3/lib/python3.7/site-packages/nltk/tag/sequential.py\u001b[0m in \u001b[0;36mfeature_detector\u001b[0;34m(self, tokens, index, history)\u001b[0m\n\u001b[1;32m    697\u001b[0m         \u001b[0mSee\u001b[0m\u001b[0;31m \u001b[0m\u001b[0;31m`\u001b[0m\u001b[0;31m`\u001b[0m\u001b[0mclassifier\u001b[0m\u001b[0;34m(\u001b[0m\u001b[0;34m)\u001b[0m\u001b[0;31m`\u001b[0m\u001b[0;31m`\u001b[0m\u001b[0;34m\u001b[0m\u001b[0;34m\u001b[0m\u001b[0m\n\u001b[1;32m    698\u001b[0m         \"\"\"\n\u001b[0;32m--> 699\u001b[0;31m         \u001b[0;32mreturn\u001b[0m \u001b[0mself\u001b[0m\u001b[0;34m.\u001b[0m\u001b[0m_feature_detector\u001b[0m\u001b[0;34m(\u001b[0m\u001b[0mtokens\u001b[0m\u001b[0;34m,\u001b[0m \u001b[0mindex\u001b[0m\u001b[0;34m,\u001b[0m \u001b[0mhistory\u001b[0m\u001b[0;34m)\u001b[0m\u001b[0;34m\u001b[0m\u001b[0;34m\u001b[0m\u001b[0m\n\u001b[0m\u001b[1;32m    700\u001b[0m \u001b[0;34m\u001b[0m\u001b[0m\n\u001b[1;32m    701\u001b[0m     \u001b[0;32mdef\u001b[0m \u001b[0mclassifier\u001b[0m\u001b[0;34m(\u001b[0m\u001b[0mself\u001b[0m\u001b[0;34m)\u001b[0m\u001b[0;34m:\u001b[0m\u001b[0;34m\u001b[0m\u001b[0;34m\u001b[0m\u001b[0m\n",
      "\u001b[0;32m~/anaconda3/lib/python3.7/site-packages/nltk/chunk/named_entity.py\u001b[0m in \u001b[0;36m_feature_detector\u001b[0;34m(self, tokens, index, history)\u001b[0m\n\u001b[1;32m     57\u001b[0m     \u001b[0;32mdef\u001b[0m \u001b[0m_feature_detector\u001b[0m\u001b[0;34m(\u001b[0m\u001b[0mself\u001b[0m\u001b[0;34m,\u001b[0m \u001b[0mtokens\u001b[0m\u001b[0;34m,\u001b[0m \u001b[0mindex\u001b[0m\u001b[0;34m,\u001b[0m \u001b[0mhistory\u001b[0m\u001b[0;34m)\u001b[0m\u001b[0;34m:\u001b[0m\u001b[0;34m\u001b[0m\u001b[0;34m\u001b[0m\u001b[0m\n\u001b[1;32m     58\u001b[0m         \u001b[0mword\u001b[0m \u001b[0;34m=\u001b[0m \u001b[0mtokens\u001b[0m\u001b[0;34m[\u001b[0m\u001b[0mindex\u001b[0m\u001b[0;34m]\u001b[0m\u001b[0;34m[\u001b[0m\u001b[0;36m0\u001b[0m\u001b[0;34m]\u001b[0m\u001b[0;34m\u001b[0m\u001b[0;34m\u001b[0m\u001b[0m\n\u001b[0;32m---> 59\u001b[0;31m         \u001b[0mpos\u001b[0m \u001b[0;34m=\u001b[0m \u001b[0msimplify_pos\u001b[0m\u001b[0;34m(\u001b[0m\u001b[0mtokens\u001b[0m\u001b[0;34m[\u001b[0m\u001b[0mindex\u001b[0m\u001b[0;34m]\u001b[0m\u001b[0;34m[\u001b[0m\u001b[0;36m1\u001b[0m\u001b[0;34m]\u001b[0m\u001b[0;34m)\u001b[0m\u001b[0;34m\u001b[0m\u001b[0;34m\u001b[0m\u001b[0m\n\u001b[0m\u001b[1;32m     60\u001b[0m         \u001b[0;32mif\u001b[0m \u001b[0mindex\u001b[0m \u001b[0;34m==\u001b[0m \u001b[0;36m0\u001b[0m\u001b[0;34m:\u001b[0m\u001b[0;34m\u001b[0m\u001b[0;34m\u001b[0m\u001b[0m\n\u001b[1;32m     61\u001b[0m             \u001b[0mprevword\u001b[0m \u001b[0;34m=\u001b[0m \u001b[0mprevprevword\u001b[0m \u001b[0;34m=\u001b[0m \u001b[0;32mNone\u001b[0m\u001b[0;34m\u001b[0m\u001b[0;34m\u001b[0m\u001b[0m\n",
      "\u001b[0;31mIndexError\u001b[0m: string index out of range"
     ]
    }
   ],
   "source": [
    "for sent in chunked_sentences:\n",
    "    for chunk in sent:\n",
    "        if hasattr(chunk, 'label'):\n",
    "            ner_categories[chunk.label()] += 1"
   ]
  },
  {
   "cell_type": "code",
   "execution_count": 60,
   "metadata": {},
   "outputs": [],
   "source": [
    "labels = list(ner_categories.keys())"
   ]
  },
  {
   "cell_type": "code",
   "execution_count": 61,
   "metadata": {},
   "outputs": [
    {
     "data": {
      "text/plain": [
       "defaultdict(int, {'S': 5})"
      ]
     },
     "execution_count": 61,
     "metadata": {},
     "output_type": "execute_result"
    }
   ],
   "source": [
    "ner_categories"
   ]
  },
  {
   "cell_type": "code",
   "execution_count": 62,
   "metadata": {},
   "outputs": [],
   "source": [
    "values = [ner_categories.get(l) for l in labels]"
   ]
  },
  {
   "cell_type": "code",
   "execution_count": 63,
   "metadata": {},
   "outputs": [
    {
     "data": {
      "text/plain": [
       "['S']"
      ]
     },
     "execution_count": 63,
     "metadata": {},
     "output_type": "execute_result"
    }
   ],
   "source": [
    "labels"
   ]
  },
  {
   "cell_type": "code",
   "execution_count": 64,
   "metadata": {},
   "outputs": [
    {
     "data": {
      "text/plain": [
       "[5]"
      ]
     },
     "execution_count": 64,
     "metadata": {},
     "output_type": "execute_result"
    }
   ],
   "source": [
    "values"
   ]
  },
  {
   "cell_type": "code",
   "execution_count": 66,
   "metadata": {},
   "outputs": [
    {
     "data": {
      "image/png": "[encoded data removed]",
      "text/plain": [
       "<Figure size 432x288 with 1 Axes>"
      ]
     },
     "metadata": {},
     "output_type": "display_data"
    }
   ],
   "source": [
    "plt.pie(values, labels=labels, autopct='%1.1f%%', startangle=140)\n",
    "plt.show()"
   ]
  },
  {
   "cell_type": "markdown",
   "metadata": {},
   "source": [
    "### SpaCy"
   ]
  },
  {
   "cell_type": "code",
   "execution_count": 4,
   "metadata": {},
   "outputs": [],
   "source": [
    "nlp = spacy.load('en', tagger=False, parser=False, matcher=False)"
   ]
  },
  {
   "cell_type": "code",
   "execution_count": 5,
   "metadata": {},
   "outputs": [],
   "source": [
    "doc = nlp(einstein) #einstein"
   ]
  },
  {
   "cell_type": "code",
   "execution_count": 6,
   "metadata": {},
   "outputs": [
    {
     "name": "stdout",
     "output_type": "stream",
     "text": [
      "DATE 1933\n",
      "PERSON Einstein\n",
      "GPE the United States\n",
      "PERSON Adolf Hitler\n",
      "NORP Jewish\n",
      "PERSON Einstein\n",
      "PERSON Germany.[13\n",
      "GPE the United States\n",
      "NORP American\n",
      "CARDINAL 1940.[14\n",
      "EVENT World War II\n",
      "PERSON Franklin D. Roosevelt\n",
      "GPE US\n",
      "ORG the Manhattan Project\n",
      "PERSON Einstein\n",
      "ORG Allies\n",
      "PERSON Russell\n",
      "NORP British\n",
      "PERSON Bertrand Russell\n",
      "ORG the Institute for Advanced Study\n",
      "GPE Princeton\n",
      "GPE New Jersey\n",
      "DATE 1955\n"
     ]
    }
   ],
   "source": [
    "for ent in doc.ents:\n",
    "    print(ent.label_, ent.text)"
   ]
  },
  {
   "cell_type": "code",
   "execution_count": null,
   "metadata": {},
   "outputs": [
    {
     "name": "stderr",
     "output_type": "stream",
     "text": [
      "/home/jassi/anaconda3/lib/python3.7/runpy.py:193: UserWarning: [W011] It looks like you're calling displacy.serve from within a Jupyter notebook or a similar environment. This likely means you're already running a local web server, so there's no need to make displaCy start another one. Instead, you should be able to replace displacy.serve with displacy.render to show the visualization.\n",
      "  \"__main__\", mod_spec)\n"
     ]
    },
    {
     "data": {
      "text/html": [
       "<!DOCTYPE html>\n",
       "<html lang=\"en\">\n",
       "    <head>\n",
       "        <title>displaCy</title>\n",
       "    </head>\n",
       "\n",
       "    <body style=\"font-size: 16px; font-family: -apple-system, BlinkMacSystemFont, 'Segoe UI', Helvetica, Arial, sans-serif, 'Apple Color Emoji', 'Segoe UI Emoji', 'Segoe UI Symbol'; padding: 4rem 2rem; direction: ltr\">\n",
       "<figure style=\"margin-bottom: 6rem\">\n",
       "<div class=\"entities\" style=\"line-height: 2.5; direction: ltr\">In \n",
       "<mark class=\"entity\" style=\"background: #bfe1d9; padding: 0.45em 0.6em; margin: 0 0.25em; line-height: 1; border-radius: 0.35em; box-decoration-break: clone; -webkit-box-decoration-break: clone\">\n",
       "    1933\n",
       "    <span style=\"font-size: 0.8em; font-weight: bold; line-height: 1; border-radius: 0.35em; text-transform: uppercase; vertical-align: middle; margin-left: 0.5rem\">DATE</span>\n",
       "</mark>\n",
       ", while \n",
       "<mark class=\"entity\" style=\"background: #aa9cfc; padding: 0.45em 0.6em; margin: 0 0.25em; line-height: 1; border-radius: 0.35em; box-decoration-break: clone; -webkit-box-decoration-break: clone\">\n",
       "    Einstein\n",
       "    <span style=\"font-size: 0.8em; font-weight: bold; line-height: 1; border-radius: 0.35em; text-transform: uppercase; vertical-align: middle; margin-left: 0.5rem\">PERSON</span>\n",
       "</mark>\n",
       " was visiting \n",
       "<mark class=\"entity\" style=\"background: #feca74; padding: 0.45em 0.6em; margin: 0 0.25em; line-height: 1; border-radius: 0.35em; box-decoration-break: clone; -webkit-box-decoration-break: clone\">\n",
       "    the United States\n",
       "    <span style=\"font-size: 0.8em; font-weight: bold; line-height: 1; border-radius: 0.35em; text-transform: uppercase; vertical-align: middle; margin-left: 0.5rem\">GPE</span>\n",
       "</mark>\n",
       ", \n",
       "<mark class=\"entity\" style=\"background: #aa9cfc; padding: 0.45em 0.6em; margin: 0 0.25em; line-height: 1; border-radius: 0.35em; box-decoration-break: clone; -webkit-box-decoration-break: clone\">\n",
       "    Adolf Hitler\n",
       "    <span style=\"font-size: 0.8em; font-weight: bold; line-height: 1; border-radius: 0.35em; text-transform: uppercase; vertical-align: middle; margin-left: 0.5rem\">PERSON</span>\n",
       "</mark>\n",
       " came to power. Because of his \n",
       "<mark class=\"entity\" style=\"background: #c887fb; padding: 0.45em 0.6em; margin: 0 0.25em; line-height: 1; border-radius: 0.35em; box-decoration-break: clone; -webkit-box-decoration-break: clone\">\n",
       "    Jewish\n",
       "    <span style=\"font-size: 0.8em; font-weight: bold; line-height: 1; border-radius: 0.35em; text-transform: uppercase; vertical-align: middle; margin-left: 0.5rem\">NORP</span>\n",
       "</mark>\n",
       " background, \n",
       "<mark class=\"entity\" style=\"background: #aa9cfc; padding: 0.45em 0.6em; margin: 0 0.25em; line-height: 1; border-radius: 0.35em; box-decoration-break: clone; -webkit-box-decoration-break: clone\">\n",
       "    Einstein\n",
       "    <span style=\"font-size: 0.8em; font-weight: bold; line-height: 1; border-radius: 0.35em; text-transform: uppercase; vertical-align: middle; margin-left: 0.5rem\">PERSON</span>\n",
       "</mark>\n",
       " did not return to \n",
       "<mark class=\"entity\" style=\"background: #aa9cfc; padding: 0.45em 0.6em; margin: 0 0.25em; line-height: 1; border-radius: 0.35em; box-decoration-break: clone; -webkit-box-decoration-break: clone\">\n",
       "    Germany.[13\n",
       "    <span style=\"font-size: 0.8em; font-weight: bold; line-height: 1; border-radius: 0.35em; text-transform: uppercase; vertical-align: middle; margin-left: 0.5rem\">PERSON</span>\n",
       "</mark>\n",
       "] He settled in \n",
       "<mark class=\"entity\" style=\"background: #feca74; padding: 0.45em 0.6em; margin: 0 0.25em; line-height: 1; border-radius: 0.35em; box-decoration-break: clone; -webkit-box-decoration-break: clone\">\n",
       "    the United States\n",
       "    <span style=\"font-size: 0.8em; font-weight: bold; line-height: 1; border-radius: 0.35em; text-transform: uppercase; vertical-align: middle; margin-left: 0.5rem\">GPE</span>\n",
       "</mark>\n",
       " and became an \n",
       "<mark class=\"entity\" style=\"background: #c887fb; padding: 0.45em 0.6em; margin: 0 0.25em; line-height: 1; border-radius: 0.35em; box-decoration-break: clone; -webkit-box-decoration-break: clone\">\n",
       "    American\n",
       "    <span style=\"font-size: 0.8em; font-weight: bold; line-height: 1; border-radius: 0.35em; text-transform: uppercase; vertical-align: middle; margin-left: 0.5rem\">NORP</span>\n",
       "</mark>\n",
       " citizen in \n",
       "<mark class=\"entity\" style=\"background: #e4e7d2; padding: 0.45em 0.6em; margin: 0 0.25em; line-height: 1; border-radius: 0.35em; box-decoration-break: clone; -webkit-box-decoration-break: clone\">\n",
       "    1940.[14\n",
       "    <span style=\"font-size: 0.8em; font-weight: bold; line-height: 1; border-radius: 0.35em; text-transform: uppercase; vertical-align: middle; margin-left: 0.5rem\">CARDINAL</span>\n",
       "</mark>\n",
       "] On the eve of \n",
       "<mark class=\"entity\" style=\"background: #ffeb80; padding: 0.45em 0.6em; margin: 0 0.25em; line-height: 1; border-radius: 0.35em; box-decoration-break: clone; -webkit-box-decoration-break: clone\">\n",
       "    World War II\n",
       "    <span style=\"font-size: 0.8em; font-weight: bold; line-height: 1; border-radius: 0.35em; text-transform: uppercase; vertical-align: middle; margin-left: 0.5rem\">EVENT</span>\n",
       "</mark>\n",
       ", he endorsed a letter to President \n",
       "<mark class=\"entity\" style=\"background: #aa9cfc; padding: 0.45em 0.6em; margin: 0 0.25em; line-height: 1; border-radius: 0.35em; box-decoration-break: clone; -webkit-box-decoration-break: clone\">\n",
       "    Franklin D. Roosevelt\n",
       "    <span style=\"font-size: 0.8em; font-weight: bold; line-height: 1; border-radius: 0.35em; text-transform: uppercase; vertical-align: middle; margin-left: 0.5rem\">PERSON</span>\n",
       "</mark>\n",
       " alerting him to the potential development of &quot;extremely powerful bombs of a new type&quot; and recommending that the \n",
       "<mark class=\"entity\" style=\"background: #feca74; padding: 0.45em 0.6em; margin: 0 0.25em; line-height: 1; border-radius: 0.35em; box-decoration-break: clone; -webkit-box-decoration-break: clone\">\n",
       "    US\n",
       "    <span style=\"font-size: 0.8em; font-weight: bold; line-height: 1; border-radius: 0.35em; text-transform: uppercase; vertical-align: middle; margin-left: 0.5rem\">GPE</span>\n",
       "</mark>\n",
       " begin similar research. This eventually led to \n",
       "<mark class=\"entity\" style=\"background: #7aecec; padding: 0.45em 0.6em; margin: 0 0.25em; line-height: 1; border-radius: 0.35em; box-decoration-break: clone; -webkit-box-decoration-break: clone\">\n",
       "    the Manhattan Project\n",
       "    <span style=\"font-size: 0.8em; font-weight: bold; line-height: 1; border-radius: 0.35em; text-transform: uppercase; vertical-align: middle; margin-left: 0.5rem\">ORG</span>\n",
       "</mark>\n",
       ". \n",
       "<mark class=\"entity\" style=\"background: #aa9cfc; padding: 0.45em 0.6em; margin: 0 0.25em; line-height: 1; border-radius: 0.35em; box-decoration-break: clone; -webkit-box-decoration-break: clone\">\n",
       "    Einstein\n",
       "    <span style=\"font-size: 0.8em; font-weight: bold; line-height: 1; border-radius: 0.35em; text-transform: uppercase; vertical-align: middle; margin-left: 0.5rem\">PERSON</span>\n",
       "</mark>\n",
       " supported the \n",
       "<mark class=\"entity\" style=\"background: #7aecec; padding: 0.45em 0.6em; margin: 0 0.25em; line-height: 1; border-radius: 0.35em; box-decoration-break: clone; -webkit-box-decoration-break: clone\">\n",
       "    Allies\n",
       "    <span style=\"font-size: 0.8em; font-weight: bold; line-height: 1; border-radius: 0.35em; text-transform: uppercase; vertical-align: middle; margin-left: 0.5rem\">ORG</span>\n",
       "</mark>\n",
       ", but he generally denounced the idea of using nuclear fission as a weapon. He signed the \n",
       "<mark class=\"entity\" style=\"background: #aa9cfc; padding: 0.45em 0.6em; margin: 0 0.25em; line-height: 1; border-radius: 0.35em; box-decoration-break: clone; -webkit-box-decoration-break: clone\">\n",
       "    Russell\n",
       "    <span style=\"font-size: 0.8em; font-weight: bold; line-height: 1; border-radius: 0.35em; text-transform: uppercase; vertical-align: middle; margin-left: 0.5rem\">PERSON</span>\n",
       "</mark>\n",
       "–Einstein Manifesto with \n",
       "<mark class=\"entity\" style=\"background: #c887fb; padding: 0.45em 0.6em; margin: 0 0.25em; line-height: 1; border-radius: 0.35em; box-decoration-break: clone; -webkit-box-decoration-break: clone\">\n",
       "    British\n",
       "    <span style=\"font-size: 0.8em; font-weight: bold; line-height: 1; border-radius: 0.35em; text-transform: uppercase; vertical-align: middle; margin-left: 0.5rem\">NORP</span>\n",
       "</mark>\n",
       " philosopher \n",
       "<mark class=\"entity\" style=\"background: #aa9cfc; padding: 0.45em 0.6em; margin: 0 0.25em; line-height: 1; border-radius: 0.35em; box-decoration-break: clone; -webkit-box-decoration-break: clone\">\n",
       "    Bertrand Russell\n",
       "    <span style=\"font-size: 0.8em; font-weight: bold; line-height: 1; border-radius: 0.35em; text-transform: uppercase; vertical-align: middle; margin-left: 0.5rem\">PERSON</span>\n",
       "</mark>\n",
       ", which highlighted the danger of nuclear weapons. He was affiliated with \n",
       "<mark class=\"entity\" style=\"background: #7aecec; padding: 0.45em 0.6em; margin: 0 0.25em; line-height: 1; border-radius: 0.35em; box-decoration-break: clone; -webkit-box-decoration-break: clone\">\n",
       "    the Institute for Advanced Study\n",
       "    <span style=\"font-size: 0.8em; font-weight: bold; line-height: 1; border-radius: 0.35em; text-transform: uppercase; vertical-align: middle; margin-left: 0.5rem\">ORG</span>\n",
       "</mark>\n",
       " in \n",
       "<mark class=\"entity\" style=\"background: #feca74; padding: 0.45em 0.6em; margin: 0 0.25em; line-height: 1; border-radius: 0.35em; box-decoration-break: clone; -webkit-box-decoration-break: clone\">\n",
       "    Princeton\n",
       "    <span style=\"font-size: 0.8em; font-weight: bold; line-height: 1; border-radius: 0.35em; text-transform: uppercase; vertical-align: middle; margin-left: 0.5rem\">GPE</span>\n",
       "</mark>\n",
       ", \n",
       "<mark class=\"entity\" style=\"background: #feca74; padding: 0.45em 0.6em; margin: 0 0.25em; line-height: 1; border-radius: 0.35em; box-decoration-break: clone; -webkit-box-decoration-break: clone\">\n",
       "    New Jersey\n",
       "    <span style=\"font-size: 0.8em; font-weight: bold; line-height: 1; border-radius: 0.35em; text-transform: uppercase; vertical-align: middle; margin-left: 0.5rem\">GPE</span>\n",
       "</mark>\n",
       ", until his death in \n",
       "<mark class=\"entity\" style=\"background: #bfe1d9; padding: 0.45em 0.6em; margin: 0 0.25em; line-height: 1; border-radius: 0.35em; box-decoration-break: clone; -webkit-box-decoration-break: clone\">\n",
       "    1955\n",
       "    <span style=\"font-size: 0.8em; font-weight: bold; line-height: 1; border-radius: 0.35em; text-transform: uppercase; vertical-align: middle; margin-left: 0.5rem\">DATE</span>\n",
       "</mark>\n",
       ". </div>\n",
       "</figure>\n",
       "</body>\n",
       "</html>"
      ],
      "text/plain": [
       "<IPython.core.display.HTML object>"
      ]
     },
     "metadata": {},
     "output_type": "display_data"
    },
    {
     "name": "stdout",
     "output_type": "stream",
     "text": [
      "\n",
      "Using the 'ent' visualizer\n",
      "Serving on http://0.0.0.0:5000 ...\n",
      "\n"
     ]
    },
    {
     "name": "stderr",
     "output_type": "stream",
     "text": [
      "127.0.0.1 - - [08/Aug/2019 22:21:27] \"GET / HTTP/1.1\" 200 10214\n",
      "127.0.0.1 - - [08/Aug/2019 22:21:27] \"GET /favicon.ico HTTP/1.1\" 200 10214\n"
     ]
    }
   ],
   "source": [
    "displacy.serve(doc, style='ent')"
   ]
  },
  {
   "cell_type": "code",
   "execution_count": null,
   "metadata": {},
   "outputs": [],
   "source": [
    "4"
   ]
  },
  {
   "cell_type": "code",
   "execution_count": null,
   "metadata": {},
   "outputs": [],
   "source": []
  }
 ],
 "metadata": {
  "kernelspec": {
   "display_name": "Python 3",
   "language": "python",
   "name": "python3"
  },
  "language_info": {
   "codemirror_mode": {
    "name": "ipython",
    "version": 3
   },
   "file_extension": ".py",
   "mimetype": "text/x-python",
   "name": "python",
   "nbconvert_exporter": "python",
   "pygments_lexer": "ipython3",
   "version": "3.7.3"
  }
 },
 "nbformat": 4,
 "nbformat_minor": 2
}
